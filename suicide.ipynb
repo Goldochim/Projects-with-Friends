{
 "cells": [
  {
   "cell_type": "markdown",
   "metadata": {},
   "source": [
    "Importing Modules and seeing what our dataset looks like..."
   ]
  },
  {
   "cell_type": "code",
   "execution_count": null,
   "metadata": {},
   "outputs": [],
   "source": [
    "import pandas as pd\n",
    "import numpy as np\n",
    "import matplotlib.pyplot as plt\n",
    "import seaborn as sns"
   ]
  },
  {
   "cell_type": "code",
   "execution_count": 2,
   "metadata": {},
   "outputs": [],
   "source": [
    "df=pd.read_csv('suicide_attacks edited.csv')"
   ]
  },
  {
   "cell_type": "code",
   "execution_count": 3,
   "metadata": {
    "scrolled": true
   },
   "outputs": [
    {
     "data": {
      "text/html": [
       "<div>\n",
       "<style scoped>\n",
       "    .dataframe tbody tr th:only-of-type {\n",
       "        vertical-align: middle;\n",
       "    }\n",
       "\n",
       "    .dataframe tbody tr th {\n",
       "        vertical-align: top;\n",
       "    }\n",
       "\n",
       "    .dataframe thead th {\n",
       "        text-align: right;\n",
       "    }\n",
       "</style>\n",
       "<table border=\"1\" class=\"dataframe\">\n",
       "  <thead>\n",
       "    <tr style=\"text-align: right;\">\n",
       "      <th></th>\n",
       "      <th>terrorist groups</th>\n",
       "      <th>attacker_age</th>\n",
       "      <th>campaign_name</th>\n",
       "      <th>campaign_sides</th>\n",
       "      <th>day</th>\n",
       "      <th>month</th>\n",
       "      <th>year</th>\n",
       "      <th>no_killed</th>\n",
       "      <th>no_wounded</th>\n",
       "      <th>target_country</th>\n",
       "      <th>...</th>\n",
       "      <th>target_name</th>\n",
       "      <th>target_type</th>\n",
       "      <th>target_weapon</th>\n",
       "      <th>attackers_birth_location</th>\n",
       "      <th>attackers_birth_year</th>\n",
       "      <th>attackers_education</th>\n",
       "      <th>attackers_gender</th>\n",
       "      <th>attackers_marital</th>\n",
       "      <th>attacker_occupation</th>\n",
       "      <th>attacker_religion</th>\n",
       "    </tr>\n",
       "  </thead>\n",
       "  <tbody>\n",
       "    <tr>\n",
       "      <th>0</th>\n",
       "      <td>Lebanese National Resistance Front,Armed Strug...</td>\n",
       "      <td>15</td>\n",
       "      <td>Hezbollah vs. Israel</td>\n",
       "      <td>Hezbollah,Israel</td>\n",
       "      <td>11</td>\n",
       "      <td>11</td>\n",
       "      <td>1982</td>\n",
       "      <td>115</td>\n",
       "      <td>28</td>\n",
       "      <td>Lebanon</td>\n",
       "      <td>...</td>\n",
       "      <td>Israeli Defense Forces (IDF) headquarters</td>\n",
       "      <td>Security</td>\n",
       "      <td>Car bomb</td>\n",
       "      <td>Lebanon</td>\n",
       "      <td>1967</td>\n",
       "      <td>Primary</td>\n",
       "      <td>Male</td>\n",
       "      <td>Unknown</td>\n",
       "      <td>Unskilled</td>\n",
       "      <td>Secular</td>\n",
       "    </tr>\n",
       "    <tr>\n",
       "      <th>1</th>\n",
       "      <td>Unknown Group</td>\n",
       "      <td>-1</td>\n",
       "      <td>Hezbollah vs. U.S. &amp; France</td>\n",
       "      <td>Hezbollah,U.S. &amp; France</td>\n",
       "      <td>18</td>\n",
       "      <td>4</td>\n",
       "      <td>1983</td>\n",
       "      <td>60</td>\n",
       "      <td>120</td>\n",
       "      <td>Lebanon</td>\n",
       "      <td>...</td>\n",
       "      <td>U.S. Embassy in Lebanon</td>\n",
       "      <td>Political</td>\n",
       "      <td>Car bomb</td>\n",
       "      <td>Unknown</td>\n",
       "      <td>-1</td>\n",
       "      <td>Unknown</td>\n",
       "      <td>Unknown</td>\n",
       "      <td>Unknown</td>\n",
       "      <td>Unknown</td>\n",
       "      <td>Unknown</td>\n",
       "    </tr>\n",
       "    <tr>\n",
       "      <th>2</th>\n",
       "      <td>Lebanese Islamic Jihad (Hezbollah)</td>\n",
       "      <td>24</td>\n",
       "      <td>Hezbollah vs. U.S. &amp; France</td>\n",
       "      <td>Hezbollah,U.S. &amp; France</td>\n",
       "      <td>23</td>\n",
       "      <td>10</td>\n",
       "      <td>1983</td>\n",
       "      <td>58</td>\n",
       "      <td>88</td>\n",
       "      <td>Lebanon</td>\n",
       "      <td>...</td>\n",
       "      <td>Barracks for French Paratroopers</td>\n",
       "      <td>Security</td>\n",
       "      <td>Truck bomb</td>\n",
       "      <td>Unknown</td>\n",
       "      <td>1959</td>\n",
       "      <td>Unknown</td>\n",
       "      <td>Male</td>\n",
       "      <td>Unknown</td>\n",
       "      <td>Unknown</td>\n",
       "      <td>Unknown</td>\n",
       "    </tr>\n",
       "    <tr>\n",
       "      <th>3</th>\n",
       "      <td>Lebanese Islamic Jihad (Hezbollah)</td>\n",
       "      <td>26</td>\n",
       "      <td>Hezbollah vs. U.S. &amp; France</td>\n",
       "      <td>Hezbollah,U.S. &amp; France</td>\n",
       "      <td>23</td>\n",
       "      <td>10</td>\n",
       "      <td>1983</td>\n",
       "      <td>230</td>\n",
       "      <td>88</td>\n",
       "      <td>Lebanon</td>\n",
       "      <td>...</td>\n",
       "      <td>US Marine Barracks</td>\n",
       "      <td>Security</td>\n",
       "      <td>Truck bomb</td>\n",
       "      <td>Unknown</td>\n",
       "      <td>1957</td>\n",
       "      <td>Unknown</td>\n",
       "      <td>Male</td>\n",
       "      <td>Unknown</td>\n",
       "      <td>Unknown</td>\n",
       "      <td>Unknown</td>\n",
       "    </tr>\n",
       "    <tr>\n",
       "      <th>4</th>\n",
       "      <td>Lebanese Islamic Jihad (Hezbollah)</td>\n",
       "      <td>-1</td>\n",
       "      <td>Hezbollah vs. Israel</td>\n",
       "      <td>Hezbollah,Israel</td>\n",
       "      <td>4</td>\n",
       "      <td>11</td>\n",
       "      <td>1983</td>\n",
       "      <td>60</td>\n",
       "      <td>10</td>\n",
       "      <td>Lebanon</td>\n",
       "      <td>...</td>\n",
       "      <td>Israeli Defense Forces (IDF) Headquarters</td>\n",
       "      <td>Security</td>\n",
       "      <td>Truck bomb</td>\n",
       "      <td>Unknown</td>\n",
       "      <td>-1</td>\n",
       "      <td>Unknown</td>\n",
       "      <td>Male</td>\n",
       "      <td>Unknown</td>\n",
       "      <td>Unknown</td>\n",
       "      <td>Unknown</td>\n",
       "    </tr>\n",
       "  </tbody>\n",
       "</table>\n",
       "<p>5 rows × 21 columns</p>\n",
       "</div>"
      ],
      "text/plain": [
       "                                    terrorist groups  attacker_age  \\\n",
       "0  Lebanese National Resistance Front,Armed Strug...            15   \n",
       "1                                      Unknown Group            -1   \n",
       "2                 Lebanese Islamic Jihad (Hezbollah)            24   \n",
       "3                 Lebanese Islamic Jihad (Hezbollah)            26   \n",
       "4                 Lebanese Islamic Jihad (Hezbollah)            -1   \n",
       "\n",
       "                 campaign_name           campaign_sides  day  month  year  \\\n",
       "0         Hezbollah vs. Israel         Hezbollah,Israel   11     11  1982   \n",
       "1  Hezbollah vs. U.S. & France  Hezbollah,U.S. & France   18      4  1983   \n",
       "2  Hezbollah vs. U.S. & France  Hezbollah,U.S. & France   23     10  1983   \n",
       "3  Hezbollah vs. U.S. & France  Hezbollah,U.S. & France   23     10  1983   \n",
       "4         Hezbollah vs. Israel         Hezbollah,Israel    4     11  1983   \n",
       "\n",
       "   no_killed  no_wounded target_country  ...  \\\n",
       "0        115          28        Lebanon  ...   \n",
       "1         60         120        Lebanon  ...   \n",
       "2         58          88        Lebanon  ...   \n",
       "3        230          88        Lebanon  ...   \n",
       "4         60          10        Lebanon  ...   \n",
       "\n",
       "                                 target_name target_type target_weapon  \\\n",
       "0  Israeli Defense Forces (IDF) headquarters    Security      Car bomb   \n",
       "1                    U.S. Embassy in Lebanon   Political      Car bomb   \n",
       "2           Barracks for French Paratroopers    Security    Truck bomb   \n",
       "3                         US Marine Barracks    Security    Truck bomb   \n",
       "4  Israeli Defense Forces (IDF) Headquarters    Security    Truck bomb   \n",
       "\n",
       "  attackers_birth_location attackers_birth_year  attackers_education  \\\n",
       "0                  Lebanon                 1967              Primary   \n",
       "1                  Unknown                   -1              Unknown   \n",
       "2                  Unknown                 1959              Unknown   \n",
       "3                  Unknown                 1957              Unknown   \n",
       "4                  Unknown                   -1              Unknown   \n",
       "\n",
       "  attackers_gender attackers_marital attacker_occupation attacker_religion  \n",
       "0             Male           Unknown           Unskilled           Secular  \n",
       "1          Unknown           Unknown             Unknown           Unknown  \n",
       "2             Male           Unknown             Unknown           Unknown  \n",
       "3             Male           Unknown             Unknown           Unknown  \n",
       "4             Male           Unknown             Unknown           Unknown  \n",
       "\n",
       "[5 rows x 21 columns]"
      ]
     },
     "execution_count": 3,
     "metadata": {},
     "output_type": "execute_result"
    }
   ],
   "source": [
    "df.head()"
   ]
  },
  {
   "cell_type": "code",
   "execution_count": 28,
   "metadata": {},
   "outputs": [],
   "source": [
    "df_killed=df['no_killed']\n",
    "df_wounded=df['no_wounded']\n",
    "df_year=df['year']"
   ]
  },
  {
   "cell_type": "code",
   "execution_count": 5,
   "metadata": {
    "scrolled": true
   },
   "outputs": [
    {
     "data": {
      "text/plain": [
       "count    4616.000000\n",
       "mean        9.927210\n",
       "std        43.069773\n",
       "min         0.000000\n",
       "25%         1.000000\n",
       "50%         4.000000\n",
       "75%        11.000000\n",
       "max      2739.000000\n",
       "Name: no_killed, dtype: float64"
      ]
     },
     "execution_count": 5,
     "metadata": {},
     "output_type": "execute_result"
    }
   ],
   "source": [
    "df_killed.describe()"
   ]
  },
  {
   "cell_type": "code",
   "execution_count": 11,
   "metadata": {},
   "outputs": [
    {
     "data": {
      "text/plain": [
       "count    4616.000000\n",
       "mean       25.560875\n",
       "std       124.148730\n",
       "min         0.000000\n",
       "25%         3.000000\n",
       "50%        10.000000\n",
       "75%        26.000000\n",
       "max      6185.000000\n",
       "Name: no_wounded, dtype: float64"
      ]
     },
     "execution_count": 11,
     "metadata": {},
     "output_type": "execute_result"
    }
   ],
   "source": [
    "df_wounded.describe()"
   ]
  },
  {
   "cell_type": "code",
   "execution_count": 29,
   "metadata": {},
   "outputs": [
    {
     "data": {
      "text/plain": [
       "count    4616.000000\n",
       "mean     2008.836005\n",
       "std         4.762003\n",
       "min      1982.000000\n",
       "25%      2006.000000\n",
       "50%      2009.000000\n",
       "75%      2013.000000\n",
       "max      2015.000000\n",
       "Name: year, dtype: float64"
      ]
     },
     "execution_count": 29,
     "metadata": {},
     "output_type": "execute_result"
    }
   ],
   "source": [
    "df_year.describe()"
   ]
  },
  {
   "cell_type": "markdown",
   "metadata": {},
   "source": [
    "We can see that from this dataset that the dataset spans from 1982 to 2015. The maximum number of people killed during a single suicide attack is 2739 and the highest number wounded per attack is 6185. This is quite disturbing!"
   ]
  },
  {
   "cell_type": "markdown",
   "metadata": {},
   "source": [
    "# suicide Attacks with highest human casualty"
   ]
  },
  {
   "cell_type": "code",
   "execution_count": 16,
   "metadata": {},
   "outputs": [
    {
     "data": {
      "text/html": [
       "<div>\n",
       "<style scoped>\n",
       "    .dataframe tbody tr th:only-of-type {\n",
       "        vertical-align: middle;\n",
       "    }\n",
       "\n",
       "    .dataframe tbody tr th {\n",
       "        vertical-align: top;\n",
       "    }\n",
       "\n",
       "    .dataframe thead th {\n",
       "        text-align: right;\n",
       "    }\n",
       "</style>\n",
       "<table border=\"1\" class=\"dataframe\">\n",
       "  <thead>\n",
       "    <tr style=\"text-align: right;\">\n",
       "      <th></th>\n",
       "      <th>terrorist groups</th>\n",
       "      <th>campaign_name</th>\n",
       "      <th>campaign_sides</th>\n",
       "      <th>day</th>\n",
       "      <th>month</th>\n",
       "      <th>year</th>\n",
       "      <th>no_killed</th>\n",
       "      <th>no_wounded</th>\n",
       "      <th>target_country</th>\n",
       "      <th>target_location</th>\n",
       "      <th>target_name</th>\n",
       "      <th>target_type</th>\n",
       "      <th>target_weapon</th>\n",
       "      <th>attackers_birth_location</th>\n",
       "      <th>attackers_education</th>\n",
       "      <th>attackers_gender</th>\n",
       "      <th>attackers_marital</th>\n",
       "      <th>attacker_occupation</th>\n",
       "      <th>attacker_religion</th>\n",
       "    </tr>\n",
       "  </thead>\n",
       "  <tbody>\n",
       "    <tr>\n",
       "      <th>199</th>\n",
       "      <td>Al-Qaeda Central</td>\n",
       "      <td>Al Qaeda vs. U.S. &amp; Allies</td>\n",
       "      <td>Al Qaeda,U.S. &amp; Allies</td>\n",
       "      <td>11</td>\n",
       "      <td>9</td>\n",
       "      <td>2001</td>\n",
       "      <td>2739</td>\n",
       "      <td>6185</td>\n",
       "      <td>United States</td>\n",
       "      <td>United States, New YorkNew York</td>\n",
       "      <td>World Trade Center</td>\n",
       "      <td>Civilian</td>\n",
       "      <td>Airplane</td>\n",
       "      <td>Egypt</td>\n",
       "      <td>Post-secondary</td>\n",
       "      <td>Male</td>\n",
       "      <td>Unmarried</td>\n",
       "      <td>Professional</td>\n",
       "      <td>Muslim (NA)</td>\n",
       "    </tr>\n",
       "  </tbody>\n",
       "</table>\n",
       "</div>"
      ],
      "text/plain": [
       "     terrorist groups               campaign_name          campaign_sides  \\\n",
       "199  Al-Qaeda Central  Al Qaeda vs. U.S. & Allies  Al Qaeda,U.S. & Allies   \n",
       "\n",
       "     day  month  year  no_killed  no_wounded target_country  \\\n",
       "199   11      9  2001       2739        6185  United States   \n",
       "\n",
       "                     target_location         target_name target_type  \\\n",
       "199  United States, New YorkNew York  World Trade Center    Civilian   \n",
       "\n",
       "    target_weapon attackers_birth_location attackers_education  \\\n",
       "199      Airplane                    Egypt      Post-secondary   \n",
       "\n",
       "    attackers_gender attackers_marital attacker_occupation attacker_religion  \n",
       "199             Male         Unmarried        Professional       Muslim (NA)  "
      ]
     },
     "execution_count": 16,
     "metadata": {},
     "output_type": "execute_result"
    }
   ],
   "source": [
    "#getting more information about the row with the highest no of kills and wounded per attack\n",
    "df[df['no_killed']==df['no_killed'].max()]"
   ]
  },
  {
   "cell_type": "code",
   "execution_count": 17,
   "metadata": {
    "scrolled": true
   },
   "outputs": [
    {
     "data": {
      "text/html": [
       "<div>\n",
       "<style scoped>\n",
       "    .dataframe tbody tr th:only-of-type {\n",
       "        vertical-align: middle;\n",
       "    }\n",
       "\n",
       "    .dataframe tbody tr th {\n",
       "        vertical-align: top;\n",
       "    }\n",
       "\n",
       "    .dataframe thead th {\n",
       "        text-align: right;\n",
       "    }\n",
       "</style>\n",
       "<table border=\"1\" class=\"dataframe\">\n",
       "  <thead>\n",
       "    <tr style=\"text-align: right;\">\n",
       "      <th></th>\n",
       "      <th>terrorist groups</th>\n",
       "      <th>campaign_name</th>\n",
       "      <th>campaign_sides</th>\n",
       "      <th>day</th>\n",
       "      <th>month</th>\n",
       "      <th>year</th>\n",
       "      <th>no_killed</th>\n",
       "      <th>no_wounded</th>\n",
       "      <th>target_country</th>\n",
       "      <th>target_location</th>\n",
       "      <th>target_name</th>\n",
       "      <th>target_type</th>\n",
       "      <th>target_weapon</th>\n",
       "      <th>attackers_birth_location</th>\n",
       "      <th>attackers_education</th>\n",
       "      <th>attackers_gender</th>\n",
       "      <th>attackers_marital</th>\n",
       "      <th>attacker_occupation</th>\n",
       "      <th>attacker_religion</th>\n",
       "    </tr>\n",
       "  </thead>\n",
       "  <tbody>\n",
       "    <tr>\n",
       "      <th>199</th>\n",
       "      <td>Al-Qaeda Central</td>\n",
       "      <td>Al Qaeda vs. U.S. &amp; Allies</td>\n",
       "      <td>Al Qaeda,U.S. &amp; Allies</td>\n",
       "      <td>11</td>\n",
       "      <td>9</td>\n",
       "      <td>2001</td>\n",
       "      <td>2739</td>\n",
       "      <td>6185</td>\n",
       "      <td>United States</td>\n",
       "      <td>United States, New YorkNew York</td>\n",
       "      <td>World Trade Center</td>\n",
       "      <td>Civilian</td>\n",
       "      <td>Airplane</td>\n",
       "      <td>Egypt</td>\n",
       "      <td>Post-secondary</td>\n",
       "      <td>Male</td>\n",
       "      <td>Unmarried</td>\n",
       "      <td>Professional</td>\n",
       "      <td>Muslim (NA)</td>\n",
       "    </tr>\n",
       "  </tbody>\n",
       "</table>\n",
       "</div>"
      ],
      "text/plain": [
       "     terrorist groups               campaign_name          campaign_sides  \\\n",
       "199  Al-Qaeda Central  Al Qaeda vs. U.S. & Allies  Al Qaeda,U.S. & Allies   \n",
       "\n",
       "     day  month  year  no_killed  no_wounded target_country  \\\n",
       "199   11      9  2001       2739        6185  United States   \n",
       "\n",
       "                     target_location         target_name target_type  \\\n",
       "199  United States, New YorkNew York  World Trade Center    Civilian   \n",
       "\n",
       "    target_weapon attackers_birth_location attackers_education  \\\n",
       "199      Airplane                    Egypt      Post-secondary   \n",
       "\n",
       "    attackers_gender attackers_marital attacker_occupation attacker_religion  \n",
       "199             Male         Unmarried        Professional       Muslim (NA)  "
      ]
     },
     "execution_count": 17,
     "metadata": {},
     "output_type": "execute_result"
    }
   ],
   "source": [
    "df[df['no_wounded']==df['no_wounded'].max()]"
   ]
  },
  {
   "cell_type": "markdown",
   "metadata": {},
   "source": [
    "The row with the highest number of WOUNDED and KILLED people was in the same attack, the World Trade center disaster. This was done by a male unmarried Egyptian who had post secondary qualification. He was from the AL-Quaeda sect. The target weapon was an airplane. And the people targeted were civillians. This happened on the 11th of September 2001. \n",
    "Throughout record (based on this dataset and between 1982 and 2015), this is recorded the suicide attack with the most impact on human lives."
   ]
  },
  {
   "cell_type": "code",
   "execution_count": null,
   "metadata": {},
   "outputs": [],
   "source": []
  },
  {
   "cell_type": "markdown",
   "metadata": {},
   "source": [
    "# suicide Attacks with no human casualty"
   ]
  },
  {
   "cell_type": "markdown",
   "metadata": {},
   "source": [
    "There were a couple of suicide attacks accoding to this dataset with no live impacts. This could be due to the fact the plan for the attack was discovered before hand or people were warned of the target location or the plan for execution wasn't carried out well."
   ]
  },
  {
   "cell_type": "code",
   "execution_count": 27,
   "metadata": {
    "scrolled": true
   },
   "outputs": [
    {
     "data": {
      "text/html": [
       "<div>\n",
       "<style scoped>\n",
       "    .dataframe tbody tr th:only-of-type {\n",
       "        vertical-align: middle;\n",
       "    }\n",
       "\n",
       "    .dataframe tbody tr th {\n",
       "        vertical-align: top;\n",
       "    }\n",
       "\n",
       "    .dataframe thead th {\n",
       "        text-align: right;\n",
       "    }\n",
       "</style>\n",
       "<table border=\"1\" class=\"dataframe\">\n",
       "  <thead>\n",
       "    <tr style=\"text-align: right;\">\n",
       "      <th></th>\n",
       "      <th>terrorist groups</th>\n",
       "      <th>campaign_name</th>\n",
       "      <th>campaign_sides</th>\n",
       "      <th>day</th>\n",
       "      <th>month</th>\n",
       "      <th>year</th>\n",
       "      <th>no_killed</th>\n",
       "      <th>no_wounded</th>\n",
       "      <th>target_country</th>\n",
       "      <th>target_location</th>\n",
       "      <th>target_name</th>\n",
       "      <th>target_type</th>\n",
       "      <th>target_weapon</th>\n",
       "      <th>attackers_birth_location</th>\n",
       "      <th>attackers_education</th>\n",
       "      <th>attackers_gender</th>\n",
       "      <th>attackers_marital</th>\n",
       "      <th>attacker_occupation</th>\n",
       "      <th>attacker_religion</th>\n",
       "    </tr>\n",
       "  </thead>\n",
       "  <tbody>\n",
       "    <tr>\n",
       "      <th>37</th>\n",
       "      <td>Islamic Resistance</td>\n",
       "      <td>Hezbollah vs. Israel</td>\n",
       "      <td>Hezbollah,Israel</td>\n",
       "      <td>19</td>\n",
       "      <td>8</td>\n",
       "      <td>1988</td>\n",
       "      <td>0</td>\n",
       "      <td>0</td>\n",
       "      <td>Lebanon</td>\n",
       "      <td>Lebanon, Jisr el KhardaliNabatiye</td>\n",
       "      <td>Israeli Defense Forces (IDF) military convoy</td>\n",
       "      <td>Security</td>\n",
       "      <td>Car bomb</td>\n",
       "      <td>Unknown</td>\n",
       "      <td>Unknown</td>\n",
       "      <td>Male</td>\n",
       "      <td>Unknown</td>\n",
       "      <td>Unknown</td>\n",
       "      <td>Muslim (Shia)</td>\n",
       "    </tr>\n",
       "    <tr>\n",
       "      <th>44</th>\n",
       "      <td>Liberation Tigers of Tamil Eelam</td>\n",
       "      <td>LTTE vs. Sri Lanka &amp; India</td>\n",
       "      <td>LTTE,Sri Lanka &amp; India</td>\n",
       "      <td>19</td>\n",
       "      <td>3</td>\n",
       "      <td>1991</td>\n",
       "      <td>0</td>\n",
       "      <td>0</td>\n",
       "      <td>Sri Lanka</td>\n",
       "      <td>Sri Lanka, SilavathuraiNorthern Province</td>\n",
       "      <td>Sri Lankan Army camp</td>\n",
       "      <td>Security</td>\n",
       "      <td>Truck bomb</td>\n",
       "      <td>Unknown</td>\n",
       "      <td>Unknown</td>\n",
       "      <td>Male</td>\n",
       "      <td>Unknown</td>\n",
       "      <td>Unknown</td>\n",
       "      <td>Hindu</td>\n",
       "    </tr>\n",
       "    <tr>\n",
       "      <th>59</th>\n",
       "      <td>Liberation Tigers of Tamil Eelam</td>\n",
       "      <td>LTTE vs. Sri Lanka &amp; India</td>\n",
       "      <td>LTTE,Sri Lanka &amp; India</td>\n",
       "      <td>10</td>\n",
       "      <td>8</td>\n",
       "      <td>1994</td>\n",
       "      <td>0</td>\n",
       "      <td>0</td>\n",
       "      <td>Sri Lanka</td>\n",
       "      <td>Sri Lanka, KankesanthuraiNorthern Province</td>\n",
       "      <td>Sri Lankan Navy (SLN) ship</td>\n",
       "      <td>Security</td>\n",
       "      <td>Boat bomb</td>\n",
       "      <td>Sri Lanka</td>\n",
       "      <td>Unknown</td>\n",
       "      <td>Female</td>\n",
       "      <td>Unknown</td>\n",
       "      <td>Unknown</td>\n",
       "      <td>Hindu</td>\n",
       "    </tr>\n",
       "    <tr>\n",
       "      <th>63</th>\n",
       "      <td>Liberation Tigers of Tamil Eelam</td>\n",
       "      <td>LTTE vs. Sri Lanka &amp; India</td>\n",
       "      <td>LTTE,Sri Lanka &amp; India</td>\n",
       "      <td>8</td>\n",
       "      <td>11</td>\n",
       "      <td>1994</td>\n",
       "      <td>0</td>\n",
       "      <td>0</td>\n",
       "      <td>Sri Lanka</td>\n",
       "      <td>Sri Lanka, Vettilaikerny (Off Coast)Eastern Pr...</td>\n",
       "      <td>Sri Lankan Navy (SLN) ship</td>\n",
       "      <td>Security</td>\n",
       "      <td>Boat bomb</td>\n",
       "      <td>Sri Lanka</td>\n",
       "      <td>Unknown</td>\n",
       "      <td>Male</td>\n",
       "      <td>Unknown</td>\n",
       "      <td>Unknown</td>\n",
       "      <td>Hindu</td>\n",
       "    </tr>\n",
       "    <tr>\n",
       "      <th>78</th>\n",
       "      <td>Liberation Tigers of Tamil Eelam</td>\n",
       "      <td>LTTE vs. Sri Lanka &amp; India</td>\n",
       "      <td>LTTE,Sri Lanka &amp; India</td>\n",
       "      <td>10</td>\n",
       "      <td>9</td>\n",
       "      <td>1995</td>\n",
       "      <td>0</td>\n",
       "      <td>0</td>\n",
       "      <td>Sri Lanka</td>\n",
       "      <td>Sri Lanka, KankesanthuraiNorthern Province</td>\n",
       "      <td>Sri Lankan Navy (SLN) ship</td>\n",
       "      <td>Security</td>\n",
       "      <td>Scuba bomb</td>\n",
       "      <td>Sri Lanka</td>\n",
       "      <td>Unknown</td>\n",
       "      <td>Female</td>\n",
       "      <td>Unknown</td>\n",
       "      <td>Unknown</td>\n",
       "      <td>Hindu</td>\n",
       "    </tr>\n",
       "    <tr>\n",
       "      <th>...</th>\n",
       "      <td>...</td>\n",
       "      <td>...</td>\n",
       "      <td>...</td>\n",
       "      <td>...</td>\n",
       "      <td>...</td>\n",
       "      <td>...</td>\n",
       "      <td>...</td>\n",
       "      <td>...</td>\n",
       "      <td>...</td>\n",
       "      <td>...</td>\n",
       "      <td>...</td>\n",
       "      <td>...</td>\n",
       "      <td>...</td>\n",
       "      <td>...</td>\n",
       "      <td>...</td>\n",
       "      <td>...</td>\n",
       "      <td>...</td>\n",
       "      <td>...</td>\n",
       "      <td>...</td>\n",
       "    </tr>\n",
       "    <tr>\n",
       "      <th>4581</th>\n",
       "      <td>Unknown Group</td>\n",
       "      <td>Rebels vs. Nigeria &amp; Allies</td>\n",
       "      <td>Rebels,Nigeria &amp; Allies</td>\n",
       "      <td>10</td>\n",
       "      <td>6</td>\n",
       "      <td>2015</td>\n",
       "      <td>0</td>\n",
       "      <td>0</td>\n",
       "      <td>Nigeria</td>\n",
       "      <td>Nigeria, MaiduguriBorno</td>\n",
       "      <td>Maiduguri, the capital city</td>\n",
       "      <td>Unknown</td>\n",
       "      <td>Belt bomb</td>\n",
       "      <td>Unknown</td>\n",
       "      <td>Unknown</td>\n",
       "      <td>Female</td>\n",
       "      <td>Unknown</td>\n",
       "      <td>Unknown</td>\n",
       "      <td>Unknown</td>\n",
       "    </tr>\n",
       "    <tr>\n",
       "      <th>4582</th>\n",
       "      <td>Unknown Group</td>\n",
       "      <td>Egyptian Rebels</td>\n",
       "      <td>Egyptian Rebels</td>\n",
       "      <td>10</td>\n",
       "      <td>6</td>\n",
       "      <td>2015</td>\n",
       "      <td>0</td>\n",
       "      <td>0</td>\n",
       "      <td>Egypt</td>\n",
       "      <td>Egypt, LuxorLuxor</td>\n",
       "      <td>Police Guarding Karnak Temple who had surround...</td>\n",
       "      <td>Security</td>\n",
       "      <td>Belt bomb</td>\n",
       "      <td>Unknown</td>\n",
       "      <td>Unknown</td>\n",
       "      <td>Male</td>\n",
       "      <td>Unknown</td>\n",
       "      <td>Unknown</td>\n",
       "      <td>Unknown</td>\n",
       "    </tr>\n",
       "    <tr>\n",
       "      <th>4599</th>\n",
       "      <td>Unknown Group</td>\n",
       "      <td>Somali Rebels vs. Ethiopia &amp; Allies</td>\n",
       "      <td>Somali Rebels,Ethiopia &amp; Allies</td>\n",
       "      <td>21</td>\n",
       "      <td>6</td>\n",
       "      <td>2015</td>\n",
       "      <td>0</td>\n",
       "      <td>0</td>\n",
       "      <td>Somalia</td>\n",
       "      <td>Somalia, MogadishuBanaadir</td>\n",
       "      <td>A military intelligence base</td>\n",
       "      <td>Security</td>\n",
       "      <td>Car bomb</td>\n",
       "      <td>Unknown</td>\n",
       "      <td>Unknown</td>\n",
       "      <td>Unknown</td>\n",
       "      <td>Unknown</td>\n",
       "      <td>Unknown</td>\n",
       "      <td>Unknown</td>\n",
       "    </tr>\n",
       "    <tr>\n",
       "      <th>4603</th>\n",
       "      <td>Unknown Group</td>\n",
       "      <td>Rebels vs. Syria &amp; Allies</td>\n",
       "      <td>Rebels,Syria &amp; Allies</td>\n",
       "      <td>23</td>\n",
       "      <td>6</td>\n",
       "      <td>2015</td>\n",
       "      <td>0</td>\n",
       "      <td>0</td>\n",
       "      <td>Syria</td>\n",
       "      <td>Syria, Al HasakahAl Hasakah</td>\n",
       "      <td>\"Asayish\" (Kurdish) police station</td>\n",
       "      <td>Unknown</td>\n",
       "      <td>Car bomb</td>\n",
       "      <td>Unknown</td>\n",
       "      <td>Unknown</td>\n",
       "      <td>Male</td>\n",
       "      <td>Unknown</td>\n",
       "      <td>Unknown</td>\n",
       "      <td>Unknown</td>\n",
       "    </tr>\n",
       "    <tr>\n",
       "      <th>4612</th>\n",
       "      <td>Unknown Group</td>\n",
       "      <td>Pakistani Rebels vs. Pakistan &amp; U.S. Allies</td>\n",
       "      <td>Pakistani Rebels,Pakistan &amp; U.S. Allies</td>\n",
       "      <td>29</td>\n",
       "      <td>6</td>\n",
       "      <td>2015</td>\n",
       "      <td>0</td>\n",
       "      <td>0</td>\n",
       "      <td>Pakistan</td>\n",
       "      <td>Pakistan, LahorePunjab Province</td>\n",
       "      <td>Police Trying to Arrest the Terrorists</td>\n",
       "      <td>Security</td>\n",
       "      <td>Belt bomb</td>\n",
       "      <td>Unknown</td>\n",
       "      <td>Unknown</td>\n",
       "      <td>Male</td>\n",
       "      <td>Unknown</td>\n",
       "      <td>Unknown</td>\n",
       "      <td>Unknown</td>\n",
       "    </tr>\n",
       "  </tbody>\n",
       "</table>\n",
       "<p>273 rows × 19 columns</p>\n",
       "</div>"
      ],
      "text/plain": [
       "                      terrorist groups  \\\n",
       "37                  Islamic Resistance   \n",
       "44    Liberation Tigers of Tamil Eelam   \n",
       "59    Liberation Tigers of Tamil Eelam   \n",
       "63    Liberation Tigers of Tamil Eelam   \n",
       "78    Liberation Tigers of Tamil Eelam   \n",
       "...                                ...   \n",
       "4581                     Unknown Group   \n",
       "4582                     Unknown Group   \n",
       "4599                     Unknown Group   \n",
       "4603                     Unknown Group   \n",
       "4612                     Unknown Group   \n",
       "\n",
       "                                    campaign_name  \\\n",
       "37                           Hezbollah vs. Israel   \n",
       "44                     LTTE vs. Sri Lanka & India   \n",
       "59                     LTTE vs. Sri Lanka & India   \n",
       "63                     LTTE vs. Sri Lanka & India   \n",
       "78                     LTTE vs. Sri Lanka & India   \n",
       "...                                           ...   \n",
       "4581                  Rebels vs. Nigeria & Allies   \n",
       "4582                              Egyptian Rebels   \n",
       "4599          Somali Rebels vs. Ethiopia & Allies   \n",
       "4603                    Rebels vs. Syria & Allies   \n",
       "4612  Pakistani Rebels vs. Pakistan & U.S. Allies   \n",
       "\n",
       "                               campaign_sides  day  month  year  no_killed  \\\n",
       "37                           Hezbollah,Israel   19      8  1988          0   \n",
       "44                     LTTE,Sri Lanka & India   19      3  1991          0   \n",
       "59                     LTTE,Sri Lanka & India   10      8  1994          0   \n",
       "63                     LTTE,Sri Lanka & India    8     11  1994          0   \n",
       "78                     LTTE,Sri Lanka & India   10      9  1995          0   \n",
       "...                                       ...  ...    ...   ...        ...   \n",
       "4581                  Rebels,Nigeria & Allies   10      6  2015          0   \n",
       "4582                          Egyptian Rebels   10      6  2015          0   \n",
       "4599          Somali Rebels,Ethiopia & Allies   21      6  2015          0   \n",
       "4603                    Rebels,Syria & Allies   23      6  2015          0   \n",
       "4612  Pakistani Rebels,Pakistan & U.S. Allies   29      6  2015          0   \n",
       "\n",
       "      no_wounded target_country  \\\n",
       "37             0        Lebanon   \n",
       "44             0      Sri Lanka   \n",
       "59             0      Sri Lanka   \n",
       "63             0      Sri Lanka   \n",
       "78             0      Sri Lanka   \n",
       "...          ...            ...   \n",
       "4581           0        Nigeria   \n",
       "4582           0          Egypt   \n",
       "4599           0        Somalia   \n",
       "4603           0          Syria   \n",
       "4612           0       Pakistan   \n",
       "\n",
       "                                        target_location  \\\n",
       "37                    Lebanon, Jisr el KhardaliNabatiye   \n",
       "44             Sri Lanka, SilavathuraiNorthern Province   \n",
       "59           Sri Lanka, KankesanthuraiNorthern Province   \n",
       "63    Sri Lanka, Vettilaikerny (Off Coast)Eastern Pr...   \n",
       "78           Sri Lanka, KankesanthuraiNorthern Province   \n",
       "...                                                 ...   \n",
       "4581                            Nigeria, MaiduguriBorno   \n",
       "4582                                  Egypt, LuxorLuxor   \n",
       "4599                         Somalia, MogadishuBanaadir   \n",
       "4603                        Syria, Al HasakahAl Hasakah   \n",
       "4612                    Pakistan, LahorePunjab Province   \n",
       "\n",
       "                                            target_name target_type  \\\n",
       "37         Israeli Defense Forces (IDF) military convoy    Security   \n",
       "44                                 Sri Lankan Army camp    Security   \n",
       "59                           Sri Lankan Navy (SLN) ship    Security   \n",
       "63                           Sri Lankan Navy (SLN) ship    Security   \n",
       "78                           Sri Lankan Navy (SLN) ship    Security   \n",
       "...                                                 ...         ...   \n",
       "4581                        Maiduguri, the capital city     Unknown   \n",
       "4582  Police Guarding Karnak Temple who had surround...    Security   \n",
       "4599                       A military intelligence base    Security   \n",
       "4603                 \"Asayish\" (Kurdish) police station     Unknown   \n",
       "4612             Police Trying to Arrest the Terrorists    Security   \n",
       "\n",
       "     target_weapon attackers_birth_location attackers_education  \\\n",
       "37        Car bomb                  Unknown             Unknown   \n",
       "44      Truck bomb                  Unknown             Unknown   \n",
       "59       Boat bomb                Sri Lanka             Unknown   \n",
       "63       Boat bomb                Sri Lanka             Unknown   \n",
       "78      Scuba bomb                Sri Lanka             Unknown   \n",
       "...            ...                      ...                 ...   \n",
       "4581     Belt bomb                  Unknown             Unknown   \n",
       "4582     Belt bomb                  Unknown             Unknown   \n",
       "4599      Car bomb                  Unknown             Unknown   \n",
       "4603      Car bomb                  Unknown             Unknown   \n",
       "4612     Belt bomb                  Unknown             Unknown   \n",
       "\n",
       "     attackers_gender attackers_marital attacker_occupation attacker_religion  \n",
       "37               Male           Unknown             Unknown     Muslim (Shia)  \n",
       "44               Male           Unknown             Unknown             Hindu  \n",
       "59             Female           Unknown             Unknown             Hindu  \n",
       "63               Male           Unknown             Unknown             Hindu  \n",
       "78             Female           Unknown             Unknown             Hindu  \n",
       "...               ...               ...                 ...               ...  \n",
       "4581           Female           Unknown             Unknown           Unknown  \n",
       "4582             Male           Unknown             Unknown           Unknown  \n",
       "4599          Unknown           Unknown             Unknown           Unknown  \n",
       "4603             Male           Unknown             Unknown           Unknown  \n",
       "4612             Male           Unknown             Unknown           Unknown  \n",
       "\n",
       "[273 rows x 19 columns]"
      ]
     },
     "execution_count": 27,
     "metadata": {},
     "output_type": "execute_result"
    }
   ],
   "source": [
    "df.loc[(df['no_killed']==0) & (df['no_wounded']==0) ]"
   ]
  },
  {
   "cell_type": "markdown",
   "metadata": {},
   "source": [
    "A total of 273 suicide attack had no human casualties; no injured, no killed people. These were failed suicide attacks."
   ]
  },
  {
   "cell_type": "markdown",
   "metadata": {},
   "source": [
    "# NIGERIA"
   ]
  },
  {
   "cell_type": "code",
   "execution_count": 35,
   "metadata": {},
   "outputs": [
    {
     "data": {
      "text/html": [
       "<div>\n",
       "<style scoped>\n",
       "    .dataframe tbody tr th:only-of-type {\n",
       "        vertical-align: middle;\n",
       "    }\n",
       "\n",
       "    .dataframe tbody tr th {\n",
       "        vertical-align: top;\n",
       "    }\n",
       "\n",
       "    .dataframe thead th {\n",
       "        text-align: right;\n",
       "    }\n",
       "</style>\n",
       "<table border=\"1\" class=\"dataframe\">\n",
       "  <thead>\n",
       "    <tr style=\"text-align: right;\">\n",
       "      <th></th>\n",
       "      <th>terrorist groups</th>\n",
       "      <th>campaign_name</th>\n",
       "      <th>campaign_sides</th>\n",
       "      <th>day</th>\n",
       "      <th>month</th>\n",
       "      <th>year</th>\n",
       "      <th>no_killed</th>\n",
       "      <th>no_wounded</th>\n",
       "      <th>target_country</th>\n",
       "      <th>target_location</th>\n",
       "      <th>target_name</th>\n",
       "      <th>target_type</th>\n",
       "      <th>target_weapon</th>\n",
       "      <th>attackers_birth_location</th>\n",
       "      <th>attackers_education</th>\n",
       "      <th>attackers_gender</th>\n",
       "      <th>attackers_marital</th>\n",
       "      <th>attacker_occupation</th>\n",
       "      <th>attacker_religion</th>\n",
       "    </tr>\n",
       "  </thead>\n",
       "  <tbody>\n",
       "    <tr>\n",
       "      <th>2902</th>\n",
       "      <td>Boko Haram</td>\n",
       "      <td>Rebels vs. Nigeria &amp; Allies</td>\n",
       "      <td>Rebels,Nigeria &amp; Allies</td>\n",
       "      <td>16</td>\n",
       "      <td>6</td>\n",
       "      <td>2011</td>\n",
       "      <td>6</td>\n",
       "      <td>0</td>\n",
       "      <td>Nigeria</td>\n",
       "      <td>Nigeria, AbujaAbuja Capital Territory</td>\n",
       "      <td>Nigerian Police Headquarters</td>\n",
       "      <td>Security</td>\n",
       "      <td>Car bomb</td>\n",
       "      <td>Nigeria</td>\n",
       "      <td>Unknown</td>\n",
       "      <td>Unknown</td>\n",
       "      <td>Married</td>\n",
       "      <td>Professional</td>\n",
       "      <td>Muslim (Sunni)</td>\n",
       "    </tr>\n",
       "    <tr>\n",
       "      <th>2947</th>\n",
       "      <td>Boko Haram</td>\n",
       "      <td>Rebels vs. Nigeria &amp; Allies</td>\n",
       "      <td>Rebels,Nigeria &amp; Allies</td>\n",
       "      <td>26</td>\n",
       "      <td>8</td>\n",
       "      <td>2011</td>\n",
       "      <td>24</td>\n",
       "      <td>80</td>\n",
       "      <td>Nigeria</td>\n",
       "      <td>Nigeria, AbujaAbuja Capital Territory</td>\n",
       "      <td>United Nations (UN) Headquarters</td>\n",
       "      <td>Political</td>\n",
       "      <td>Car bomb</td>\n",
       "      <td>Unknown</td>\n",
       "      <td>Unknown</td>\n",
       "      <td>Male</td>\n",
       "      <td>Unknown</td>\n",
       "      <td>Unknown</td>\n",
       "      <td>Unknown</td>\n",
       "    </tr>\n",
       "    <tr>\n",
       "      <th>3003</th>\n",
       "      <td>Boko Haram</td>\n",
       "      <td>Rebels vs. Nigeria &amp; Allies</td>\n",
       "      <td>Rebels,Nigeria &amp; Allies</td>\n",
       "      <td>4</td>\n",
       "      <td>11</td>\n",
       "      <td>2011</td>\n",
       "      <td>5</td>\n",
       "      <td>0</td>\n",
       "      <td>Nigeria</td>\n",
       "      <td>Nigeria, DamaturuYobe</td>\n",
       "      <td>Nigerian Police station</td>\n",
       "      <td>Security</td>\n",
       "      <td>Car bomb</td>\n",
       "      <td>Unknown</td>\n",
       "      <td>Unknown</td>\n",
       "      <td>Unknown</td>\n",
       "      <td>Unknown</td>\n",
       "      <td>Unknown</td>\n",
       "      <td>Unknown</td>\n",
       "    </tr>\n",
       "    <tr>\n",
       "      <th>3004</th>\n",
       "      <td>Boko Haram</td>\n",
       "      <td>Rebels vs. Nigeria &amp; Allies</td>\n",
       "      <td>Rebels,Nigeria &amp; Allies</td>\n",
       "      <td>4</td>\n",
       "      <td>11</td>\n",
       "      <td>2011</td>\n",
       "      <td>0</td>\n",
       "      <td>7</td>\n",
       "      <td>Nigeria</td>\n",
       "      <td>Nigeria, MaiduguriBorno</td>\n",
       "      <td>Headquarters of the military anti-terrorism Jo...</td>\n",
       "      <td>Security</td>\n",
       "      <td>Car bomb</td>\n",
       "      <td>Unknown</td>\n",
       "      <td>Unknown</td>\n",
       "      <td>Unknown</td>\n",
       "      <td>Unknown</td>\n",
       "      <td>Unknown</td>\n",
       "      <td>Unknown</td>\n",
       "    </tr>\n",
       "    <tr>\n",
       "      <th>3029</th>\n",
       "      <td>Boko Haram</td>\n",
       "      <td>Rebels vs. Nigeria &amp; Allies</td>\n",
       "      <td>Rebels,Nigeria &amp; Allies</td>\n",
       "      <td>25</td>\n",
       "      <td>12</td>\n",
       "      <td>2011</td>\n",
       "      <td>43</td>\n",
       "      <td>57</td>\n",
       "      <td>Nigeria</td>\n",
       "      <td>Nigeria, MadallaNiger</td>\n",
       "      <td>St. Theresa's Catholic Church in Madalla</td>\n",
       "      <td>Civilian</td>\n",
       "      <td>Car bomb</td>\n",
       "      <td>Unknown</td>\n",
       "      <td>Unknown</td>\n",
       "      <td>Unknown</td>\n",
       "      <td>Unknown</td>\n",
       "      <td>Unknown</td>\n",
       "      <td>Unknown</td>\n",
       "    </tr>\n",
       "    <tr>\n",
       "      <th>...</th>\n",
       "      <td>...</td>\n",
       "      <td>...</td>\n",
       "      <td>...</td>\n",
       "      <td>...</td>\n",
       "      <td>...</td>\n",
       "      <td>...</td>\n",
       "      <td>...</td>\n",
       "      <td>...</td>\n",
       "      <td>...</td>\n",
       "      <td>...</td>\n",
       "      <td>...</td>\n",
       "      <td>...</td>\n",
       "      <td>...</td>\n",
       "      <td>...</td>\n",
       "      <td>...</td>\n",
       "      <td>...</td>\n",
       "      <td>...</td>\n",
       "      <td>...</td>\n",
       "      <td>...</td>\n",
       "    </tr>\n",
       "    <tr>\n",
       "      <th>4585</th>\n",
       "      <td>Unknown Group</td>\n",
       "      <td>Rebels vs. Nigeria &amp; Allies</td>\n",
       "      <td>Rebels,Nigeria &amp; Allies</td>\n",
       "      <td>13</td>\n",
       "      <td>6</td>\n",
       "      <td>2015</td>\n",
       "      <td>3</td>\n",
       "      <td>4</td>\n",
       "      <td>Nigeria</td>\n",
       "      <td>Nigeria, Bale VillageBorno</td>\n",
       "      <td>Nigerian army checkpoint</td>\n",
       "      <td>Security</td>\n",
       "      <td>Motorcycle bomb</td>\n",
       "      <td>Unknown</td>\n",
       "      <td>Unknown</td>\n",
       "      <td>Male</td>\n",
       "      <td>Unknown</td>\n",
       "      <td>Unknown</td>\n",
       "      <td>Unknown</td>\n",
       "    </tr>\n",
       "    <tr>\n",
       "      <th>4592</th>\n",
       "      <td>Unknown Group</td>\n",
       "      <td>Rebels vs. Nigeria &amp; Allies</td>\n",
       "      <td>Rebels,Nigeria &amp; Allies</td>\n",
       "      <td>15</td>\n",
       "      <td>6</td>\n",
       "      <td>2015</td>\n",
       "      <td>8</td>\n",
       "      <td>8</td>\n",
       "      <td>Nigeria</td>\n",
       "      <td>Nigeria, PotiskumYobe</td>\n",
       "      <td>Civilian Vigilante Office in the Igwanda area ...</td>\n",
       "      <td>Security</td>\n",
       "      <td>Belt bomb</td>\n",
       "      <td>Unknown</td>\n",
       "      <td>Unknown</td>\n",
       "      <td>Male</td>\n",
       "      <td>Unknown</td>\n",
       "      <td>Unknown</td>\n",
       "      <td>Unknown</td>\n",
       "    </tr>\n",
       "    <tr>\n",
       "      <th>4594</th>\n",
       "      <td>Unknown Group</td>\n",
       "      <td>Rebels vs. Nigeria &amp; Allies</td>\n",
       "      <td>Rebels,Nigeria &amp; Allies</td>\n",
       "      <td>15</td>\n",
       "      <td>6</td>\n",
       "      <td>2015</td>\n",
       "      <td>2</td>\n",
       "      <td>0</td>\n",
       "      <td>Nigeria</td>\n",
       "      <td>Nigeria, PotiskumYobe</td>\n",
       "      <td>Angry mob chasing the bomber</td>\n",
       "      <td>Civilian</td>\n",
       "      <td>Belt bomb</td>\n",
       "      <td>Unknown</td>\n",
       "      <td>Unknown</td>\n",
       "      <td>Male</td>\n",
       "      <td>Unknown</td>\n",
       "      <td>Unknown</td>\n",
       "      <td>Unknown</td>\n",
       "    </tr>\n",
       "    <tr>\n",
       "      <th>4604</th>\n",
       "      <td>Unknown Group</td>\n",
       "      <td>Rebels vs. Nigeria &amp; Allies</td>\n",
       "      <td>Rebels,Nigeria &amp; Allies</td>\n",
       "      <td>23</td>\n",
       "      <td>6</td>\n",
       "      <td>2015</td>\n",
       "      <td>10</td>\n",
       "      <td>30</td>\n",
       "      <td>Nigeria</td>\n",
       "      <td>Nigeria, GujbaYobe</td>\n",
       "      <td>Weekly market</td>\n",
       "      <td>Civilian</td>\n",
       "      <td>Belt bomb</td>\n",
       "      <td>Unknown</td>\n",
       "      <td>Unknown</td>\n",
       "      <td>Female</td>\n",
       "      <td>Unknown</td>\n",
       "      <td>Unknown</td>\n",
       "      <td>Unknown</td>\n",
       "    </tr>\n",
       "    <tr>\n",
       "      <th>4611</th>\n",
       "      <td>Unknown Group</td>\n",
       "      <td>Rebels vs. Nigeria &amp; Allies</td>\n",
       "      <td>Rebels,Nigeria &amp; Allies</td>\n",
       "      <td>27</td>\n",
       "      <td>6</td>\n",
       "      <td>2015</td>\n",
       "      <td>5</td>\n",
       "      <td>15</td>\n",
       "      <td>Nigeria</td>\n",
       "      <td>Nigeria, MaiduguriBorno</td>\n",
       "      <td>Outside Molai leprosy hospital</td>\n",
       "      <td>Civilian</td>\n",
       "      <td>Belt bomb</td>\n",
       "      <td>Unknown</td>\n",
       "      <td>Unknown</td>\n",
       "      <td>Unknown</td>\n",
       "      <td>Unknown</td>\n",
       "      <td>Unknown</td>\n",
       "      <td>Unknown</td>\n",
       "    </tr>\n",
       "  </tbody>\n",
       "</table>\n",
       "<p>103 rows × 19 columns</p>\n",
       "</div>"
      ],
      "text/plain": [
       "     terrorist groups                campaign_name           campaign_sides  \\\n",
       "2902       Boko Haram  Rebels vs. Nigeria & Allies  Rebels,Nigeria & Allies   \n",
       "2947       Boko Haram  Rebels vs. Nigeria & Allies  Rebels,Nigeria & Allies   \n",
       "3003       Boko Haram  Rebels vs. Nigeria & Allies  Rebels,Nigeria & Allies   \n",
       "3004       Boko Haram  Rebels vs. Nigeria & Allies  Rebels,Nigeria & Allies   \n",
       "3029       Boko Haram  Rebels vs. Nigeria & Allies  Rebels,Nigeria & Allies   \n",
       "...               ...                          ...                      ...   \n",
       "4585    Unknown Group  Rebels vs. Nigeria & Allies  Rebels,Nigeria & Allies   \n",
       "4592    Unknown Group  Rebels vs. Nigeria & Allies  Rebels,Nigeria & Allies   \n",
       "4594    Unknown Group  Rebels vs. Nigeria & Allies  Rebels,Nigeria & Allies   \n",
       "4604    Unknown Group  Rebels vs. Nigeria & Allies  Rebels,Nigeria & Allies   \n",
       "4611    Unknown Group  Rebels vs. Nigeria & Allies  Rebels,Nigeria & Allies   \n",
       "\n",
       "      day  month  year  no_killed  no_wounded target_country  \\\n",
       "2902   16      6  2011          6           0        Nigeria   \n",
       "2947   26      8  2011         24          80        Nigeria   \n",
       "3003    4     11  2011          5           0        Nigeria   \n",
       "3004    4     11  2011          0           7        Nigeria   \n",
       "3029   25     12  2011         43          57        Nigeria   \n",
       "...   ...    ...   ...        ...         ...            ...   \n",
       "4585   13      6  2015          3           4        Nigeria   \n",
       "4592   15      6  2015          8           8        Nigeria   \n",
       "4594   15      6  2015          2           0        Nigeria   \n",
       "4604   23      6  2015         10          30        Nigeria   \n",
       "4611   27      6  2015          5          15        Nigeria   \n",
       "\n",
       "                            target_location  \\\n",
       "2902  Nigeria, AbujaAbuja Capital Territory   \n",
       "2947  Nigeria, AbujaAbuja Capital Territory   \n",
       "3003                  Nigeria, DamaturuYobe   \n",
       "3004                Nigeria, MaiduguriBorno   \n",
       "3029                  Nigeria, MadallaNiger   \n",
       "...                                     ...   \n",
       "4585             Nigeria, Bale VillageBorno   \n",
       "4592                  Nigeria, PotiskumYobe   \n",
       "4594                  Nigeria, PotiskumYobe   \n",
       "4604                     Nigeria, GujbaYobe   \n",
       "4611                Nigeria, MaiduguriBorno   \n",
       "\n",
       "                                            target_name target_type  \\\n",
       "2902                       Nigerian Police Headquarters    Security   \n",
       "2947                   United Nations (UN) Headquarters   Political   \n",
       "3003                            Nigerian Police station    Security   \n",
       "3004  Headquarters of the military anti-terrorism Jo...    Security   \n",
       "3029           St. Theresa's Catholic Church in Madalla    Civilian   \n",
       "...                                                 ...         ...   \n",
       "4585                           Nigerian army checkpoint    Security   \n",
       "4592  Civilian Vigilante Office in the Igwanda area ...    Security   \n",
       "4594                       Angry mob chasing the bomber    Civilian   \n",
       "4604                                      Weekly market    Civilian   \n",
       "4611                     Outside Molai leprosy hospital    Civilian   \n",
       "\n",
       "        target_weapon attackers_birth_location attackers_education  \\\n",
       "2902         Car bomb                  Nigeria             Unknown   \n",
       "2947         Car bomb                  Unknown             Unknown   \n",
       "3003         Car bomb                  Unknown             Unknown   \n",
       "3004         Car bomb                  Unknown             Unknown   \n",
       "3029         Car bomb                  Unknown             Unknown   \n",
       "...               ...                      ...                 ...   \n",
       "4585  Motorcycle bomb                  Unknown             Unknown   \n",
       "4592        Belt bomb                  Unknown             Unknown   \n",
       "4594        Belt bomb                  Unknown             Unknown   \n",
       "4604        Belt bomb                  Unknown             Unknown   \n",
       "4611        Belt bomb                  Unknown             Unknown   \n",
       "\n",
       "     attackers_gender attackers_marital attacker_occupation attacker_religion  \n",
       "2902          Unknown           Married        Professional    Muslim (Sunni)  \n",
       "2947             Male           Unknown             Unknown           Unknown  \n",
       "3003          Unknown           Unknown             Unknown           Unknown  \n",
       "3004          Unknown           Unknown             Unknown           Unknown  \n",
       "3029          Unknown           Unknown             Unknown           Unknown  \n",
       "...               ...               ...                 ...               ...  \n",
       "4585             Male           Unknown             Unknown           Unknown  \n",
       "4592             Male           Unknown             Unknown           Unknown  \n",
       "4594             Male           Unknown             Unknown           Unknown  \n",
       "4604           Female           Unknown             Unknown           Unknown  \n",
       "4611          Unknown           Unknown             Unknown           Unknown  \n",
       "\n",
       "[103 rows x 19 columns]"
      ]
     },
     "execution_count": 35,
     "metadata": {},
     "output_type": "execute_result"
    }
   ],
   "source": [
    "nigeria=df.loc[(df['target_country']=='Nigeria')]\n",
    "nigeria"
   ]
  },
  {
   "cell_type": "code",
   "execution_count": null,
   "metadata": {},
   "outputs": [],
   "source": [
    "#Curious about records about Nigeria. 103 records were found. "
   ]
  },
  {
   "cell_type": "code",
   "execution_count": 63,
   "metadata": {},
   "outputs": [
    {
     "data": {
      "text/plain": [
       "count     103.000000\n",
       "mean     2013.796117\n",
       "std         1.323685\n",
       "min      2011.000000\n",
       "25%      2012.000000\n",
       "50%      2014.000000\n",
       "75%      2015.000000\n",
       "max      2015.000000\n",
       "Name: year, dtype: float64"
      ]
     },
     "execution_count": 63,
     "metadata": {},
     "output_type": "execute_result"
    }
   ],
   "source": [
    "#cheking the year to which this suicide bombing started in Nigeria according to this dataset\n",
    "nigeria['year'].describe()"
   ]
  },
  {
   "cell_type": "markdown",
   "metadata": {},
   "source": [
    "The first attack was in 2011...\n",
    "looking at all the records in 2011 and from the record below, we can see the first attack... on 16th June 2011 at Abuja, the Federal Capital Territory with the weapon of attack being a car bomb."
   ]
  },
  {
   "cell_type": "code",
   "execution_count": 62,
   "metadata": {},
   "outputs": [
    {
     "data": {
      "text/html": [
       "<div>\n",
       "<style scoped>\n",
       "    .dataframe tbody tr th:only-of-type {\n",
       "        vertical-align: middle;\n",
       "    }\n",
       "\n",
       "    .dataframe tbody tr th {\n",
       "        vertical-align: top;\n",
       "    }\n",
       "\n",
       "    .dataframe thead th {\n",
       "        text-align: right;\n",
       "    }\n",
       "</style>\n",
       "<table border=\"1\" class=\"dataframe\">\n",
       "  <thead>\n",
       "    <tr style=\"text-align: right;\">\n",
       "      <th></th>\n",
       "      <th>terrorist groups</th>\n",
       "      <th>campaign_name</th>\n",
       "      <th>campaign_sides</th>\n",
       "      <th>day</th>\n",
       "      <th>month</th>\n",
       "      <th>year</th>\n",
       "      <th>no_killed</th>\n",
       "      <th>no_wounded</th>\n",
       "      <th>target_country</th>\n",
       "      <th>target_location</th>\n",
       "      <th>target_name</th>\n",
       "      <th>target_type</th>\n",
       "      <th>target_weapon</th>\n",
       "      <th>attackers_birth_location</th>\n",
       "      <th>attackers_education</th>\n",
       "      <th>attackers_gender</th>\n",
       "      <th>attackers_marital</th>\n",
       "      <th>attacker_occupation</th>\n",
       "      <th>attacker_religion</th>\n",
       "    </tr>\n",
       "  </thead>\n",
       "  <tbody>\n",
       "    <tr>\n",
       "      <th>2902</th>\n",
       "      <td>Boko Haram</td>\n",
       "      <td>Rebels vs. Nigeria &amp; Allies</td>\n",
       "      <td>Rebels,Nigeria &amp; Allies</td>\n",
       "      <td>16</td>\n",
       "      <td>6</td>\n",
       "      <td>2011</td>\n",
       "      <td>6</td>\n",
       "      <td>0</td>\n",
       "      <td>Nigeria</td>\n",
       "      <td>Nigeria, AbujaAbuja Capital Territory</td>\n",
       "      <td>Nigerian Police Headquarters</td>\n",
       "      <td>Security</td>\n",
       "      <td>Car bomb</td>\n",
       "      <td>Nigeria</td>\n",
       "      <td>Unknown</td>\n",
       "      <td>Unknown</td>\n",
       "      <td>Married</td>\n",
       "      <td>Professional</td>\n",
       "      <td>Muslim (Sunni)</td>\n",
       "    </tr>\n",
       "    <tr>\n",
       "      <th>2947</th>\n",
       "      <td>Boko Haram</td>\n",
       "      <td>Rebels vs. Nigeria &amp; Allies</td>\n",
       "      <td>Rebels,Nigeria &amp; Allies</td>\n",
       "      <td>26</td>\n",
       "      <td>8</td>\n",
       "      <td>2011</td>\n",
       "      <td>24</td>\n",
       "      <td>80</td>\n",
       "      <td>Nigeria</td>\n",
       "      <td>Nigeria, AbujaAbuja Capital Territory</td>\n",
       "      <td>United Nations (UN) Headquarters</td>\n",
       "      <td>Political</td>\n",
       "      <td>Car bomb</td>\n",
       "      <td>Unknown</td>\n",
       "      <td>Unknown</td>\n",
       "      <td>Male</td>\n",
       "      <td>Unknown</td>\n",
       "      <td>Unknown</td>\n",
       "      <td>Unknown</td>\n",
       "    </tr>\n",
       "    <tr>\n",
       "      <th>3003</th>\n",
       "      <td>Boko Haram</td>\n",
       "      <td>Rebels vs. Nigeria &amp; Allies</td>\n",
       "      <td>Rebels,Nigeria &amp; Allies</td>\n",
       "      <td>4</td>\n",
       "      <td>11</td>\n",
       "      <td>2011</td>\n",
       "      <td>5</td>\n",
       "      <td>0</td>\n",
       "      <td>Nigeria</td>\n",
       "      <td>Nigeria, DamaturuYobe</td>\n",
       "      <td>Nigerian Police station</td>\n",
       "      <td>Security</td>\n",
       "      <td>Car bomb</td>\n",
       "      <td>Unknown</td>\n",
       "      <td>Unknown</td>\n",
       "      <td>Unknown</td>\n",
       "      <td>Unknown</td>\n",
       "      <td>Unknown</td>\n",
       "      <td>Unknown</td>\n",
       "    </tr>\n",
       "    <tr>\n",
       "      <th>3004</th>\n",
       "      <td>Boko Haram</td>\n",
       "      <td>Rebels vs. Nigeria &amp; Allies</td>\n",
       "      <td>Rebels,Nigeria &amp; Allies</td>\n",
       "      <td>4</td>\n",
       "      <td>11</td>\n",
       "      <td>2011</td>\n",
       "      <td>0</td>\n",
       "      <td>7</td>\n",
       "      <td>Nigeria</td>\n",
       "      <td>Nigeria, MaiduguriBorno</td>\n",
       "      <td>Headquarters of the military anti-terrorism Jo...</td>\n",
       "      <td>Security</td>\n",
       "      <td>Car bomb</td>\n",
       "      <td>Unknown</td>\n",
       "      <td>Unknown</td>\n",
       "      <td>Unknown</td>\n",
       "      <td>Unknown</td>\n",
       "      <td>Unknown</td>\n",
       "      <td>Unknown</td>\n",
       "    </tr>\n",
       "    <tr>\n",
       "      <th>3029</th>\n",
       "      <td>Boko Haram</td>\n",
       "      <td>Rebels vs. Nigeria &amp; Allies</td>\n",
       "      <td>Rebels,Nigeria &amp; Allies</td>\n",
       "      <td>25</td>\n",
       "      <td>12</td>\n",
       "      <td>2011</td>\n",
       "      <td>43</td>\n",
       "      <td>57</td>\n",
       "      <td>Nigeria</td>\n",
       "      <td>Nigeria, MadallaNiger</td>\n",
       "      <td>St. Theresa's Catholic Church in Madalla</td>\n",
       "      <td>Civilian</td>\n",
       "      <td>Car bomb</td>\n",
       "      <td>Unknown</td>\n",
       "      <td>Unknown</td>\n",
       "      <td>Unknown</td>\n",
       "      <td>Unknown</td>\n",
       "      <td>Unknown</td>\n",
       "      <td>Unknown</td>\n",
       "    </tr>\n",
       "  </tbody>\n",
       "</table>\n",
       "</div>"
      ],
      "text/plain": [
       "     terrorist groups                campaign_name           campaign_sides  \\\n",
       "2902       Boko Haram  Rebels vs. Nigeria & Allies  Rebels,Nigeria & Allies   \n",
       "2947       Boko Haram  Rebels vs. Nigeria & Allies  Rebels,Nigeria & Allies   \n",
       "3003       Boko Haram  Rebels vs. Nigeria & Allies  Rebels,Nigeria & Allies   \n",
       "3004       Boko Haram  Rebels vs. Nigeria & Allies  Rebels,Nigeria & Allies   \n",
       "3029       Boko Haram  Rebels vs. Nigeria & Allies  Rebels,Nigeria & Allies   \n",
       "\n",
       "      day  month  year  no_killed  no_wounded target_country  \\\n",
       "2902   16      6  2011          6           0        Nigeria   \n",
       "2947   26      8  2011         24          80        Nigeria   \n",
       "3003    4     11  2011          5           0        Nigeria   \n",
       "3004    4     11  2011          0           7        Nigeria   \n",
       "3029   25     12  2011         43          57        Nigeria   \n",
       "\n",
       "                            target_location  \\\n",
       "2902  Nigeria, AbujaAbuja Capital Territory   \n",
       "2947  Nigeria, AbujaAbuja Capital Territory   \n",
       "3003                  Nigeria, DamaturuYobe   \n",
       "3004                Nigeria, MaiduguriBorno   \n",
       "3029                  Nigeria, MadallaNiger   \n",
       "\n",
       "                                            target_name target_type  \\\n",
       "2902                       Nigerian Police Headquarters    Security   \n",
       "2947                   United Nations (UN) Headquarters   Political   \n",
       "3003                            Nigerian Police station    Security   \n",
       "3004  Headquarters of the military anti-terrorism Jo...    Security   \n",
       "3029           St. Theresa's Catholic Church in Madalla    Civilian   \n",
       "\n",
       "     target_weapon attackers_birth_location attackers_education  \\\n",
       "2902      Car bomb                  Nigeria             Unknown   \n",
       "2947      Car bomb                  Unknown             Unknown   \n",
       "3003      Car bomb                  Unknown             Unknown   \n",
       "3004      Car bomb                  Unknown             Unknown   \n",
       "3029      Car bomb                  Unknown             Unknown   \n",
       "\n",
       "     attackers_gender attackers_marital attacker_occupation attacker_religion  \n",
       "2902          Unknown           Married        Professional    Muslim (Sunni)  \n",
       "2947             Male           Unknown             Unknown           Unknown  \n",
       "3003          Unknown           Unknown             Unknown           Unknown  \n",
       "3004          Unknown           Unknown             Unknown           Unknown  \n",
       "3029          Unknown           Unknown             Unknown           Unknown  "
      ]
     },
     "execution_count": 62,
     "metadata": {},
     "output_type": "execute_result"
    }
   ],
   "source": [
    "nigeria[nigeria['year']==nigeria['year'].min()]"
   ]
  },
  {
   "cell_type": "markdown",
   "metadata": {},
   "source": [
    "The most attacked group are is shown below:"
   ]
  },
  {
   "cell_type": "code",
   "execution_count": 64,
   "metadata": {},
   "outputs": [
    {
     "data": {
      "text/plain": [
       "Civilian     68\n",
       "Security     29\n",
       "Political     5\n",
       "Unknown       1\n",
       "Name: target_type, dtype: int64"
      ]
     },
     "execution_count": 64,
     "metadata": {},
     "output_type": "execute_result"
    }
   ],
   "source": [
    "nigeria['target_type'].value_counts()"
   ]
  },
  {
   "cell_type": "code",
   "execution_count": 82,
   "metadata": {},
   "outputs": [
    {
     "name": "stderr",
     "output_type": "stream",
     "text": [
      "C:\\Users\\DELL\\anaconda3\\lib\\site-packages\\seaborn\\_decorators.py:36: FutureWarning: Pass the following variable as a keyword arg: x. From version 0.12, the only valid positional argument will be `data`, and passing other arguments without an explicit keyword will result in an error or misinterpretation.\n",
      "  warnings.warn(\n"
     ]
    },
    {
     "data": {
      "text/plain": [
       "<AxesSubplot:xlabel='target_type', ylabel='count'>"
      ]
     },
     "execution_count": 82,
     "metadata": {},
     "output_type": "execute_result"
    },
    {
     "data": {
      "image/png": "[encoded data removed]",
      "text/plain": [
       "<Figure size 432x288 with 1 Axes>"
      ]
     },
     "metadata": {},
     "output_type": "display_data"
    }
   ],
   "source": [
    "sns.set_theme(style='darkgrid')\n",
    "sns.countplot(nigeria['target_type'])"
   ]
  },
  {
   "cell_type": "markdown",
   "metadata": {},
   "source": [
    "It is clear that the most targeted group of people are civillians (68 attacks), then security(29 attacks), then politicians (5 attacks)."
   ]
  },
  {
   "cell_type": "code",
   "execution_count": 38,
   "metadata": {},
   "outputs": [
    {
     "data": {
      "text/plain": [
       "27"
      ]
     },
     "execution_count": 38,
     "metadata": {},
     "output_type": "execute_result"
    }
   ],
   "source": [
    "#finding out the number of unique places these attacks happened in Nigeia and the number of times it happened.\n",
    "nigeria['target_location'].nunique()"
   ]
  },
  {
   "cell_type": "code",
   "execution_count": 42,
   "metadata": {
    "scrolled": true
   },
   "outputs": [
    {
     "data": {
      "text/plain": [
       "Nigeria, MaiduguriBorno                  25\n",
       "Nigeria, KanoKano                        14\n",
       "Nigeria, PotiskumYobe                    13\n",
       "Nigeria, GombeGombe                       7\n",
       "Nigeria, KadunaKaduna                     6\n",
       "Nigeria, JosPlateau                       6\n",
       "Nigeria, DamaturuYobe                     5\n",
       "Nigeria, BiuBorno                         3\n",
       "Nigeria, AbujaAbuja Capital Territory     3\n",
       "Nigeria, Bauchi BauchiBauchi              3\n",
       "Nigeria, KondugaBorno                     2\n",
       "Nigeria, YolaAdamawa                      1\n",
       "Nigeria, GwozaBorno                       1\n",
       "Nigeria, ZariaKaduna                      1\n",
       "Nigeria, SokotoSokoto                     1\n",
       "Nigeria, Bale VillageBorno                1\n",
       "Nigeria, AzareBauchi                      1\n",
       "Nigeria, Beni SheikBorno                  1\n",
       "Nigeria, GarkidaAdamawa                   1\n",
       "Nigeria, Tashan AladeBorno                1\n",
       "Nigeria, MadallaNiger                     1\n",
       "Nigeria, GujbaYobe                        1\n",
       "Nigeria, KontagoraNiger                   1\n",
       "Nigeria, JalingoTaraba                    1\n",
       "Nigeria, LagosLagos                       1\n",
       "Nigeria, NgamduYobe                       1\n",
       "Nigeria, DikwaBorno                       1\n",
       "Name: target_location, dtype: int64"
      ]
     },
     "execution_count": 42,
     "metadata": {},
     "output_type": "execute_result"
    }
   ],
   "source": [
    "location=nigeria['target_location'].value_counts()\n",
    "location"
   ]
  },
  {
   "cell_type": "code",
   "execution_count": 58,
   "metadata": {},
   "outputs": [
    {
     "data": {
      "text/plain": [
       "([<matplotlib.patches.Wedge at 0xa1b75e0>,\n",
       "  <matplotlib.patches.Wedge at 0xc5e14f0>,\n",
       "  <matplotlib.patches.Wedge at 0xaba9520>,\n",
       "  <matplotlib.patches.Wedge at 0xaba94c0>,\n",
       "  <matplotlib.patches.Wedge at 0xaba1fd0>,\n",
       "  <matplotlib.patches.Wedge at 0xaba1280>,\n",
       "  <matplotlib.patches.Wedge at 0xab9a1f0>,\n",
       "  <matplotlib.patches.Wedge at 0xc6e46a0>,\n",
       "  <matplotlib.patches.Wedge at 0xc6e4d60>,\n",
       "  <matplotlib.patches.Wedge at 0xc6f5400>,\n",
       "  <matplotlib.patches.Wedge at 0xc5e2d60>,\n",
       "  <matplotlib.patches.Wedge at 0xc702190>,\n",
       "  <matplotlib.patches.Wedge at 0xc702850>,\n",
       "  <matplotlib.patches.Wedge at 0xc702f40>,\n",
       "  <matplotlib.patches.Wedge at 0xc711640>,\n",
       "  <matplotlib.patches.Wedge at 0xc711d00>,\n",
       "  <matplotlib.patches.Wedge at 0xc71e400>,\n",
       "  <matplotlib.patches.Wedge at 0xc71eac0>,\n",
       "  <matplotlib.patches.Wedge at 0xc72b1c0>,\n",
       "  <matplotlib.patches.Wedge at 0xc72b880>,\n",
       "  <matplotlib.patches.Wedge at 0xc72bf40>,\n",
       "  <matplotlib.patches.Wedge at 0xc73a640>,\n",
       "  <matplotlib.patches.Wedge at 0xc73ad00>,\n",
       "  <matplotlib.patches.Wedge at 0xc748400>,\n",
       "  <matplotlib.patches.Wedge at 0xc748ac0>,\n",
       "  <matplotlib.patches.Wedge at 0xc7551c0>,\n",
       "  <matplotlib.patches.Wedge at 0xc755880>],\n",
       " [Text(0.9400246923255018, 0.8979719248497392, 'Maiduguri Borno'),\n",
       "  Text(-0.4837188467119198, 1.206654912282584, 'Kano Kano'),\n",
       "  Text(-1.2138912136162132, 0.46526134752992027, 'Potiskum Yobe'),\n",
       "  Text(-1.2614909615363707, -0.3140709377864227, 'Gombe Gombe'),\n",
       "  Text(-1.0423215202056997, -0.7768950048211658, 'Kaduna Kaduna'),\n",
       "  Text(-0.695235193641235, -1.0984753185769058, 'Jos Plateau'),\n",
       "  Text(-0.29479691233630506, -1.26613379248679, 'Damaturu Yobe'),\n",
       "  Text(0.019824782179119663, -1.2998488289072505, 'Biu Borno'),\n",
       "  Text(0.25604750532429427, -1.2745350819091663, 'Abuja FCT'),\n",
       "  Text(0.48371885377286894, -1.2066549094520198, 'Bauchi Bauchi'),\n",
       "  Text(0.6614124915127749, -1.1191664380559594, 'Konduga Borno'),\n",
       "  Text(0.7609094100220744, -1.0540478498340855, 'Yola Adamawa'),\n",
       "  Text(0.823753038363655, -1.0056992253087635, 'Gwoza Borno'),\n",
       "  Text(0.8835322512411867, -0.9536093335410893, 'Zaria Kaduna'),\n",
       "  Text(0.940024666052314, -0.8979719523533215, 'Sokoto Sokoto'),\n",
       "  Text(0.9930201272995905, -0.8389940564616089, 'Bale Village Borno'),\n",
       "  Text(1.0423214883827538, -0.7768950475164331, 'Azare Bauchi'),\n",
       "  Text(1.0877453449970342, -0.71190593791405, 'Beni Sheik Borno'),\n",
       "  Text(1.1291227174092329, -0.6442684914151786, 'Garkida Adamawa'),\n",
       "  Text(1.1662996790734341, -0.5742343237679238, 'Tashan Alade Borno'),\n",
       "  Text(1.1991379292478825, -0.5020639666806418, 'Madalla Niger'),\n",
       "  Text(1.22751530748283, -0.4280258986268628, 'Gujba Yobe'),\n",
       "  Text(1.2513262480654452, -0.35239554608771073, 'Kontagora Niger'),\n",
       "  Text(1.2704821727312041, -0.27545425894728637, 'Jalingo Taraba'),\n",
       "  Text(1.2849118201808574, -0.19748826385260423, 'Lagos Lagos'),\n",
       "  Text(1.2945615111771511, -0.1187875994316382, 'Ngamdu Yobe'),\n",
       "  Text(1.299395348235116, -0.03964503733056441, 'Dikwa Borno')])"
      ]
     },
     "execution_count": 58,
     "metadata": {},
     "output_type": "execute_result"
    },
    {
     "data": {
      "image/png": "[encoded data removed]",
      "text/plain": [
       "<Figure size 720x720 with 1 Axes>"
      ]
     },
     "metadata": {},
     "output_type": "display_data"
    }
   ],
   "source": [
    "lab=('Maiduguri Borno', 'Kano Kano','Potiskum Yobe','Gombe Gombe','Kaduna Kaduna','Jos Plateau','Damaturu Yobe', 'Biu Borno','Abuja FCT', 'Bauchi Bauchi','Konduga Borno','Yola Adamawa','Gwoza Borno','Zaria Kaduna','Sokoto Sokoto','Bale Village Borno','Azare Bauchi','Beni Sheik Borno','Garkida Adamawa','Tashan Alade Borno','Madalla Niger','Gujba Yobe','Kontagora Niger','Jalingo Taraba','Lagos Lagos','Ngamdu Yobe','Dikwa Borno')\n",
    "plt.figure(figsize=(10, 10))\n",
    "exp=[0.2, 0.2,0.2,0.2,0.2,0.2,0.2,0.2,0.2,0.2,0.2,0.2,0.2,0.2,0.2,0.2,0.2,0.2,0.2,0.2,0.2,0.2,0.2,0.2,0.2,0.2,0.2]\n",
    "plt.pie(location, labels=lab,explode=exp, shadow=True)"
   ]
  },
  {
   "cell_type": "markdown",
   "metadata": {},
   "source": [
    "So these attacks happened in 27 unique places in Nigeria, with the highest number of attacks being in Maiduguri, Borno and the next being in Kano, then Potiskum in Yobe. There must be something in Maiduguri that makes their attacks easily carried out there. This could be that the sect's major place of residence (or headquarters) is Maiduguri, or the supply of weapons are easily gotten in Maiduguri, or the major place of target is simply Maiduguri for some reason, or it could be anything."
   ]
  },
  {
   "cell_type": "code",
   "execution_count": 70,
   "metadata": {},
   "outputs": [
    {
     "data": {
      "text/plain": [
       "Unknown    47\n",
       "Male       29\n",
       "Female     27\n",
       "Name: attackers_gender, dtype: int64"
      ]
     },
     "execution_count": 70,
     "metadata": {},
     "output_type": "execute_result"
    }
   ],
   "source": [
    "nigeria['attackers_gender'].value_counts()"
   ]
  },
  {
   "cell_type": "code",
   "execution_count": 80,
   "metadata": {},
   "outputs": [
    {
     "name": "stderr",
     "output_type": "stream",
     "text": [
      "C:\\Users\\DELL\\anaconda3\\lib\\site-packages\\seaborn\\_decorators.py:36: FutureWarning: Pass the following variable as a keyword arg: x. From version 0.12, the only valid positional argument will be `data`, and passing other arguments without an explicit keyword will result in an error or misinterpretation.\n",
      "  warnings.warn(\n"
     ]
    },
    {
     "data": {
      "text/plain": [
       "<AxesSubplot:xlabel='attackers_gender', ylabel='count'>"
      ]
     },
     "execution_count": 80,
     "metadata": {},
     "output_type": "execute_result"
    },
    {
     "data": {
      "image/png": "[encoded data removed]",
      "text/plain": [
       "<Figure size 432x288 with 1 Axes>"
      ]
     },
     "metadata": {},
     "output_type": "display_data"
    }
   ],
   "source": [
    "sns.set_theme(style='darkgrid')\n",
    "sns.countplot(nigeria['attackers_gender'])"
   ]
  },
  {
   "cell_type": "markdown",
   "metadata": {},
   "source": [
    "From this, it is clear that females are actively involved in these suicide attacks just as males are since 27 of the attacks were perpetuated by females and 29 by males."
   ]
  },
  {
   "cell_type": "code",
   "execution_count": 74,
   "metadata": {},
   "outputs": [
    {
     "data": {
      "text/plain": [
       "Unknown Group    83\n",
       "Boko Haram       20\n",
       "Name: terrorist groups, dtype: int64"
      ]
     },
     "execution_count": 74,
     "metadata": {},
     "output_type": "execute_result"
    }
   ],
   "source": [
    "#Checking the different terrorist groups responsible for the attacks\n",
    "nigeria['terrorist groups'].value_counts()"
   ]
  },
  {
   "cell_type": "markdown",
   "metadata": {},
   "source": [
    "Some attacks are not claimed by any terrorist groups. According to this dataset, Most of these suicide attackers' terrorist groups are unknown. Only 20 of the attacks are clearly stated to be done by Boko Haram. Some people assume that every other attack was perpetuated by them but what if they are wrong? What if some attacks were done by some other terrorist groups in Nigeria?"
   ]
  },
  {
   "cell_type": "code",
   "execution_count": 77,
   "metadata": {},
   "outputs": [
    {
     "data": {
      "text/plain": [
       "Unknown           102\n",
       "Muslim (Sunni)      1\n",
       "Name: attacker_religion, dtype: int64"
      ]
     },
     "execution_count": 77,
     "metadata": {},
     "output_type": "execute_result"
    }
   ],
   "source": [
    "#Checking the religion of these attackersm, it is seen that most of the religion are unknown. This is logical as no group will like to identify with these terrorist groups.\n",
    "nigeria['attacker_religion'].value_counts()"
   ]
  },
  {
   "cell_type": "markdown",
   "metadata": {},
   "source": [
    "Finding the Total number of attacks per year"
   ]
  },
  {
   "cell_type": "code",
   "execution_count": 78,
   "metadata": {
    "scrolled": true
   },
   "outputs": [
    {
     "data": {
      "text/plain": [
       "2015    43\n",
       "2014    29\n",
       "2012    23\n",
       "2011     5\n",
       "2013     3\n",
       "Name: year, dtype: int64"
      ]
     },
     "execution_count": 78,
     "metadata": {},
     "output_type": "execute_result"
    }
   ],
   "source": [
    "nigeria['year'].value_counts()"
   ]
  },
  {
   "cell_type": "code",
   "execution_count": 134,
   "metadata": {},
   "outputs": [
    {
     "data": {
      "text/plain": [
       "([<matplotlib.axis.XTick at 0xe87da90>,\n",
       "  <matplotlib.axis.XTick at 0xfc783d0>,\n",
       "  <matplotlib.axis.XTick at 0xfc97f10>,\n",
       "  <matplotlib.axis.XTick at 0xfca5820>,\n",
       "  <matplotlib.axis.XTick at 0xfca5d30>],\n",
       " [Text(0, 0, ''),\n",
       "  Text(0, 0, ''),\n",
       "  Text(0, 0, ''),\n",
       "  Text(0, 0, ''),\n",
       "  Text(0, 0, '')])"
      ]
     },
     "execution_count": 134,
     "metadata": {},
     "output_type": "execute_result"
    },
    {
     "data": {
      "image/png": "[encoded data removed]",
      "text/plain": [
       "<Figure size 432x288 with 1 Axes>"
      ]
     },
     "metadata": {},
     "output_type": "display_data"
    }
   ],
   "source": [
    "sns.set_theme(style='darkgrid')\n",
    "sns.lineplot(data=nigeria['year'].value_counts(), marker='o')\n",
    "plt.xlabel('Year')\n",
    "plt.ylabel('Number of attacks')\n",
    "xaxis=[2011, 2012, 2013, 2014, 2015]\n",
    "plt.xticks(xaxis)"
   ]
  },
  {
   "cell_type": "code",
   "execution_count": 67,
   "metadata": {},
   "outputs": [
    {
     "data": {
      "text/html": [
       "<div>\n",
       "<style scoped>\n",
       "    .dataframe tbody tr th:only-of-type {\n",
       "        vertical-align: middle;\n",
       "    }\n",
       "\n",
       "    .dataframe tbody tr th {\n",
       "        vertical-align: top;\n",
       "    }\n",
       "\n",
       "    .dataframe thead th {\n",
       "        text-align: right;\n",
       "    }\n",
       "</style>\n",
       "<table border=\"1\" class=\"dataframe\">\n",
       "  <thead>\n",
       "    <tr style=\"text-align: right;\">\n",
       "      <th></th>\n",
       "      <th>terrorist groups</th>\n",
       "      <th>campaign_name</th>\n",
       "      <th>campaign_sides</th>\n",
       "      <th>day</th>\n",
       "      <th>month</th>\n",
       "      <th>year</th>\n",
       "      <th>no_killed</th>\n",
       "      <th>no_wounded</th>\n",
       "      <th>target_country</th>\n",
       "      <th>target_location</th>\n",
       "      <th>target_name</th>\n",
       "      <th>target_type</th>\n",
       "      <th>target_weapon</th>\n",
       "      <th>attackers_birth_location</th>\n",
       "      <th>attackers_education</th>\n",
       "      <th>attackers_gender</th>\n",
       "      <th>attackers_marital</th>\n",
       "      <th>attacker_occupation</th>\n",
       "      <th>attacker_religion</th>\n",
       "    </tr>\n",
       "  </thead>\n",
       "  <tbody>\n",
       "    <tr>\n",
       "      <th>4267</th>\n",
       "      <td>Unknown Group</td>\n",
       "      <td>Rebels vs. Nigeria &amp; Allies</td>\n",
       "      <td>Rebels,Nigeria &amp; Allies</td>\n",
       "      <td>28</td>\n",
       "      <td>11</td>\n",
       "      <td>2014</td>\n",
       "      <td>120</td>\n",
       "      <td>270</td>\n",
       "      <td>Nigeria</td>\n",
       "      <td>Nigeria, KanoKano</td>\n",
       "      <td>Grand Mosque of Kano</td>\n",
       "      <td>Civilian</td>\n",
       "      <td>Belt bomb</td>\n",
       "      <td>Unknown</td>\n",
       "      <td>Unknown</td>\n",
       "      <td>Unknown</td>\n",
       "      <td>Unknown</td>\n",
       "      <td>Unknown</td>\n",
       "      <td>Unknown</td>\n",
       "    </tr>\n",
       "  </tbody>\n",
       "</table>\n",
       "</div>"
      ],
      "text/plain": [
       "     terrorist groups                campaign_name           campaign_sides  \\\n",
       "4267    Unknown Group  Rebels vs. Nigeria & Allies  Rebels,Nigeria & Allies   \n",
       "\n",
       "      day  month  year  no_killed  no_wounded target_country  \\\n",
       "4267   28     11  2014        120         270        Nigeria   \n",
       "\n",
       "        target_location           target_name target_type target_weapon  \\\n",
       "4267  Nigeria, KanoKano  Grand Mosque of Kano    Civilian     Belt bomb   \n",
       "\n",
       "     attackers_birth_location attackers_education attackers_gender  \\\n",
       "4267                  Unknown             Unknown          Unknown   \n",
       "\n",
       "     attackers_marital attacker_occupation attacker_religion  \n",
       "4267           Unknown             Unknown           Unknown  "
      ]
     },
     "execution_count": 67,
     "metadata": {},
     "output_type": "execute_result"
    }
   ],
   "source": [
    "#searching for the attack with the highest casualties\n",
    "nigeria[nigeria['no_wounded']==nigeria['no_wounded'].max()]"
   ]
  },
  {
   "cell_type": "code",
   "execution_count": 68,
   "metadata": {},
   "outputs": [
    {
     "data": {
      "text/html": [
       "<div>\n",
       "<style scoped>\n",
       "    .dataframe tbody tr th:only-of-type {\n",
       "        vertical-align: middle;\n",
       "    }\n",
       "\n",
       "    .dataframe tbody tr th {\n",
       "        vertical-align: top;\n",
       "    }\n",
       "\n",
       "    .dataframe thead th {\n",
       "        text-align: right;\n",
       "    }\n",
       "</style>\n",
       "<table border=\"1\" class=\"dataframe\">\n",
       "  <thead>\n",
       "    <tr style=\"text-align: right;\">\n",
       "      <th></th>\n",
       "      <th>terrorist groups</th>\n",
       "      <th>campaign_name</th>\n",
       "      <th>campaign_sides</th>\n",
       "      <th>day</th>\n",
       "      <th>month</th>\n",
       "      <th>year</th>\n",
       "      <th>no_killed</th>\n",
       "      <th>no_wounded</th>\n",
       "      <th>target_country</th>\n",
       "      <th>target_location</th>\n",
       "      <th>target_name</th>\n",
       "      <th>target_type</th>\n",
       "      <th>target_weapon</th>\n",
       "      <th>attackers_birth_location</th>\n",
       "      <th>attackers_education</th>\n",
       "      <th>attackers_gender</th>\n",
       "      <th>attackers_marital</th>\n",
       "      <th>attacker_occupation</th>\n",
       "      <th>attacker_religion</th>\n",
       "    </tr>\n",
       "  </thead>\n",
       "  <tbody>\n",
       "    <tr>\n",
       "      <th>4267</th>\n",
       "      <td>Unknown Group</td>\n",
       "      <td>Rebels vs. Nigeria &amp; Allies</td>\n",
       "      <td>Rebels,Nigeria &amp; Allies</td>\n",
       "      <td>28</td>\n",
       "      <td>11</td>\n",
       "      <td>2014</td>\n",
       "      <td>120</td>\n",
       "      <td>270</td>\n",
       "      <td>Nigeria</td>\n",
       "      <td>Nigeria, KanoKano</td>\n",
       "      <td>Grand Mosque of Kano</td>\n",
       "      <td>Civilian</td>\n",
       "      <td>Belt bomb</td>\n",
       "      <td>Unknown</td>\n",
       "      <td>Unknown</td>\n",
       "      <td>Unknown</td>\n",
       "      <td>Unknown</td>\n",
       "      <td>Unknown</td>\n",
       "      <td>Unknown</td>\n",
       "    </tr>\n",
       "  </tbody>\n",
       "</table>\n",
       "</div>"
      ],
      "text/plain": [
       "     terrorist groups                campaign_name           campaign_sides  \\\n",
       "4267    Unknown Group  Rebels vs. Nigeria & Allies  Rebels,Nigeria & Allies   \n",
       "\n",
       "      day  month  year  no_killed  no_wounded target_country  \\\n",
       "4267   28     11  2014        120         270        Nigeria   \n",
       "\n",
       "        target_location           target_name target_type target_weapon  \\\n",
       "4267  Nigeria, KanoKano  Grand Mosque of Kano    Civilian     Belt bomb   \n",
       "\n",
       "     attackers_birth_location attackers_education attackers_gender  \\\n",
       "4267                  Unknown             Unknown          Unknown   \n",
       "\n",
       "     attackers_marital attacker_occupation attacker_religion  \n",
       "4267           Unknown             Unknown           Unknown  "
      ]
     },
     "execution_count": 68,
     "metadata": {},
     "output_type": "execute_result"
    }
   ],
   "source": [
    "nigeria[nigeria['no_killed']==nigeria['no_killed'].max()]"
   ]
  },
  {
   "cell_type": "markdown",
   "metadata": {},
   "source": [
    "For Nigeria, the same suicide attack yielded the highest number of wounded and killed. This was the suicide attack in a mosque in Kano in 2014 (November 28th) and the target group were civillians."
   ]
  },
  {
   "cell_type": "code",
   "execution_count": null,
   "metadata": {},
   "outputs": [],
   "source": []
  },
  {
   "cell_type": "code",
   "execution_count": 118,
   "metadata": {},
   "outputs": [
    {
     "data": {
      "text/plain": [
       "year\n",
       "2011     78\n",
       "2012    183\n",
       "2013     54\n",
       "2014    573\n",
       "2015    459\n",
       "Name: no_killed, dtype: int64"
      ]
     },
     "execution_count": 118,
     "metadata": {},
     "output_type": "execute_result"
    }
   ],
   "source": [
    "#sum of casualties per year (killed)\n",
    "nigeria.groupby('year')['no_killed'].sum()"
   ]
  },
  {
   "cell_type": "code",
   "execution_count": 121,
   "metadata": {
    "scrolled": true
   },
   "outputs": [
    {
     "data": {
      "text/plain": [
       "year\n",
       "2011     144\n",
       "2012     642\n",
       "2013      85\n",
       "2014    1013\n",
       "2015     842\n",
       "Name: no_wounded, dtype: int64"
      ]
     },
     "execution_count": 121,
     "metadata": {},
     "output_type": "execute_result"
    }
   ],
   "source": [
    "#sum of casualties per year (wounded)\n",
    "nigeria.groupby('year')['no_wounded'].sum()"
   ]
  },
  {
   "cell_type": "code",
   "execution_count": null,
   "metadata": {},
   "outputs": [],
   "source": [
    "#Graph of casualties per year"
   ]
  },
  {
   "cell_type": "code",
   "execution_count": 133,
   "metadata": {
    "scrolled": true
   },
   "outputs": [
    {
     "data": {
      "text/plain": [
       "<matplotlib.legend.Legend at 0xeb84df0>"
      ]
     },
     "execution_count": 133,
     "metadata": {},
     "output_type": "execute_result"
    },
    {
     "data": {
      "image/png": "[encoded data removed]",
      "text/plain": [
       "<Figure size 432x288 with 1 Axes>"
      ]
     },
     "metadata": {},
     "output_type": "display_data"
    }
   ],
   "source": [
    "sns.set_theme(style='darkgrid')\n",
    "sns.lineplot(data=nigeria.groupby('year')['no_killed'].sum(), marker='o')\n",
    "sns.lineplot(data=nigeria.groupby('year')['no_wounded'].sum(), marker='o')\n",
    "plt.xlabel('Year')\n",
    "plt.ylabel('Number of attacks')\n",
    "xaxis=[2011, 2012, 2013, 2014, 2015]\n",
    "plt.xticks(xaxis)\n",
    "plt.legend(labels=['number of killed', 'number of wounded'])"
   ]
  },
  {
   "cell_type": "markdown",
   "metadata": {},
   "source": [
    "Target Weapon: These terrorist must have found the easiest mode to cary out their attacks. Below we search for the most frequently used weapon of attack"
   ]
  },
  {
   "cell_type": "code",
   "execution_count": 135,
   "metadata": {},
   "outputs": [
    {
     "data": {
      "text/plain": [
       "Belt bomb          56\n",
       "Car bomb           36\n",
       "Motorcycle bomb     6\n",
       "Backpack bomb       2\n",
       "Truck bomb          2\n",
       "Cart bomb           1\n",
       "Name: target_weapon, dtype: int64"
      ]
     },
     "execution_count": 135,
     "metadata": {},
     "output_type": "execute_result"
    }
   ],
   "source": [
    "nigeria['target_weapon'].value_counts()"
   ]
  },
  {
   "cell_type": "markdown",
   "metadata": {},
   "source": [
    "It is seen that most weapon of attack was the belt bomb. This shows that it was easier to go unnoticed with a belt bomb than other form of weapon. The next easiest form was car bomb. No wonder religious places took alot of precautions when it came to ensuring that cars be parked a distnce away from the place of worship. But i don;t think alot of precaution was taken for belt bombs"
   ]
  },
  {
   "cell_type": "code",
   "execution_count": null,
   "metadata": {},
   "outputs": [],
   "source": []
  },
  {
   "cell_type": "code",
   "execution_count": null,
   "metadata": {},
   "outputs": [],
   "source": []
  },
  {
   "cell_type": "code",
   "execution_count": null,
   "metadata": {},
   "outputs": [],
   "source": []
  },
  {
   "cell_type": "code",
   "execution_count": null,
   "metadata": {},
   "outputs": [],
   "source": []
  },
  {
   "cell_type": "code",
   "execution_count": null,
   "metadata": {},
   "outputs": [],
   "source": []
  },
  {
   "cell_type": "code",
   "execution_count": 8,
   "metadata": {},
   "outputs": [],
   "source": [
    "df=df.drop('attacker_age', axis=1)"
   ]
  }
 ],
 "metadata": {
  "kernelspec": {
   "display_name": "Python 3",
   "language": "python",
   "name": "python3"
  },
  "language_info": {
   "codemirror_mode": {
    "name": "ipython",
    "version": 3
   },
   "file_extension": ".py",
   "mimetype": "text/x-python",
   "name": "python",
   "nbconvert_exporter": "python",
   "pygments_lexer": "ipython3",
   "version": "3.8.5"
  }
 },
 "nbformat": 4,
 "nbformat_minor": 4
}
