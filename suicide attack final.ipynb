{
 "cells": [
  {
   "cell_type": "markdown",
   "metadata": {},
   "source": [
    "# Suicide Attack worldwide"
   ]
  },
  {
   "cell_type": "markdown",
   "metadata": {},
   "source": [
    "This dataset was downloaded from the CORGIS Dataset Project website\n",
    "https://corgis-edu.github.io/corgis/csv/suicide_attacks/"
   ]
  },
  {
   "cell_type": "code",
   "execution_count": 1,
   "metadata": {},
   "outputs": [],
   "source": [
    "#Importing Modules and seeing what our dataset looks like..\n",
    "import pandas as pd\n",
    "import numpy as np\n",
    "import matplotlib.pyplot as plt\n",
    "import seaborn as sns"
   ]
  },
  {
   "cell_type": "code",
   "execution_count": 2,
   "metadata": {},
   "outputs": [],
   "source": [
    "df=pd.read_csv('suicide_attacks edited.csv')"
   ]
  },
  {
   "cell_type": "code",
   "execution_count": 3,
   "metadata": {},
   "outputs": [
    {
     "data": {
      "text/plain": [
       "terrorist groups            object\n",
       "attacker_age                 int64\n",
       "campaign_name               object\n",
       "campaign_sides              object\n",
       "day                          int64\n",
       "month                        int64\n",
       "year                         int64\n",
       "no_killed                    int64\n",
       "no_wounded                   int64\n",
       "target_country              object\n",
       "target_location             object\n",
       "target_name                 object\n",
       "target_type                 object\n",
       "target_weapon               object\n",
       "attackers_birth_location    object\n",
       "attackers_birth_year         int64\n",
       "attackers_education         object\n",
       "attackers_gender            object\n",
       "attackers_marital           object\n",
       "attacker_occupation         object\n",
       "attacker_religion           object\n",
       "dtype: object"
      ]
     },
     "execution_count": 3,
     "metadata": {},
     "output_type": "execute_result"
    }
   ],
   "source": [
    "#all the columns from this particular dataset. Although i dropped the attacker age column and birth year.\n",
    "df.dtypes"
   ]
  },
  {
   "cell_type": "code",
   "execution_count": 4,
   "metadata": {},
   "outputs": [
    {
     "data": {
      "text/plain": [
       "4616"
      ]
     },
     "execution_count": 4,
     "metadata": {},
     "output_type": "execute_result"
    }
   ],
   "source": [
    "len(df)"
   ]
  },
  {
   "cell_type": "code",
   "execution_count": 5,
   "metadata": {
    "scrolled": true
   },
   "outputs": [
    {
     "data": {
      "text/html": [
       "<div>\n",
       "<style scoped>\n",
       "    .dataframe tbody tr th:only-of-type {\n",
       "        vertical-align: middle;\n",
       "    }\n",
       "\n",
       "    .dataframe tbody tr th {\n",
       "        vertical-align: top;\n",
       "    }\n",
       "\n",
       "    .dataframe thead th {\n",
       "        text-align: right;\n",
       "    }\n",
       "</style>\n",
       "<table border=\"1\" class=\"dataframe\">\n",
       "  <thead>\n",
       "    <tr style=\"text-align: right;\">\n",
       "      <th></th>\n",
       "      <th>terrorist groups</th>\n",
       "      <th>attacker_age</th>\n",
       "      <th>campaign_name</th>\n",
       "      <th>campaign_sides</th>\n",
       "      <th>day</th>\n",
       "      <th>month</th>\n",
       "      <th>year</th>\n",
       "      <th>no_killed</th>\n",
       "      <th>no_wounded</th>\n",
       "      <th>target_country</th>\n",
       "      <th>...</th>\n",
       "      <th>target_name</th>\n",
       "      <th>target_type</th>\n",
       "      <th>target_weapon</th>\n",
       "      <th>attackers_birth_location</th>\n",
       "      <th>attackers_birth_year</th>\n",
       "      <th>attackers_education</th>\n",
       "      <th>attackers_gender</th>\n",
       "      <th>attackers_marital</th>\n",
       "      <th>attacker_occupation</th>\n",
       "      <th>attacker_religion</th>\n",
       "    </tr>\n",
       "  </thead>\n",
       "  <tbody>\n",
       "    <tr>\n",
       "      <th>0</th>\n",
       "      <td>Lebanese National Resistance Front,Armed Strug...</td>\n",
       "      <td>15</td>\n",
       "      <td>Hezbollah vs. Israel</td>\n",
       "      <td>Hezbollah,Israel</td>\n",
       "      <td>11</td>\n",
       "      <td>11</td>\n",
       "      <td>1982</td>\n",
       "      <td>115</td>\n",
       "      <td>28</td>\n",
       "      <td>Lebanon</td>\n",
       "      <td>...</td>\n",
       "      <td>Israeli Defense Forces (IDF) headquarters</td>\n",
       "      <td>Security</td>\n",
       "      <td>Car bomb</td>\n",
       "      <td>Lebanon</td>\n",
       "      <td>1967</td>\n",
       "      <td>Primary</td>\n",
       "      <td>Male</td>\n",
       "      <td>Unknown</td>\n",
       "      <td>Unskilled</td>\n",
       "      <td>Secular</td>\n",
       "    </tr>\n",
       "    <tr>\n",
       "      <th>1</th>\n",
       "      <td>Unknown Group</td>\n",
       "      <td>-1</td>\n",
       "      <td>Hezbollah vs. U.S. &amp; France</td>\n",
       "      <td>Hezbollah,U.S. &amp; France</td>\n",
       "      <td>18</td>\n",
       "      <td>4</td>\n",
       "      <td>1983</td>\n",
       "      <td>60</td>\n",
       "      <td>120</td>\n",
       "      <td>Lebanon</td>\n",
       "      <td>...</td>\n",
       "      <td>U.S. Embassy in Lebanon</td>\n",
       "      <td>Political</td>\n",
       "      <td>Car bomb</td>\n",
       "      <td>Unknown</td>\n",
       "      <td>-1</td>\n",
       "      <td>Unknown</td>\n",
       "      <td>Unknown</td>\n",
       "      <td>Unknown</td>\n",
       "      <td>Unknown</td>\n",
       "      <td>Unknown</td>\n",
       "    </tr>\n",
       "    <tr>\n",
       "      <th>2</th>\n",
       "      <td>Lebanese Islamic Jihad (Hezbollah)</td>\n",
       "      <td>24</td>\n",
       "      <td>Hezbollah vs. U.S. &amp; France</td>\n",
       "      <td>Hezbollah,U.S. &amp; France</td>\n",
       "      <td>23</td>\n",
       "      <td>10</td>\n",
       "      <td>1983</td>\n",
       "      <td>58</td>\n",
       "      <td>88</td>\n",
       "      <td>Lebanon</td>\n",
       "      <td>...</td>\n",
       "      <td>Barracks for French Paratroopers</td>\n",
       "      <td>Security</td>\n",
       "      <td>Truck bomb</td>\n",
       "      <td>Unknown</td>\n",
       "      <td>1959</td>\n",
       "      <td>Unknown</td>\n",
       "      <td>Male</td>\n",
       "      <td>Unknown</td>\n",
       "      <td>Unknown</td>\n",
       "      <td>Unknown</td>\n",
       "    </tr>\n",
       "    <tr>\n",
       "      <th>3</th>\n",
       "      <td>Lebanese Islamic Jihad (Hezbollah)</td>\n",
       "      <td>26</td>\n",
       "      <td>Hezbollah vs. U.S. &amp; France</td>\n",
       "      <td>Hezbollah,U.S. &amp; France</td>\n",
       "      <td>23</td>\n",
       "      <td>10</td>\n",
       "      <td>1983</td>\n",
       "      <td>230</td>\n",
       "      <td>88</td>\n",
       "      <td>Lebanon</td>\n",
       "      <td>...</td>\n",
       "      <td>US Marine Barracks</td>\n",
       "      <td>Security</td>\n",
       "      <td>Truck bomb</td>\n",
       "      <td>Unknown</td>\n",
       "      <td>1957</td>\n",
       "      <td>Unknown</td>\n",
       "      <td>Male</td>\n",
       "      <td>Unknown</td>\n",
       "      <td>Unknown</td>\n",
       "      <td>Unknown</td>\n",
       "    </tr>\n",
       "    <tr>\n",
       "      <th>4</th>\n",
       "      <td>Lebanese Islamic Jihad (Hezbollah)</td>\n",
       "      <td>-1</td>\n",
       "      <td>Hezbollah vs. Israel</td>\n",
       "      <td>Hezbollah,Israel</td>\n",
       "      <td>4</td>\n",
       "      <td>11</td>\n",
       "      <td>1983</td>\n",
       "      <td>60</td>\n",
       "      <td>10</td>\n",
       "      <td>Lebanon</td>\n",
       "      <td>...</td>\n",
       "      <td>Israeli Defense Forces (IDF) Headquarters</td>\n",
       "      <td>Security</td>\n",
       "      <td>Truck bomb</td>\n",
       "      <td>Unknown</td>\n",
       "      <td>-1</td>\n",
       "      <td>Unknown</td>\n",
       "      <td>Male</td>\n",
       "      <td>Unknown</td>\n",
       "      <td>Unknown</td>\n",
       "      <td>Unknown</td>\n",
       "    </tr>\n",
       "  </tbody>\n",
       "</table>\n",
       "<p>5 rows × 21 columns</p>\n",
       "</div>"
      ],
      "text/plain": [
       "                                    terrorist groups  attacker_age  \\\n",
       "0  Lebanese National Resistance Front,Armed Strug...            15   \n",
       "1                                      Unknown Group            -1   \n",
       "2                 Lebanese Islamic Jihad (Hezbollah)            24   \n",
       "3                 Lebanese Islamic Jihad (Hezbollah)            26   \n",
       "4                 Lebanese Islamic Jihad (Hezbollah)            -1   \n",
       "\n",
       "                 campaign_name           campaign_sides  day  month  year  \\\n",
       "0         Hezbollah vs. Israel         Hezbollah,Israel   11     11  1982   \n",
       "1  Hezbollah vs. U.S. & France  Hezbollah,U.S. & France   18      4  1983   \n",
       "2  Hezbollah vs. U.S. & France  Hezbollah,U.S. & France   23     10  1983   \n",
       "3  Hezbollah vs. U.S. & France  Hezbollah,U.S. & France   23     10  1983   \n",
       "4         Hezbollah vs. Israel         Hezbollah,Israel    4     11  1983   \n",
       "\n",
       "   no_killed  no_wounded target_country  ...  \\\n",
       "0        115          28        Lebanon  ...   \n",
       "1         60         120        Lebanon  ...   \n",
       "2         58          88        Lebanon  ...   \n",
       "3        230          88        Lebanon  ...   \n",
       "4         60          10        Lebanon  ...   \n",
       "\n",
       "                                 target_name target_type target_weapon  \\\n",
       "0  Israeli Defense Forces (IDF) headquarters    Security      Car bomb   \n",
       "1                    U.S. Embassy in Lebanon   Political      Car bomb   \n",
       "2           Barracks for French Paratroopers    Security    Truck bomb   \n",
       "3                         US Marine Barracks    Security    Truck bomb   \n",
       "4  Israeli Defense Forces (IDF) Headquarters    Security    Truck bomb   \n",
       "\n",
       "  attackers_birth_location attackers_birth_year  attackers_education  \\\n",
       "0                  Lebanon                 1967              Primary   \n",
       "1                  Unknown                   -1              Unknown   \n",
       "2                  Unknown                 1959              Unknown   \n",
       "3                  Unknown                 1957              Unknown   \n",
       "4                  Unknown                   -1              Unknown   \n",
       "\n",
       "  attackers_gender attackers_marital attacker_occupation attacker_religion  \n",
       "0             Male           Unknown           Unskilled           Secular  \n",
       "1          Unknown           Unknown             Unknown           Unknown  \n",
       "2             Male           Unknown             Unknown           Unknown  \n",
       "3             Male           Unknown             Unknown           Unknown  \n",
       "4             Male           Unknown             Unknown           Unknown  \n",
       "\n",
       "[5 rows x 21 columns]"
      ]
     },
     "execution_count": 5,
     "metadata": {},
     "output_type": "execute_result"
    }
   ],
   "source": [
    "df.head()"
   ]
  },
  {
   "cell_type": "code",
   "execution_count": 6,
   "metadata": {},
   "outputs": [],
   "source": [
    "#creating a seperate table to seperately analyze the no of people killed and people wounded as well as the year of suicide attack\n",
    "df_killed=df['no_killed']\n",
    "df_wounded=df['no_wounded']\n",
    "df_year=df['year']"
   ]
  },
  {
   "cell_type": "code",
   "execution_count": 7,
   "metadata": {
    "scrolled": true
   },
   "outputs": [
    {
     "data": {
      "text/plain": [
       "count    4616.000000\n",
       "mean        9.927210\n",
       "std        43.069773\n",
       "min         0.000000\n",
       "25%         1.000000\n",
       "50%         4.000000\n",
       "75%        11.000000\n",
       "max      2739.000000\n",
       "Name: no_killed, dtype: float64"
      ]
     },
     "execution_count": 7,
     "metadata": {},
     "output_type": "execute_result"
    }
   ],
   "source": [
    "#giving the statiscal infromation on the number of killed\n",
    "df_killed.describe()"
   ]
  },
  {
   "cell_type": "code",
   "execution_count": 8,
   "metadata": {},
   "outputs": [
    {
     "data": {
      "text/plain": [
       "count    4616.000000\n",
       "mean       25.560875\n",
       "std       124.148730\n",
       "min         0.000000\n",
       "25%         3.000000\n",
       "50%        10.000000\n",
       "75%        26.000000\n",
       "max      6185.000000\n",
       "Name: no_wounded, dtype: float64"
      ]
     },
     "execution_count": 8,
     "metadata": {},
     "output_type": "execute_result"
    }
   ],
   "source": [
    "#giving the statiscal infromation on the number of wounded\n",
    "df_wounded.describe()"
   ]
  },
  {
   "cell_type": "code",
   "execution_count": 9,
   "metadata": {},
   "outputs": [
    {
     "data": {
      "text/plain": [
       "count    4616.000000\n",
       "mean     2008.836005\n",
       "std         4.762003\n",
       "min      1982.000000\n",
       "25%      2006.000000\n",
       "50%      2009.000000\n",
       "75%      2013.000000\n",
       "max      2015.000000\n",
       "Name: year, dtype: float64"
      ]
     },
     "execution_count": 9,
     "metadata": {},
     "output_type": "execute_result"
    }
   ],
   "source": [
    "#giving the statiscal infromation on the year in which the suicide attack occured\n",
    "df_year.describe()"
   ]
  },
  {
   "cell_type": "markdown",
   "metadata": {},
   "source": [
    "We can see that from this dataset that the dataset spans from 1982 to 2015. The maximum number of people killed during a single suicide attack is 2739 and the highest number wounded per attack is 6185. This is quite disturbing! But let's keep going..."
   ]
  },
  {
   "cell_type": "markdown",
   "metadata": {},
   "source": [
    "# suicide Attacks with highest human casualty"
   ]
  },
  {
   "cell_type": "code",
   "execution_count": 10,
   "metadata": {},
   "outputs": [
    {
     "data": {
      "text/html": [
       "<div>\n",
       "<style scoped>\n",
       "    .dataframe tbody tr th:only-of-type {\n",
       "        vertical-align: middle;\n",
       "    }\n",
       "\n",
       "    .dataframe tbody tr th {\n",
       "        vertical-align: top;\n",
       "    }\n",
       "\n",
       "    .dataframe thead th {\n",
       "        text-align: right;\n",
       "    }\n",
       "</style>\n",
       "<table border=\"1\" class=\"dataframe\">\n",
       "  <thead>\n",
       "    <tr style=\"text-align: right;\">\n",
       "      <th></th>\n",
       "      <th>terrorist groups</th>\n",
       "      <th>attacker_age</th>\n",
       "      <th>campaign_name</th>\n",
       "      <th>campaign_sides</th>\n",
       "      <th>day</th>\n",
       "      <th>month</th>\n",
       "      <th>year</th>\n",
       "      <th>no_killed</th>\n",
       "      <th>no_wounded</th>\n",
       "      <th>target_country</th>\n",
       "      <th>...</th>\n",
       "      <th>target_name</th>\n",
       "      <th>target_type</th>\n",
       "      <th>target_weapon</th>\n",
       "      <th>attackers_birth_location</th>\n",
       "      <th>attackers_birth_year</th>\n",
       "      <th>attackers_education</th>\n",
       "      <th>attackers_gender</th>\n",
       "      <th>attackers_marital</th>\n",
       "      <th>attacker_occupation</th>\n",
       "      <th>attacker_religion</th>\n",
       "    </tr>\n",
       "  </thead>\n",
       "  <tbody>\n",
       "    <tr>\n",
       "      <th>199</th>\n",
       "      <td>Al-Qaeda Central</td>\n",
       "      <td>43</td>\n",
       "      <td>Al Qaeda vs. U.S. &amp; Allies</td>\n",
       "      <td>Al Qaeda,U.S. &amp; Allies</td>\n",
       "      <td>11</td>\n",
       "      <td>9</td>\n",
       "      <td>2001</td>\n",
       "      <td>2739</td>\n",
       "      <td>6185</td>\n",
       "      <td>United States</td>\n",
       "      <td>...</td>\n",
       "      <td>World Trade Center</td>\n",
       "      <td>Civilian</td>\n",
       "      <td>Airplane</td>\n",
       "      <td>Egypt</td>\n",
       "      <td>1958</td>\n",
       "      <td>Post-secondary</td>\n",
       "      <td>Male</td>\n",
       "      <td>Unmarried</td>\n",
       "      <td>Professional</td>\n",
       "      <td>Muslim (NA)</td>\n",
       "    </tr>\n",
       "  </tbody>\n",
       "</table>\n",
       "<p>1 rows × 21 columns</p>\n",
       "</div>"
      ],
      "text/plain": [
       "     terrorist groups  attacker_age               campaign_name  \\\n",
       "199  Al-Qaeda Central            43  Al Qaeda vs. U.S. & Allies   \n",
       "\n",
       "             campaign_sides  day  month  year  no_killed  no_wounded  \\\n",
       "199  Al Qaeda,U.S. & Allies   11      9  2001       2739        6185   \n",
       "\n",
       "    target_country  ...         target_name target_type target_weapon  \\\n",
       "199  United States  ...  World Trade Center    Civilian      Airplane   \n",
       "\n",
       "    attackers_birth_location attackers_birth_year  attackers_education  \\\n",
       "199                    Egypt                 1958       Post-secondary   \n",
       "\n",
       "    attackers_gender attackers_marital attacker_occupation attacker_religion  \n",
       "199             Male         Unmarried        Professional       Muslim (NA)  \n",
       "\n",
       "[1 rows x 21 columns]"
      ]
     },
     "execution_count": 10,
     "metadata": {},
     "output_type": "execute_result"
    }
   ],
   "source": [
    "#getting more information about the row with the highest no of kills and wounded per attack\n",
    "df[df['no_killed']==df['no_killed'].max()]"
   ]
  },
  {
   "cell_type": "code",
   "execution_count": 11,
   "metadata": {
    "scrolled": true
   },
   "outputs": [
    {
     "data": {
      "text/html": [
       "<div>\n",
       "<style scoped>\n",
       "    .dataframe tbody tr th:only-of-type {\n",
       "        vertical-align: middle;\n",
       "    }\n",
       "\n",
       "    .dataframe tbody tr th {\n",
       "        vertical-align: top;\n",
       "    }\n",
       "\n",
       "    .dataframe thead th {\n",
       "        text-align: right;\n",
       "    }\n",
       "</style>\n",
       "<table border=\"1\" class=\"dataframe\">\n",
       "  <thead>\n",
       "    <tr style=\"text-align: right;\">\n",
       "      <th></th>\n",
       "      <th>terrorist groups</th>\n",
       "      <th>attacker_age</th>\n",
       "      <th>campaign_name</th>\n",
       "      <th>campaign_sides</th>\n",
       "      <th>day</th>\n",
       "      <th>month</th>\n",
       "      <th>year</th>\n",
       "      <th>no_killed</th>\n",
       "      <th>no_wounded</th>\n",
       "      <th>target_country</th>\n",
       "      <th>...</th>\n",
       "      <th>target_name</th>\n",
       "      <th>target_type</th>\n",
       "      <th>target_weapon</th>\n",
       "      <th>attackers_birth_location</th>\n",
       "      <th>attackers_birth_year</th>\n",
       "      <th>attackers_education</th>\n",
       "      <th>attackers_gender</th>\n",
       "      <th>attackers_marital</th>\n",
       "      <th>attacker_occupation</th>\n",
       "      <th>attacker_religion</th>\n",
       "    </tr>\n",
       "  </thead>\n",
       "  <tbody>\n",
       "    <tr>\n",
       "      <th>199</th>\n",
       "      <td>Al-Qaeda Central</td>\n",
       "      <td>43</td>\n",
       "      <td>Al Qaeda vs. U.S. &amp; Allies</td>\n",
       "      <td>Al Qaeda,U.S. &amp; Allies</td>\n",
       "      <td>11</td>\n",
       "      <td>9</td>\n",
       "      <td>2001</td>\n",
       "      <td>2739</td>\n",
       "      <td>6185</td>\n",
       "      <td>United States</td>\n",
       "      <td>...</td>\n",
       "      <td>World Trade Center</td>\n",
       "      <td>Civilian</td>\n",
       "      <td>Airplane</td>\n",
       "      <td>Egypt</td>\n",
       "      <td>1958</td>\n",
       "      <td>Post-secondary</td>\n",
       "      <td>Male</td>\n",
       "      <td>Unmarried</td>\n",
       "      <td>Professional</td>\n",
       "      <td>Muslim (NA)</td>\n",
       "    </tr>\n",
       "  </tbody>\n",
       "</table>\n",
       "<p>1 rows × 21 columns</p>\n",
       "</div>"
      ],
      "text/plain": [
       "     terrorist groups  attacker_age               campaign_name  \\\n",
       "199  Al-Qaeda Central            43  Al Qaeda vs. U.S. & Allies   \n",
       "\n",
       "             campaign_sides  day  month  year  no_killed  no_wounded  \\\n",
       "199  Al Qaeda,U.S. & Allies   11      9  2001       2739        6185   \n",
       "\n",
       "    target_country  ...         target_name target_type target_weapon  \\\n",
       "199  United States  ...  World Trade Center    Civilian      Airplane   \n",
       "\n",
       "    attackers_birth_location attackers_birth_year  attackers_education  \\\n",
       "199                    Egypt                 1958       Post-secondary   \n",
       "\n",
       "    attackers_gender attackers_marital attacker_occupation attacker_religion  \n",
       "199             Male         Unmarried        Professional       Muslim (NA)  \n",
       "\n",
       "[1 rows x 21 columns]"
      ]
     },
     "execution_count": 11,
     "metadata": {},
     "output_type": "execute_result"
    }
   ],
   "source": [
    "df[df['no_wounded']==df['no_wounded'].max()]"
   ]
  },
  {
   "cell_type": "markdown",
   "metadata": {},
   "source": [
    "The row with the highest number of WOUNDED and KILLED people was in the same attack, the World Trade center disaster. This was done by a male unmarried Egyptian who had post secondary qualification. He was from the AL-Quaeda sect. The target weapon was an airplane. And the people targeted were civillians. This happened on the 11th of September 2001. \n",
    "Throughout record (based on this dataset and between 1982 and 2015), this is recorded the suicide attack with the most impact on human lives."
   ]
  },
  {
   "cell_type": "code",
   "execution_count": null,
   "metadata": {},
   "outputs": [],
   "source": []
  },
  {
   "cell_type": "markdown",
   "metadata": {},
   "source": [
    "# suicide Attacks with no human casualty"
   ]
  },
  {
   "cell_type": "markdown",
   "metadata": {},
   "source": [
    "There were a couple of suicide attacks accoding to this dataset with no live impacts. This could be due to the fact the plan for the attack was discovered before hand or people were warned of the target location or the plan for execution wasn't carried out well."
   ]
  },
  {
   "cell_type": "code",
   "execution_count": 12,
   "metadata": {
    "scrolled": true
   },
   "outputs": [
    {
     "data": {
      "text/html": [
       "<div>\n",
       "<style scoped>\n",
       "    .dataframe tbody tr th:only-of-type {\n",
       "        vertical-align: middle;\n",
       "    }\n",
       "\n",
       "    .dataframe tbody tr th {\n",
       "        vertical-align: top;\n",
       "    }\n",
       "\n",
       "    .dataframe thead th {\n",
       "        text-align: right;\n",
       "    }\n",
       "</style>\n",
       "<table border=\"1\" class=\"dataframe\">\n",
       "  <thead>\n",
       "    <tr style=\"text-align: right;\">\n",
       "      <th></th>\n",
       "      <th>terrorist groups</th>\n",
       "      <th>attacker_age</th>\n",
       "      <th>campaign_name</th>\n",
       "      <th>campaign_sides</th>\n",
       "      <th>day</th>\n",
       "      <th>month</th>\n",
       "      <th>year</th>\n",
       "      <th>no_killed</th>\n",
       "      <th>no_wounded</th>\n",
       "      <th>target_country</th>\n",
       "      <th>...</th>\n",
       "      <th>target_name</th>\n",
       "      <th>target_type</th>\n",
       "      <th>target_weapon</th>\n",
       "      <th>attackers_birth_location</th>\n",
       "      <th>attackers_birth_year</th>\n",
       "      <th>attackers_education</th>\n",
       "      <th>attackers_gender</th>\n",
       "      <th>attackers_marital</th>\n",
       "      <th>attacker_occupation</th>\n",
       "      <th>attacker_religion</th>\n",
       "    </tr>\n",
       "  </thead>\n",
       "  <tbody>\n",
       "    <tr>\n",
       "      <th>37</th>\n",
       "      <td>Islamic Resistance</td>\n",
       "      <td>-1</td>\n",
       "      <td>Hezbollah vs. Israel</td>\n",
       "      <td>Hezbollah,Israel</td>\n",
       "      <td>19</td>\n",
       "      <td>8</td>\n",
       "      <td>1988</td>\n",
       "      <td>0</td>\n",
       "      <td>0</td>\n",
       "      <td>Lebanon</td>\n",
       "      <td>...</td>\n",
       "      <td>Israeli Defense Forces (IDF) military convoy</td>\n",
       "      <td>Security</td>\n",
       "      <td>Car bomb</td>\n",
       "      <td>Unknown</td>\n",
       "      <td>-1</td>\n",
       "      <td>Unknown</td>\n",
       "      <td>Male</td>\n",
       "      <td>Unknown</td>\n",
       "      <td>Unknown</td>\n",
       "      <td>Muslim (Shia)</td>\n",
       "    </tr>\n",
       "    <tr>\n",
       "      <th>44</th>\n",
       "      <td>Liberation Tigers of Tamil Eelam</td>\n",
       "      <td>23</td>\n",
       "      <td>LTTE vs. Sri Lanka &amp; India</td>\n",
       "      <td>LTTE,Sri Lanka &amp; India</td>\n",
       "      <td>19</td>\n",
       "      <td>3</td>\n",
       "      <td>1991</td>\n",
       "      <td>0</td>\n",
       "      <td>0</td>\n",
       "      <td>Sri Lanka</td>\n",
       "      <td>...</td>\n",
       "      <td>Sri Lankan Army camp</td>\n",
       "      <td>Security</td>\n",
       "      <td>Truck bomb</td>\n",
       "      <td>Unknown</td>\n",
       "      <td>1968</td>\n",
       "      <td>Unknown</td>\n",
       "      <td>Male</td>\n",
       "      <td>Unknown</td>\n",
       "      <td>Unknown</td>\n",
       "      <td>Hindu</td>\n",
       "    </tr>\n",
       "    <tr>\n",
       "      <th>59</th>\n",
       "      <td>Liberation Tigers of Tamil Eelam</td>\n",
       "      <td>21</td>\n",
       "      <td>LTTE vs. Sri Lanka &amp; India</td>\n",
       "      <td>LTTE,Sri Lanka &amp; India</td>\n",
       "      <td>10</td>\n",
       "      <td>8</td>\n",
       "      <td>1994</td>\n",
       "      <td>0</td>\n",
       "      <td>0</td>\n",
       "      <td>Sri Lanka</td>\n",
       "      <td>...</td>\n",
       "      <td>Sri Lankan Navy (SLN) ship</td>\n",
       "      <td>Security</td>\n",
       "      <td>Boat bomb</td>\n",
       "      <td>Sri Lanka</td>\n",
       "      <td>1973</td>\n",
       "      <td>Unknown</td>\n",
       "      <td>Female</td>\n",
       "      <td>Unknown</td>\n",
       "      <td>Unknown</td>\n",
       "      <td>Hindu</td>\n",
       "    </tr>\n",
       "    <tr>\n",
       "      <th>63</th>\n",
       "      <td>Liberation Tigers of Tamil Eelam</td>\n",
       "      <td>23</td>\n",
       "      <td>LTTE vs. Sri Lanka &amp; India</td>\n",
       "      <td>LTTE,Sri Lanka &amp; India</td>\n",
       "      <td>8</td>\n",
       "      <td>11</td>\n",
       "      <td>1994</td>\n",
       "      <td>0</td>\n",
       "      <td>0</td>\n",
       "      <td>Sri Lanka</td>\n",
       "      <td>...</td>\n",
       "      <td>Sri Lankan Navy (SLN) ship</td>\n",
       "      <td>Security</td>\n",
       "      <td>Boat bomb</td>\n",
       "      <td>Sri Lanka</td>\n",
       "      <td>1971</td>\n",
       "      <td>Unknown</td>\n",
       "      <td>Male</td>\n",
       "      <td>Unknown</td>\n",
       "      <td>Unknown</td>\n",
       "      <td>Hindu</td>\n",
       "    </tr>\n",
       "    <tr>\n",
       "      <th>78</th>\n",
       "      <td>Liberation Tigers of Tamil Eelam</td>\n",
       "      <td>19</td>\n",
       "      <td>LTTE vs. Sri Lanka &amp; India</td>\n",
       "      <td>LTTE,Sri Lanka &amp; India</td>\n",
       "      <td>10</td>\n",
       "      <td>9</td>\n",
       "      <td>1995</td>\n",
       "      <td>0</td>\n",
       "      <td>0</td>\n",
       "      <td>Sri Lanka</td>\n",
       "      <td>...</td>\n",
       "      <td>Sri Lankan Navy (SLN) ship</td>\n",
       "      <td>Security</td>\n",
       "      <td>Scuba bomb</td>\n",
       "      <td>Sri Lanka</td>\n",
       "      <td>1976</td>\n",
       "      <td>Unknown</td>\n",
       "      <td>Female</td>\n",
       "      <td>Unknown</td>\n",
       "      <td>Unknown</td>\n",
       "      <td>Hindu</td>\n",
       "    </tr>\n",
       "    <tr>\n",
       "      <th>...</th>\n",
       "      <td>...</td>\n",
       "      <td>...</td>\n",
       "      <td>...</td>\n",
       "      <td>...</td>\n",
       "      <td>...</td>\n",
       "      <td>...</td>\n",
       "      <td>...</td>\n",
       "      <td>...</td>\n",
       "      <td>...</td>\n",
       "      <td>...</td>\n",
       "      <td>...</td>\n",
       "      <td>...</td>\n",
       "      <td>...</td>\n",
       "      <td>...</td>\n",
       "      <td>...</td>\n",
       "      <td>...</td>\n",
       "      <td>...</td>\n",
       "      <td>...</td>\n",
       "      <td>...</td>\n",
       "      <td>...</td>\n",
       "      <td>...</td>\n",
       "    </tr>\n",
       "    <tr>\n",
       "      <th>4581</th>\n",
       "      <td>Unknown Group</td>\n",
       "      <td>-1</td>\n",
       "      <td>Rebels vs. Nigeria &amp; Allies</td>\n",
       "      <td>Rebels,Nigeria &amp; Allies</td>\n",
       "      <td>10</td>\n",
       "      <td>6</td>\n",
       "      <td>2015</td>\n",
       "      <td>0</td>\n",
       "      <td>0</td>\n",
       "      <td>Nigeria</td>\n",
       "      <td>...</td>\n",
       "      <td>Maiduguri, the capital city</td>\n",
       "      <td>Unknown</td>\n",
       "      <td>Belt bomb</td>\n",
       "      <td>Unknown</td>\n",
       "      <td>-1</td>\n",
       "      <td>Unknown</td>\n",
       "      <td>Female</td>\n",
       "      <td>Unknown</td>\n",
       "      <td>Unknown</td>\n",
       "      <td>Unknown</td>\n",
       "    </tr>\n",
       "    <tr>\n",
       "      <th>4582</th>\n",
       "      <td>Unknown Group</td>\n",
       "      <td>-1</td>\n",
       "      <td>Egyptian Rebels</td>\n",
       "      <td>Egyptian Rebels</td>\n",
       "      <td>10</td>\n",
       "      <td>6</td>\n",
       "      <td>2015</td>\n",
       "      <td>0</td>\n",
       "      <td>0</td>\n",
       "      <td>Egypt</td>\n",
       "      <td>...</td>\n",
       "      <td>Police Guarding Karnak Temple who had surround...</td>\n",
       "      <td>Security</td>\n",
       "      <td>Belt bomb</td>\n",
       "      <td>Unknown</td>\n",
       "      <td>-1</td>\n",
       "      <td>Unknown</td>\n",
       "      <td>Male</td>\n",
       "      <td>Unknown</td>\n",
       "      <td>Unknown</td>\n",
       "      <td>Unknown</td>\n",
       "    </tr>\n",
       "    <tr>\n",
       "      <th>4599</th>\n",
       "      <td>Unknown Group</td>\n",
       "      <td>-1</td>\n",
       "      <td>Somali Rebels vs. Ethiopia &amp; Allies</td>\n",
       "      <td>Somali Rebels,Ethiopia &amp; Allies</td>\n",
       "      <td>21</td>\n",
       "      <td>6</td>\n",
       "      <td>2015</td>\n",
       "      <td>0</td>\n",
       "      <td>0</td>\n",
       "      <td>Somalia</td>\n",
       "      <td>...</td>\n",
       "      <td>A military intelligence base</td>\n",
       "      <td>Security</td>\n",
       "      <td>Car bomb</td>\n",
       "      <td>Unknown</td>\n",
       "      <td>-1</td>\n",
       "      <td>Unknown</td>\n",
       "      <td>Unknown</td>\n",
       "      <td>Unknown</td>\n",
       "      <td>Unknown</td>\n",
       "      <td>Unknown</td>\n",
       "    </tr>\n",
       "    <tr>\n",
       "      <th>4603</th>\n",
       "      <td>Unknown Group</td>\n",
       "      <td>-1</td>\n",
       "      <td>Rebels vs. Syria &amp; Allies</td>\n",
       "      <td>Rebels,Syria &amp; Allies</td>\n",
       "      <td>23</td>\n",
       "      <td>6</td>\n",
       "      <td>2015</td>\n",
       "      <td>0</td>\n",
       "      <td>0</td>\n",
       "      <td>Syria</td>\n",
       "      <td>...</td>\n",
       "      <td>\"Asayish\" (Kurdish) police station</td>\n",
       "      <td>Unknown</td>\n",
       "      <td>Car bomb</td>\n",
       "      <td>Unknown</td>\n",
       "      <td>-1</td>\n",
       "      <td>Unknown</td>\n",
       "      <td>Male</td>\n",
       "      <td>Unknown</td>\n",
       "      <td>Unknown</td>\n",
       "      <td>Unknown</td>\n",
       "    </tr>\n",
       "    <tr>\n",
       "      <th>4612</th>\n",
       "      <td>Unknown Group</td>\n",
       "      <td>-1</td>\n",
       "      <td>Pakistani Rebels vs. Pakistan &amp; U.S. Allies</td>\n",
       "      <td>Pakistani Rebels,Pakistan &amp; U.S. Allies</td>\n",
       "      <td>29</td>\n",
       "      <td>6</td>\n",
       "      <td>2015</td>\n",
       "      <td>0</td>\n",
       "      <td>0</td>\n",
       "      <td>Pakistan</td>\n",
       "      <td>...</td>\n",
       "      <td>Police Trying to Arrest the Terrorists</td>\n",
       "      <td>Security</td>\n",
       "      <td>Belt bomb</td>\n",
       "      <td>Unknown</td>\n",
       "      <td>-1</td>\n",
       "      <td>Unknown</td>\n",
       "      <td>Male</td>\n",
       "      <td>Unknown</td>\n",
       "      <td>Unknown</td>\n",
       "      <td>Unknown</td>\n",
       "    </tr>\n",
       "  </tbody>\n",
       "</table>\n",
       "<p>273 rows × 21 columns</p>\n",
       "</div>"
      ],
      "text/plain": [
       "                      terrorist groups  attacker_age  \\\n",
       "37                  Islamic Resistance            -1   \n",
       "44    Liberation Tigers of Tamil Eelam            23   \n",
       "59    Liberation Tigers of Tamil Eelam            21   \n",
       "63    Liberation Tigers of Tamil Eelam            23   \n",
       "78    Liberation Tigers of Tamil Eelam            19   \n",
       "...                                ...           ...   \n",
       "4581                     Unknown Group            -1   \n",
       "4582                     Unknown Group            -1   \n",
       "4599                     Unknown Group            -1   \n",
       "4603                     Unknown Group            -1   \n",
       "4612                     Unknown Group            -1   \n",
       "\n",
       "                                    campaign_name  \\\n",
       "37                           Hezbollah vs. Israel   \n",
       "44                     LTTE vs. Sri Lanka & India   \n",
       "59                     LTTE vs. Sri Lanka & India   \n",
       "63                     LTTE vs. Sri Lanka & India   \n",
       "78                     LTTE vs. Sri Lanka & India   \n",
       "...                                           ...   \n",
       "4581                  Rebels vs. Nigeria & Allies   \n",
       "4582                              Egyptian Rebels   \n",
       "4599          Somali Rebels vs. Ethiopia & Allies   \n",
       "4603                    Rebels vs. Syria & Allies   \n",
       "4612  Pakistani Rebels vs. Pakistan & U.S. Allies   \n",
       "\n",
       "                               campaign_sides  day  month  year  no_killed  \\\n",
       "37                           Hezbollah,Israel   19      8  1988          0   \n",
       "44                     LTTE,Sri Lanka & India   19      3  1991          0   \n",
       "59                     LTTE,Sri Lanka & India   10      8  1994          0   \n",
       "63                     LTTE,Sri Lanka & India    8     11  1994          0   \n",
       "78                     LTTE,Sri Lanka & India   10      9  1995          0   \n",
       "...                                       ...  ...    ...   ...        ...   \n",
       "4581                  Rebels,Nigeria & Allies   10      6  2015          0   \n",
       "4582                          Egyptian Rebels   10      6  2015          0   \n",
       "4599          Somali Rebels,Ethiopia & Allies   21      6  2015          0   \n",
       "4603                    Rebels,Syria & Allies   23      6  2015          0   \n",
       "4612  Pakistani Rebels,Pakistan & U.S. Allies   29      6  2015          0   \n",
       "\n",
       "      no_wounded target_country  ...  \\\n",
       "37             0        Lebanon  ...   \n",
       "44             0      Sri Lanka  ...   \n",
       "59             0      Sri Lanka  ...   \n",
       "63             0      Sri Lanka  ...   \n",
       "78             0      Sri Lanka  ...   \n",
       "...          ...            ...  ...   \n",
       "4581           0        Nigeria  ...   \n",
       "4582           0          Egypt  ...   \n",
       "4599           0        Somalia  ...   \n",
       "4603           0          Syria  ...   \n",
       "4612           0       Pakistan  ...   \n",
       "\n",
       "                                            target_name target_type  \\\n",
       "37         Israeli Defense Forces (IDF) military convoy    Security   \n",
       "44                                 Sri Lankan Army camp    Security   \n",
       "59                           Sri Lankan Navy (SLN) ship    Security   \n",
       "63                           Sri Lankan Navy (SLN) ship    Security   \n",
       "78                           Sri Lankan Navy (SLN) ship    Security   \n",
       "...                                                 ...         ...   \n",
       "4581                        Maiduguri, the capital city     Unknown   \n",
       "4582  Police Guarding Karnak Temple who had surround...    Security   \n",
       "4599                       A military intelligence base    Security   \n",
       "4603                 \"Asayish\" (Kurdish) police station     Unknown   \n",
       "4612             Police Trying to Arrest the Terrorists    Security   \n",
       "\n",
       "     target_weapon attackers_birth_location attackers_birth_year  \\\n",
       "37        Car bomb                  Unknown                   -1   \n",
       "44      Truck bomb                  Unknown                 1968   \n",
       "59       Boat bomb                Sri Lanka                 1973   \n",
       "63       Boat bomb                Sri Lanka                 1971   \n",
       "78      Scuba bomb                Sri Lanka                 1976   \n",
       "...            ...                      ...                  ...   \n",
       "4581     Belt bomb                  Unknown                   -1   \n",
       "4582     Belt bomb                  Unknown                   -1   \n",
       "4599      Car bomb                  Unknown                   -1   \n",
       "4603      Car bomb                  Unknown                   -1   \n",
       "4612     Belt bomb                  Unknown                   -1   \n",
       "\n",
       "      attackers_education attackers_gender attackers_marital  \\\n",
       "37                Unknown             Male           Unknown   \n",
       "44                Unknown             Male           Unknown   \n",
       "59                Unknown           Female           Unknown   \n",
       "63                Unknown             Male           Unknown   \n",
       "78                Unknown           Female           Unknown   \n",
       "...                   ...              ...               ...   \n",
       "4581              Unknown           Female           Unknown   \n",
       "4582              Unknown             Male           Unknown   \n",
       "4599              Unknown          Unknown           Unknown   \n",
       "4603              Unknown             Male           Unknown   \n",
       "4612              Unknown             Male           Unknown   \n",
       "\n",
       "     attacker_occupation attacker_religion  \n",
       "37               Unknown     Muslim (Shia)  \n",
       "44               Unknown             Hindu  \n",
       "59               Unknown             Hindu  \n",
       "63               Unknown             Hindu  \n",
       "78               Unknown             Hindu  \n",
       "...                  ...               ...  \n",
       "4581             Unknown           Unknown  \n",
       "4582             Unknown           Unknown  \n",
       "4599             Unknown           Unknown  \n",
       "4603             Unknown           Unknown  \n",
       "4612             Unknown           Unknown  \n",
       "\n",
       "[273 rows x 21 columns]"
      ]
     },
     "execution_count": 12,
     "metadata": {},
     "output_type": "execute_result"
    }
   ],
   "source": [
    "df.loc[(df['no_killed']==0) & (df['no_wounded']==0) ]"
   ]
  },
  {
   "cell_type": "markdown",
   "metadata": {},
   "source": [
    "A total of 273 suicide attack had no human casualties; no injured, no killed people. These were failed suicide attacks."
   ]
  },
  {
   "cell_type": "markdown",
   "metadata": {},
   "source": [
    "# The Trend of the number of suicide kills and injuries from 1982 to 2015, worldwide"
   ]
  },
  {
   "cell_type": "code",
   "execution_count": 13,
   "metadata": {},
   "outputs": [
    {
     "data": {
      "text/plain": [
       "year\n",
       "1982     115\n",
       "1983     414\n",
       "1984      29\n",
       "1985     259\n",
       "1986      33\n",
       "1987      68\n",
       "1988       7\n",
       "1989       0\n",
       "1990      11\n",
       "1991      80\n",
       "1992       4\n",
       "1993     237\n",
       "1994     218\n",
       "1995     252\n",
       "1996     286\n",
       "1997      60\n",
       "1998     337\n",
       "1999      86\n",
       "2000     208\n",
       "2001    3191\n",
       "2002     588\n",
       "2003     802\n",
       "2004    1904\n",
       "2005    3225\n",
       "2006    2647\n",
       "2007    5679\n",
       "2008    3244\n",
       "2009    3158\n",
       "2010    2668\n",
       "2011    2394\n",
       "2012    2301\n",
       "2013    4132\n",
       "2014    4684\n",
       "2015    2503\n",
       "Name: no_killed, dtype: int64"
      ]
     },
     "execution_count": 13,
     "metadata": {},
     "output_type": "execute_result"
    }
   ],
   "source": [
    "#number of kills per year worldwide\n",
    "df.groupby('year')['no_killed'].sum()"
   ]
  },
  {
   "cell_type": "code",
   "execution_count": 14,
   "metadata": {},
   "outputs": [
    {
     "data": {
      "text/plain": [
       "year\n",
       "1982       28\n",
       "1983      368\n",
       "1984       49\n",
       "1985      262\n",
       "1986       24\n",
       "1987      137\n",
       "1988       11\n",
       "1989        9\n",
       "1990        3\n",
       "1991       68\n",
       "1992        0\n",
       "1993      102\n",
       "1994      438\n",
       "1995      869\n",
       "1996     1751\n",
       "1997      514\n",
       "1998     5488\n",
       "1999      300\n",
       "2000      502\n",
       "2001     7421\n",
       "2002     2457\n",
       "2003     3913\n",
       "2004     5956\n",
       "2005     8317\n",
       "2006     5857\n",
       "2007    13413\n",
       "2008     7946\n",
       "2009     9054\n",
       "2010     7194\n",
       "2011     6102\n",
       "2012     6216\n",
       "2013     9666\n",
       "2014     8634\n",
       "2015     4920\n",
       "Name: no_wounded, dtype: int64"
      ]
     },
     "execution_count": 14,
     "metadata": {},
     "output_type": "execute_result"
    }
   ],
   "source": [
    "#number of injuries per year worldwide\n",
    "df.groupby('year')['no_wounded'].sum()"
   ]
  },
  {
   "cell_type": "code",
   "execution_count": 15,
   "metadata": {},
   "outputs": [
    {
     "data": {
      "text/plain": [
       "<matplotlib.legend.Legend at 0xb5023d0>"
      ]
     },
     "execution_count": 15,
     "metadata": {},
     "output_type": "execute_result"
    },
    {
     "data": {
      "image/png": "[encoded data removed]",
      "text/plain": [
       "<Figure size 1224x648 with 1 Axes>"
      ]
     },
     "metadata": {
      "needs_background": "light"
     },
     "output_type": "display_data"
    }
   ],
   "source": [
    "#plotting the graph of wounded people against killed people for each year worldwide\n",
    "plt.figure(figsize=(17, 9))\n",
    "sns.set_theme(style='darkgrid')\n",
    "sns.lineplot(data=df.groupby('year')['no_killed'].sum(), marker='o')\n",
    "sns.lineplot(data=df.groupby('year')['no_wounded'].sum(), marker='o')\n",
    "plt.xlabel('Year')\n",
    "plt.ylabel('Number of attacks')\n",
    "xaxis=[1982, 1983, 1984, 1985, 1986, 1987, 1988, 1989, 1990, 1991, 1992, 1993, 1994, 1995, 1996, 1997, 1998, 1999, 2000, 2001, 2002, 2003, 2004, 2005, 2006, 2007, 2008, 2009, 2010, 2011, 2012, 2013, 2014, 2015]\n",
    "plt.xticks(xaxis, rotation=55)\n",
    "plt.legend(labels=['number of killed', 'number of wounded'])"
   ]
  },
  {
   "cell_type": "markdown",
   "metadata": {},
   "source": [
    "We can see that the year 2007 had the highest number of casualties. The total number of people killed that year was 5679 and the number of injured people are 13413\n",
    "The year with the least number of deaths is 1989 with 0 casualty and the year with the least number of injured people is 1992 with 0 casualty."
   ]
  },
  {
   "cell_type": "markdown",
   "metadata": {},
   "source": [
    "Observing those years to see the attacks better..."
   ]
  },
  {
   "cell_type": "code",
   "execution_count": 16,
   "metadata": {
    "scrolled": true
   },
   "outputs": [
    {
     "data": {
      "text/html": [
       "<div>\n",
       "<style scoped>\n",
       "    .dataframe tbody tr th:only-of-type {\n",
       "        vertical-align: middle;\n",
       "    }\n",
       "\n",
       "    .dataframe tbody tr th {\n",
       "        vertical-align: top;\n",
       "    }\n",
       "\n",
       "    .dataframe thead th {\n",
       "        text-align: right;\n",
       "    }\n",
       "</style>\n",
       "<table border=\"1\" class=\"dataframe\">\n",
       "  <thead>\n",
       "    <tr style=\"text-align: right;\">\n",
       "      <th></th>\n",
       "      <th>terrorist groups</th>\n",
       "      <th>attacker_age</th>\n",
       "      <th>campaign_name</th>\n",
       "      <th>campaign_sides</th>\n",
       "      <th>day</th>\n",
       "      <th>month</th>\n",
       "      <th>year</th>\n",
       "      <th>no_killed</th>\n",
       "      <th>no_wounded</th>\n",
       "      <th>target_country</th>\n",
       "      <th>...</th>\n",
       "      <th>target_name</th>\n",
       "      <th>target_type</th>\n",
       "      <th>target_weapon</th>\n",
       "      <th>attackers_birth_location</th>\n",
       "      <th>attackers_birth_year</th>\n",
       "      <th>attackers_education</th>\n",
       "      <th>attackers_gender</th>\n",
       "      <th>attackers_marital</th>\n",
       "      <th>attacker_occupation</th>\n",
       "      <th>attacker_religion</th>\n",
       "    </tr>\n",
       "  </thead>\n",
       "  <tbody>\n",
       "    <tr>\n",
       "      <th>39</th>\n",
       "      <td>Hezbollah</td>\n",
       "      <td>-1</td>\n",
       "      <td>Hezbollah vs. Israel</td>\n",
       "      <td>Hezbollah,Israel</td>\n",
       "      <td>9</td>\n",
       "      <td>8</td>\n",
       "      <td>1989</td>\n",
       "      <td>0</td>\n",
       "      <td>6</td>\n",
       "      <td>Lebanon</td>\n",
       "      <td>...</td>\n",
       "      <td>Israeli Defense Forces (IDF) military convoy</td>\n",
       "      <td>Security</td>\n",
       "      <td>Truck bomb</td>\n",
       "      <td>Unknown</td>\n",
       "      <td>-1</td>\n",
       "      <td>Unknown</td>\n",
       "      <td>Male</td>\n",
       "      <td>Unknown</td>\n",
       "      <td>Unknown</td>\n",
       "      <td>Unknown</td>\n",
       "    </tr>\n",
       "    <tr>\n",
       "      <th>40</th>\n",
       "      <td>Popular Front for the Liberation of Palestine</td>\n",
       "      <td>-1</td>\n",
       "      <td>Palestinian Resistance vs. Israel</td>\n",
       "      <td>Palestinian Resistance,Israel</td>\n",
       "      <td>30</td>\n",
       "      <td>10</td>\n",
       "      <td>1989</td>\n",
       "      <td>0</td>\n",
       "      <td>3</td>\n",
       "      <td>Lebanon</td>\n",
       "      <td>...</td>\n",
       "      <td>Israeli Naval Patrol Ship</td>\n",
       "      <td>Security</td>\n",
       "      <td>Boat bomb</td>\n",
       "      <td>Unknown</td>\n",
       "      <td>-1</td>\n",
       "      <td>Unknown</td>\n",
       "      <td>Unknown</td>\n",
       "      <td>Unknown</td>\n",
       "      <td>Unknown</td>\n",
       "      <td>Unknown</td>\n",
       "    </tr>\n",
       "  </tbody>\n",
       "</table>\n",
       "<p>2 rows × 21 columns</p>\n",
       "</div>"
      ],
      "text/plain": [
       "                                 terrorist groups  attacker_age  \\\n",
       "39                                      Hezbollah            -1   \n",
       "40  Popular Front for the Liberation of Palestine            -1   \n",
       "\n",
       "                        campaign_name                 campaign_sides  day  \\\n",
       "39               Hezbollah vs. Israel               Hezbollah,Israel    9   \n",
       "40  Palestinian Resistance vs. Israel  Palestinian Resistance,Israel   30   \n",
       "\n",
       "    month  year  no_killed  no_wounded target_country  ...  \\\n",
       "39      8  1989          0           6        Lebanon  ...   \n",
       "40     10  1989          0           3        Lebanon  ...   \n",
       "\n",
       "                                     target_name target_type target_weapon  \\\n",
       "39  Israeli Defense Forces (IDF) military convoy    Security    Truck bomb   \n",
       "40                     Israeli Naval Patrol Ship    Security     Boat bomb   \n",
       "\n",
       "   attackers_birth_location attackers_birth_year  attackers_education  \\\n",
       "39                  Unknown                   -1              Unknown   \n",
       "40                  Unknown                   -1              Unknown   \n",
       "\n",
       "   attackers_gender attackers_marital attacker_occupation attacker_religion  \n",
       "39             Male           Unknown             Unknown           Unknown  \n",
       "40          Unknown           Unknown             Unknown           Unknown  \n",
       "\n",
       "[2 rows x 21 columns]"
      ]
     },
     "execution_count": 16,
     "metadata": {},
     "output_type": "execute_result"
    }
   ],
   "source": [
    "#For the year 1989 in which there was the least number of death casualties\n",
    "df[df['year']==1989]"
   ]
  },
  {
   "cell_type": "markdown",
   "metadata": {},
   "source": [
    "The number of attacks recorded were simply two of which there were only wounded casualties. These attacks were in Lebanon and the attacks were carried out by Hezbollah and Popular Front for the Liberation of Palestine. Attacks were targeted on security. A truck and a boat bomb were used for these attacks respectively."
   ]
  },
  {
   "cell_type": "code",
   "execution_count": 17,
   "metadata": {
    "scrolled": true
   },
   "outputs": [
    {
     "data": {
      "text/html": [
       "<div>\n",
       "<style scoped>\n",
       "    .dataframe tbody tr th:only-of-type {\n",
       "        vertical-align: middle;\n",
       "    }\n",
       "\n",
       "    .dataframe tbody tr th {\n",
       "        vertical-align: top;\n",
       "    }\n",
       "\n",
       "    .dataframe thead th {\n",
       "        text-align: right;\n",
       "    }\n",
       "</style>\n",
       "<table border=\"1\" class=\"dataframe\">\n",
       "  <thead>\n",
       "    <tr style=\"text-align: right;\">\n",
       "      <th></th>\n",
       "      <th>terrorist groups</th>\n",
       "      <th>attacker_age</th>\n",
       "      <th>campaign_name</th>\n",
       "      <th>campaign_sides</th>\n",
       "      <th>day</th>\n",
       "      <th>month</th>\n",
       "      <th>year</th>\n",
       "      <th>no_killed</th>\n",
       "      <th>no_wounded</th>\n",
       "      <th>target_country</th>\n",
       "      <th>...</th>\n",
       "      <th>target_name</th>\n",
       "      <th>target_type</th>\n",
       "      <th>target_weapon</th>\n",
       "      <th>attackers_birth_location</th>\n",
       "      <th>attackers_birth_year</th>\n",
       "      <th>attackers_education</th>\n",
       "      <th>attackers_gender</th>\n",
       "      <th>attackers_marital</th>\n",
       "      <th>attacker_occupation</th>\n",
       "      <th>attacker_religion</th>\n",
       "    </tr>\n",
       "  </thead>\n",
       "  <tbody>\n",
       "    <tr>\n",
       "      <th>48</th>\n",
       "      <td>Unknown Group</td>\n",
       "      <td>-1</td>\n",
       "      <td>LTTE vs. Sri Lanka &amp; India</td>\n",
       "      <td>LTTE,Sri Lanka &amp; India</td>\n",
       "      <td>16</td>\n",
       "      <td>11</td>\n",
       "      <td>1992</td>\n",
       "      <td>4</td>\n",
       "      <td>0</td>\n",
       "      <td>Sri Lanka</td>\n",
       "      <td>...</td>\n",
       "      <td>Navy Commander Clancy Fernando traveling in a car</td>\n",
       "      <td>Security</td>\n",
       "      <td>Motorcycle bomb</td>\n",
       "      <td>Unknown</td>\n",
       "      <td>-1</td>\n",
       "      <td>Unknown</td>\n",
       "      <td>Male</td>\n",
       "      <td>Unknown</td>\n",
       "      <td>Unknown</td>\n",
       "      <td>Hindu</td>\n",
       "    </tr>\n",
       "  </tbody>\n",
       "</table>\n",
       "<p>1 rows × 21 columns</p>\n",
       "</div>"
      ],
      "text/plain": [
       "   terrorist groups  attacker_age               campaign_name  \\\n",
       "48    Unknown Group            -1  LTTE vs. Sri Lanka & India   \n",
       "\n",
       "            campaign_sides  day  month  year  no_killed  no_wounded  \\\n",
       "48  LTTE,Sri Lanka & India   16     11  1992          4           0   \n",
       "\n",
       "   target_country  ...                                        target_name  \\\n",
       "48      Sri Lanka  ...  Navy Commander Clancy Fernando traveling in a car   \n",
       "\n",
       "   target_type    target_weapon attackers_birth_location attackers_birth_year  \\\n",
       "48    Security  Motorcycle bomb                  Unknown                   -1   \n",
       "\n",
       "    attackers_education attackers_gender attackers_marital  \\\n",
       "48              Unknown             Male           Unknown   \n",
       "\n",
       "   attacker_occupation attacker_religion  \n",
       "48             Unknown             Hindu  \n",
       "\n",
       "[1 rows x 21 columns]"
      ]
     },
     "execution_count": 17,
     "metadata": {},
     "output_type": "execute_result"
    }
   ],
   "source": [
    "#For the year 1992 in which ther was the least number of wounded casualties\n",
    "df[df['year']==1992]"
   ]
  },
  {
   "cell_type": "markdown",
   "metadata": {},
   "source": [
    "The year 1992 had only one suicide attack recorded in this dataset. There were 4 death casualties so this isn't quite a failed suicide attack. The religion of the attacker is Hindu and his target was on security personnel"
   ]
  },
  {
   "cell_type": "code",
   "execution_count": 18,
   "metadata": {},
   "outputs": [
    {
     "data": {
      "text/html": [
       "<div>\n",
       "<style scoped>\n",
       "    .dataframe tbody tr th:only-of-type {\n",
       "        vertical-align: middle;\n",
       "    }\n",
       "\n",
       "    .dataframe tbody tr th {\n",
       "        vertical-align: top;\n",
       "    }\n",
       "\n",
       "    .dataframe thead th {\n",
       "        text-align: right;\n",
       "    }\n",
       "</style>\n",
       "<table border=\"1\" class=\"dataframe\">\n",
       "  <thead>\n",
       "    <tr style=\"text-align: right;\">\n",
       "      <th></th>\n",
       "      <th>terrorist groups</th>\n",
       "      <th>attacker_age</th>\n",
       "      <th>campaign_name</th>\n",
       "      <th>campaign_sides</th>\n",
       "      <th>day</th>\n",
       "      <th>month</th>\n",
       "      <th>year</th>\n",
       "      <th>no_killed</th>\n",
       "      <th>no_wounded</th>\n",
       "      <th>target_country</th>\n",
       "      <th>...</th>\n",
       "      <th>target_name</th>\n",
       "      <th>target_type</th>\n",
       "      <th>target_weapon</th>\n",
       "      <th>attackers_birth_location</th>\n",
       "      <th>attackers_birth_year</th>\n",
       "      <th>attackers_education</th>\n",
       "      <th>attackers_gender</th>\n",
       "      <th>attackers_marital</th>\n",
       "      <th>attacker_occupation</th>\n",
       "      <th>attacker_religion</th>\n",
       "    </tr>\n",
       "  </thead>\n",
       "  <tbody>\n",
       "    <tr>\n",
       "      <th>1247</th>\n",
       "      <td>Taliban (IEA)</td>\n",
       "      <td>-1</td>\n",
       "      <td>Afghan Rebels vs. U.S. &amp; Allies</td>\n",
       "      <td>Afghan Rebels,U.S. &amp; Allies</td>\n",
       "      <td>5</td>\n",
       "      <td>1</td>\n",
       "      <td>2007</td>\n",
       "      <td>10</td>\n",
       "      <td>50</td>\n",
       "      <td>Afghanistan</td>\n",
       "      <td>...</td>\n",
       "      <td>US Ambassador Ronald Neumann</td>\n",
       "      <td>Political</td>\n",
       "      <td>Belt bomb</td>\n",
       "      <td>Unknown</td>\n",
       "      <td>-1</td>\n",
       "      <td>Unknown</td>\n",
       "      <td>Unknown</td>\n",
       "      <td>Unknown</td>\n",
       "      <td>Unknown</td>\n",
       "      <td>Unknown</td>\n",
       "    </tr>\n",
       "    <tr>\n",
       "      <th>1248</th>\n",
       "      <td>Unknown Group</td>\n",
       "      <td>-1</td>\n",
       "      <td>Afghan Rebels vs. U.S. &amp; Allies</td>\n",
       "      <td>Afghan Rebels,U.S. &amp; Allies</td>\n",
       "      <td>5</td>\n",
       "      <td>1</td>\n",
       "      <td>2007</td>\n",
       "      <td>0</td>\n",
       "      <td>4</td>\n",
       "      <td>Afghanistan</td>\n",
       "      <td>...</td>\n",
       "      <td>NATO-ISAF checkpoint</td>\n",
       "      <td>Security</td>\n",
       "      <td>Car bomb</td>\n",
       "      <td>Unknown</td>\n",
       "      <td>-1</td>\n",
       "      <td>Unknown</td>\n",
       "      <td>Male</td>\n",
       "      <td>Unknown</td>\n",
       "      <td>Unknown</td>\n",
       "      <td>Unknown</td>\n",
       "    </tr>\n",
       "    <tr>\n",
       "      <th>1249</th>\n",
       "      <td>Unknown Group</td>\n",
       "      <td>-1</td>\n",
       "      <td>LTTE vs. Sri Lanka &amp; India</td>\n",
       "      <td>LTTE,Sri Lanka &amp; India</td>\n",
       "      <td>6</td>\n",
       "      <td>1</td>\n",
       "      <td>2007</td>\n",
       "      <td>15</td>\n",
       "      <td>40</td>\n",
       "      <td>Sri Lanka</td>\n",
       "      <td>...</td>\n",
       "      <td>Truck transporting soldiers</td>\n",
       "      <td>Security</td>\n",
       "      <td>Car bomb</td>\n",
       "      <td>Unknown</td>\n",
       "      <td>-1</td>\n",
       "      <td>Unknown</td>\n",
       "      <td>Female</td>\n",
       "      <td>Unknown</td>\n",
       "      <td>Unknown</td>\n",
       "      <td>Unknown</td>\n",
       "    </tr>\n",
       "    <tr>\n",
       "      <th>1250</th>\n",
       "      <td>Unknown Group</td>\n",
       "      <td>-1</td>\n",
       "      <td>Afghan Rebels vs. U.S. &amp; Allies</td>\n",
       "      <td>Afghan Rebels,U.S. &amp; Allies</td>\n",
       "      <td>8</td>\n",
       "      <td>1</td>\n",
       "      <td>2007</td>\n",
       "      <td>0</td>\n",
       "      <td>3</td>\n",
       "      <td>Afghanistan</td>\n",
       "      <td>...</td>\n",
       "      <td>Afghan National Army (ANA) military convoy</td>\n",
       "      <td>Security</td>\n",
       "      <td>Car bomb</td>\n",
       "      <td>Unknown</td>\n",
       "      <td>-1</td>\n",
       "      <td>Unknown</td>\n",
       "      <td>Male</td>\n",
       "      <td>Unknown</td>\n",
       "      <td>Unknown</td>\n",
       "      <td>Unknown</td>\n",
       "    </tr>\n",
       "    <tr>\n",
       "      <th>1251</th>\n",
       "      <td>Unknown Group</td>\n",
       "      <td>-1</td>\n",
       "      <td>Iraqi Rebels vs. U.S. &amp; Allies</td>\n",
       "      <td>Iraqi Rebels,U.S. &amp; Allies</td>\n",
       "      <td>10</td>\n",
       "      <td>1</td>\n",
       "      <td>2007</td>\n",
       "      <td>4</td>\n",
       "      <td>12</td>\n",
       "      <td>Iraq</td>\n",
       "      <td>...</td>\n",
       "      <td>Iraqi Police station</td>\n",
       "      <td>Security</td>\n",
       "      <td>Belt bomb</td>\n",
       "      <td>Unknown</td>\n",
       "      <td>-1</td>\n",
       "      <td>Unknown</td>\n",
       "      <td>Unknown</td>\n",
       "      <td>Unknown</td>\n",
       "      <td>Unknown</td>\n",
       "      <td>Unknown</td>\n",
       "    </tr>\n",
       "    <tr>\n",
       "      <th>...</th>\n",
       "      <td>...</td>\n",
       "      <td>...</td>\n",
       "      <td>...</td>\n",
       "      <td>...</td>\n",
       "      <td>...</td>\n",
       "      <td>...</td>\n",
       "      <td>...</td>\n",
       "      <td>...</td>\n",
       "      <td>...</td>\n",
       "      <td>...</td>\n",
       "      <td>...</td>\n",
       "      <td>...</td>\n",
       "      <td>...</td>\n",
       "      <td>...</td>\n",
       "      <td>...</td>\n",
       "      <td>...</td>\n",
       "      <td>...</td>\n",
       "      <td>...</td>\n",
       "      <td>...</td>\n",
       "      <td>...</td>\n",
       "      <td>...</td>\n",
       "    </tr>\n",
       "    <tr>\n",
       "      <th>1767</th>\n",
       "      <td>Al-Qaeda Central</td>\n",
       "      <td>-1</td>\n",
       "      <td>Al Qaeda vs. U.S. &amp; Allies</td>\n",
       "      <td>Al Qaeda,U.S. &amp; Allies</td>\n",
       "      <td>27</td>\n",
       "      <td>12</td>\n",
       "      <td>2007</td>\n",
       "      <td>30</td>\n",
       "      <td>0</td>\n",
       "      <td>Pakistan</td>\n",
       "      <td>...</td>\n",
       "      <td>Benazir Bhutto, Former Pakistani Prime Ministe...</td>\n",
       "      <td>Political</td>\n",
       "      <td>Belt bomb</td>\n",
       "      <td>Unknown</td>\n",
       "      <td>-1</td>\n",
       "      <td>Unknown</td>\n",
       "      <td>Male</td>\n",
       "      <td>Unknown</td>\n",
       "      <td>Unknown</td>\n",
       "      <td>Unknown</td>\n",
       "    </tr>\n",
       "    <tr>\n",
       "      <th>1768</th>\n",
       "      <td>Unknown Group</td>\n",
       "      <td>-1</td>\n",
       "      <td>Pakistani Rebels vs. Pakistan &amp; U.S. Allies</td>\n",
       "      <td>Pakistani Rebels,Pakistan &amp; U.S. Allies</td>\n",
       "      <td>30</td>\n",
       "      <td>12</td>\n",
       "      <td>2007</td>\n",
       "      <td>0</td>\n",
       "      <td>0</td>\n",
       "      <td>Pakistan</td>\n",
       "      <td>...</td>\n",
       "      <td>Ijazul Haq, Federal Minister of Religion and s...</td>\n",
       "      <td>Political</td>\n",
       "      <td>Motorcycle bomb</td>\n",
       "      <td>Unknown</td>\n",
       "      <td>-1</td>\n",
       "      <td>Unknown</td>\n",
       "      <td>Unknown</td>\n",
       "      <td>Unknown</td>\n",
       "      <td>Unknown</td>\n",
       "      <td>Unknown</td>\n",
       "    </tr>\n",
       "    <tr>\n",
       "      <th>1769</th>\n",
       "      <td>Islamic State of Iraq</td>\n",
       "      <td>-1</td>\n",
       "      <td>Iraqi Rebels vs. U.S. &amp; Allies</td>\n",
       "      <td>Iraqi Rebels,U.S. &amp; Allies</td>\n",
       "      <td>31</td>\n",
       "      <td>12</td>\n",
       "      <td>2007</td>\n",
       "      <td>0</td>\n",
       "      <td>7</td>\n",
       "      <td>Iraq</td>\n",
       "      <td>...</td>\n",
       "      <td>Sahwa/Awakening Council checkpoint</td>\n",
       "      <td>Security</td>\n",
       "      <td>Belt bomb</td>\n",
       "      <td>Unknown</td>\n",
       "      <td>-1</td>\n",
       "      <td>Unknown</td>\n",
       "      <td>Female</td>\n",
       "      <td>Unknown</td>\n",
       "      <td>Unknown</td>\n",
       "      <td>Unknown</td>\n",
       "    </tr>\n",
       "    <tr>\n",
       "      <th>1770</th>\n",
       "      <td>Islamic State of Iraq</td>\n",
       "      <td>-1</td>\n",
       "      <td>Iraqi Rebels vs. U.S. &amp; Allies</td>\n",
       "      <td>Iraqi Rebels,U.S. &amp; Allies</td>\n",
       "      <td>31</td>\n",
       "      <td>12</td>\n",
       "      <td>2007</td>\n",
       "      <td>0</td>\n",
       "      <td>7</td>\n",
       "      <td>Iraq</td>\n",
       "      <td>...</td>\n",
       "      <td>Iraqi Police checkpoint</td>\n",
       "      <td>Security</td>\n",
       "      <td>Belt bomb</td>\n",
       "      <td>Unknown</td>\n",
       "      <td>-1</td>\n",
       "      <td>Unknown</td>\n",
       "      <td>Female</td>\n",
       "      <td>Unknown</td>\n",
       "      <td>Unknown</td>\n",
       "      <td>Unknown</td>\n",
       "    </tr>\n",
       "    <tr>\n",
       "      <th>1771</th>\n",
       "      <td>Unknown Group</td>\n",
       "      <td>-1</td>\n",
       "      <td>Iraqi Rebels vs. U.S. &amp; Allies</td>\n",
       "      <td>Iraqi Rebels,U.S. &amp; Allies</td>\n",
       "      <td>31</td>\n",
       "      <td>12</td>\n",
       "      <td>2007</td>\n",
       "      <td>12</td>\n",
       "      <td>5</td>\n",
       "      <td>Iraq</td>\n",
       "      <td>...</td>\n",
       "      <td>Sahwa/Awakening Council checkpoint</td>\n",
       "      <td>Security</td>\n",
       "      <td>Truck bomb</td>\n",
       "      <td>Unknown</td>\n",
       "      <td>-1</td>\n",
       "      <td>Unknown</td>\n",
       "      <td>Unknown</td>\n",
       "      <td>Unknown</td>\n",
       "      <td>Unknown</td>\n",
       "      <td>Unknown</td>\n",
       "    </tr>\n",
       "  </tbody>\n",
       "</table>\n",
       "<p>525 rows × 21 columns</p>\n",
       "</div>"
      ],
      "text/plain": [
       "           terrorist groups  attacker_age  \\\n",
       "1247          Taliban (IEA)            -1   \n",
       "1248          Unknown Group            -1   \n",
       "1249          Unknown Group            -1   \n",
       "1250          Unknown Group            -1   \n",
       "1251          Unknown Group            -1   \n",
       "...                     ...           ...   \n",
       "1767       Al-Qaeda Central            -1   \n",
       "1768          Unknown Group            -1   \n",
       "1769  Islamic State of Iraq            -1   \n",
       "1770  Islamic State of Iraq            -1   \n",
       "1771          Unknown Group            -1   \n",
       "\n",
       "                                    campaign_name  \\\n",
       "1247              Afghan Rebels vs. U.S. & Allies   \n",
       "1248              Afghan Rebels vs. U.S. & Allies   \n",
       "1249                   LTTE vs. Sri Lanka & India   \n",
       "1250              Afghan Rebels vs. U.S. & Allies   \n",
       "1251               Iraqi Rebels vs. U.S. & Allies   \n",
       "...                                           ...   \n",
       "1767                   Al Qaeda vs. U.S. & Allies   \n",
       "1768  Pakistani Rebels vs. Pakistan & U.S. Allies   \n",
       "1769               Iraqi Rebels vs. U.S. & Allies   \n",
       "1770               Iraqi Rebels vs. U.S. & Allies   \n",
       "1771               Iraqi Rebels vs. U.S. & Allies   \n",
       "\n",
       "                               campaign_sides  day  month  year  no_killed  \\\n",
       "1247              Afghan Rebels,U.S. & Allies    5      1  2007         10   \n",
       "1248              Afghan Rebels,U.S. & Allies    5      1  2007          0   \n",
       "1249                   LTTE,Sri Lanka & India    6      1  2007         15   \n",
       "1250              Afghan Rebels,U.S. & Allies    8      1  2007          0   \n",
       "1251               Iraqi Rebels,U.S. & Allies   10      1  2007          4   \n",
       "...                                       ...  ...    ...   ...        ...   \n",
       "1767                   Al Qaeda,U.S. & Allies   27     12  2007         30   \n",
       "1768  Pakistani Rebels,Pakistan & U.S. Allies   30     12  2007          0   \n",
       "1769               Iraqi Rebels,U.S. & Allies   31     12  2007          0   \n",
       "1770               Iraqi Rebels,U.S. & Allies   31     12  2007          0   \n",
       "1771               Iraqi Rebels,U.S. & Allies   31     12  2007         12   \n",
       "\n",
       "      no_wounded target_country  ...  \\\n",
       "1247          50    Afghanistan  ...   \n",
       "1248           4    Afghanistan  ...   \n",
       "1249          40      Sri Lanka  ...   \n",
       "1250           3    Afghanistan  ...   \n",
       "1251          12           Iraq  ...   \n",
       "...          ...            ...  ...   \n",
       "1767           0       Pakistan  ...   \n",
       "1768           0       Pakistan  ...   \n",
       "1769           7           Iraq  ...   \n",
       "1770           7           Iraq  ...   \n",
       "1771           5           Iraq  ...   \n",
       "\n",
       "                                            target_name target_type  \\\n",
       "1247                       US Ambassador Ronald Neumann   Political   \n",
       "1248                               NATO-ISAF checkpoint    Security   \n",
       "1249                        Truck transporting soldiers    Security   \n",
       "1250         Afghan National Army (ANA) military convoy    Security   \n",
       "1251                               Iraqi Police station    Security   \n",
       "...                                                 ...         ...   \n",
       "1767  Benazir Bhutto, Former Pakistani Prime Ministe...   Political   \n",
       "1768  Ijazul Haq, Federal Minister of Religion and s...   Political   \n",
       "1769                 Sahwa/Awakening Council checkpoint    Security   \n",
       "1770                            Iraqi Police checkpoint    Security   \n",
       "1771                 Sahwa/Awakening Council checkpoint    Security   \n",
       "\n",
       "        target_weapon attackers_birth_location attackers_birth_year  \\\n",
       "1247        Belt bomb                  Unknown                   -1   \n",
       "1248         Car bomb                  Unknown                   -1   \n",
       "1249         Car bomb                  Unknown                   -1   \n",
       "1250         Car bomb                  Unknown                   -1   \n",
       "1251        Belt bomb                  Unknown                   -1   \n",
       "...               ...                      ...                  ...   \n",
       "1767        Belt bomb                  Unknown                   -1   \n",
       "1768  Motorcycle bomb                  Unknown                   -1   \n",
       "1769        Belt bomb                  Unknown                   -1   \n",
       "1770        Belt bomb                  Unknown                   -1   \n",
       "1771       Truck bomb                  Unknown                   -1   \n",
       "\n",
       "      attackers_education attackers_gender attackers_marital  \\\n",
       "1247              Unknown          Unknown           Unknown   \n",
       "1248              Unknown             Male           Unknown   \n",
       "1249              Unknown           Female           Unknown   \n",
       "1250              Unknown             Male           Unknown   \n",
       "1251              Unknown          Unknown           Unknown   \n",
       "...                   ...              ...               ...   \n",
       "1767              Unknown             Male           Unknown   \n",
       "1768              Unknown          Unknown           Unknown   \n",
       "1769              Unknown           Female           Unknown   \n",
       "1770              Unknown           Female           Unknown   \n",
       "1771              Unknown          Unknown           Unknown   \n",
       "\n",
       "     attacker_occupation attacker_religion  \n",
       "1247             Unknown           Unknown  \n",
       "1248             Unknown           Unknown  \n",
       "1249             Unknown           Unknown  \n",
       "1250             Unknown           Unknown  \n",
       "1251             Unknown           Unknown  \n",
       "...                  ...               ...  \n",
       "1767             Unknown           Unknown  \n",
       "1768             Unknown           Unknown  \n",
       "1769             Unknown           Unknown  \n",
       "1770             Unknown           Unknown  \n",
       "1771             Unknown           Unknown  \n",
       "\n",
       "[525 rows x 21 columns]"
      ]
     },
     "execution_count": 18,
     "metadata": {},
     "output_type": "execute_result"
    }
   ],
   "source": [
    "#For the year 2007 in which there was the highest number of wounded and killed casualties\n",
    "df[df['year']==2007]"
   ]
  },
  {
   "cell_type": "markdown",
   "metadata": {},
   "source": [
    "It is observed that the year 2007 had the highest number of casualties under 525 different attacks. Although, it is not recorded as the year that had the highest number of attacks."
   ]
  },
  {
   "cell_type": "markdown",
   "metadata": {},
   "source": [
    "# Number of Attacks per year"
   ]
  },
  {
   "cell_type": "code",
   "execution_count": 19,
   "metadata": {},
   "outputs": [
    {
     "data": {
      "text/plain": [
       "2014    545\n",
       "2007    525\n",
       "2013    446\n",
       "2008    414\n",
       "2005    355\n",
       "2006    339\n",
       "2009    307\n",
       "2015    305\n",
       "2012    287\n",
       "2010    283\n",
       "2011    257\n",
       "2004    175\n",
       "2003     92\n",
       "2002     66\n",
       "2001     46\n",
       "2000     28\n",
       "1985     22\n",
       "1999     20\n",
       "1995     19\n",
       "1996     17\n",
       "1998     15\n",
       "1994     11\n",
       "1997      9\n",
       "1993      6\n",
       "1983      5\n",
       "1991      4\n",
       "1984      3\n",
       "1987      3\n",
       "1990      3\n",
       "1986      3\n",
       "1988      2\n",
       "1989      2\n",
       "1982      1\n",
       "1992      1\n",
       "Name: year, dtype: int64"
      ]
     },
     "execution_count": 19,
     "metadata": {},
     "output_type": "execute_result"
    }
   ],
   "source": [
    "df['year'].value_counts()"
   ]
  },
  {
   "cell_type": "code",
   "execution_count": 20,
   "metadata": {},
   "outputs": [
    {
     "data": {
      "text/plain": [
       "([<matplotlib.axis.XTick at 0xb63fee0>,\n",
       "  <matplotlib.axis.XTick at 0xb63feb0>,\n",
       "  <matplotlib.axis.XTick at 0xb663be0>,\n",
       "  <matplotlib.axis.XTick at 0xb66e670>,\n",
       "  <matplotlib.axis.XTick at 0xb66eb80>,\n",
       "  <matplotlib.axis.XTick at 0xb6740d0>,\n",
       "  <matplotlib.axis.XTick at 0xb6745e0>,\n",
       "  <matplotlib.axis.XTick at 0xb674af0>,\n",
       "  <matplotlib.axis.XTick at 0xb67a040>,\n",
       "  <matplotlib.axis.XTick at 0xb637a30>,\n",
       "  <matplotlib.axis.XTick at 0xb663520>,\n",
       "  <matplotlib.axis.XTick at 0xb872af0>,\n",
       "  <matplotlib.axis.XTick at 0xb879040>,\n",
       "  <matplotlib.axis.XTick at 0xb879550>,\n",
       "  <matplotlib.axis.XTick at 0xb879a60>,\n",
       "  <matplotlib.axis.XTick at 0xb879f70>,\n",
       "  <matplotlib.axis.XTick at 0xb8795b0>,\n",
       "  <matplotlib.axis.XTick at 0xb872730>,\n",
       "  <matplotlib.axis.XTick at 0xb663a00>,\n",
       "  <matplotlib.axis.XTick at 0xb87e310>,\n",
       "  <matplotlib.axis.XTick at 0xb87e850>,\n",
       "  <matplotlib.axis.XTick at 0xb87ed90>,\n",
       "  <matplotlib.axis.XTick at 0xb8852e0>,\n",
       "  <matplotlib.axis.XTick at 0xb8857f0>,\n",
       "  <matplotlib.axis.XTick at 0xb885d00>,\n",
       "  <matplotlib.axis.XTick at 0xb88b250>,\n",
       "  <matplotlib.axis.XTick at 0xb885370>,\n",
       "  <matplotlib.axis.XTick at 0xb87e3a0>,\n",
       "  <matplotlib.axis.XTick at 0xb879250>,\n",
       "  <matplotlib.axis.XTick at 0xb88b760>,\n",
       "  <matplotlib.axis.XTick at 0xb88bc70>,\n",
       "  <matplotlib.axis.XTick at 0xb8931c0>,\n",
       "  <matplotlib.axis.XTick at 0xb8936d0>,\n",
       "  <matplotlib.axis.XTick at 0xb893c10>],\n",
       " [Text(0, 0, ''),\n",
       "  Text(0, 0, ''),\n",
       "  Text(0, 0, ''),\n",
       "  Text(0, 0, ''),\n",
       "  Text(0, 0, ''),\n",
       "  Text(0, 0, ''),\n",
       "  Text(0, 0, ''),\n",
       "  Text(0, 0, ''),\n",
       "  Text(0, 0, ''),\n",
       "  Text(0, 0, ''),\n",
       "  Text(0, 0, ''),\n",
       "  Text(0, 0, ''),\n",
       "  Text(0, 0, ''),\n",
       "  Text(0, 0, ''),\n",
       "  Text(0, 0, ''),\n",
       "  Text(0, 0, ''),\n",
       "  Text(0, 0, ''),\n",
       "  Text(0, 0, ''),\n",
       "  Text(0, 0, ''),\n",
       "  Text(0, 0, ''),\n",
       "  Text(0, 0, ''),\n",
       "  Text(0, 0, ''),\n",
       "  Text(0, 0, ''),\n",
       "  Text(0, 0, ''),\n",
       "  Text(0, 0, ''),\n",
       "  Text(0, 0, ''),\n",
       "  Text(0, 0, ''),\n",
       "  Text(0, 0, ''),\n",
       "  Text(0, 0, ''),\n",
       "  Text(0, 0, ''),\n",
       "  Text(0, 0, ''),\n",
       "  Text(0, 0, ''),\n",
       "  Text(0, 0, ''),\n",
       "  Text(0, 0, '')])"
      ]
     },
     "execution_count": 20,
     "metadata": {},
     "output_type": "execute_result"
    },
    {
     "data": {
      "image/png": "[encoded data removed]",
      "text/plain": [
       "<Figure size 1080x432 with 1 Axes>"
      ]
     },
     "metadata": {},
     "output_type": "display_data"
    }
   ],
   "source": [
    "#Plotting the graph for the number of attacks per year worldwide.\n",
    "plt.figure(figsize=(15, 6))\n",
    "sns.set_theme(style='darkgrid')\n",
    "sns.lineplot(data=df['year'].value_counts(), marker='o')\n",
    "plt.xlabel('Year')\n",
    "plt.ylabel('Number of attacks')\n",
    "xaxis=[1982, 1983, 1984, 1985, 1986, 1987, 1988, 1989, 1990, 1991, 1992, 1993, 1994, 1995, 1996, 1997, 1998, 1999, 2000, 2001, 2002, 2003, 2004, 2005, 2006, 2007, 2008, 2009, 2010, 2011, 2012, 2013, 2014, 2015]\n",
    "plt.xticks(xaxis, rotation=55)"
   ]
  },
  {
   "cell_type": "markdown",
   "metadata": {},
   "source": [
    "The year with the highest number of attacks is 2014 (545) although as mentioned above the year 2007 had the highest number of casualties. The year 1982 and 1992 had the least number of attacks. 1 attack per year according to this dataset.\n",
    "It is also seen that from the year 1998, there was a continuous increase in the number of attacks all around the world. \n"
   ]
  },
  {
   "cell_type": "markdown",
   "metadata": {},
   "source": [
    "# Number of Attacks, deaths, and injured per Country from 1982 to 2015"
   ]
  },
  {
   "cell_type": "code",
   "execution_count": 64,
   "metadata": {},
   "outputs": [
    {
     "data": {
      "text/plain": [
       "47"
      ]
     },
     "execution_count": 64,
     "metadata": {},
     "output_type": "execute_result"
    }
   ],
   "source": [
    "#finding the number of Countries represented in this dataset\n",
    "df['target_country'].nunique()"
   ]
  },
  {
   "cell_type": "code",
   "execution_count": 65,
   "metadata": {},
   "outputs": [
    {
     "data": {
      "text/plain": [
       "Iraq                               1938\n",
       "Afghanistan                        1058\n",
       "Pakistan                            487\n",
       "Syria                               172\n",
       "Sri Lanka                           115\n",
       "Israel                              113\n",
       "Nigeria                             103\n",
       "Somalia                              91\n",
       "Yemen                                87\n",
       "Russia                               86\n",
       "Lebanon                              66\n",
       "Palestinian Territory, Occupied      59\n",
       "Libya                                29\n",
       "Turkey                               29\n",
       "Algeria                              24\n",
       "Egypt                                21\n",
       "Mali                                 19\n",
       "India                                15\n",
       "Saudi Arabia                         12\n",
       "China                                12\n",
       "Morocco                              11\n",
       "Indonesia                            10\n",
       "Iran                                  8\n",
       "Uzbekistan                            6\n",
       "United Kingdom                        4\n",
       "United States                         4\n",
       "Chad                                  4\n",
       "Bangladesh                            3\n",
       "Ukraine                               3\n",
       "Jordan                                3\n",
       "Kuwait                                3\n",
       "Niger                                 2\n",
       "Kenya                                 2\n",
       "Tunisia                               2\n",
       "Tajikistan                            2\n",
       "Finland                               2\n",
       "Spain                                 1\n",
       "Tanzania                              1\n",
       "Kazakhstan                            1\n",
       "Bolivia                               1\n",
       "Argentina                             1\n",
       "Mauritania                            1\n",
       "Sweden                                1\n",
       "Djibouti                              1\n",
       "Uganda                                1\n",
       "Bulgaria                              1\n",
       "Qatar                                 1\n",
       "Name: target_country, dtype: int64"
      ]
     },
     "execution_count": 65,
     "metadata": {},
     "output_type": "execute_result"
    }
   ],
   "source": [
    "#Finding the countries alongside the number of attacks from 1982 to 2015\n",
    "df['target_country'].value_counts()"
   ]
  },
  {
   "cell_type": "code",
   "execution_count": null,
   "metadata": {},
   "outputs": [],
   "source": []
  },
  {
   "cell_type": "code",
   "execution_count": 66,
   "metadata": {},
   "outputs": [
    {
     "data": {
      "text/plain": [
       "([0,\n",
       "  1,\n",
       "  2,\n",
       "  3,\n",
       "  4,\n",
       "  5,\n",
       "  6,\n",
       "  7,\n",
       "  8,\n",
       "  9,\n",
       "  10,\n",
       "  11,\n",
       "  12,\n",
       "  13,\n",
       "  14,\n",
       "  15,\n",
       "  16,\n",
       "  17,\n",
       "  18,\n",
       "  19,\n",
       "  20,\n",
       "  21,\n",
       "  22,\n",
       "  23,\n",
       "  24,\n",
       "  25,\n",
       "  26,\n",
       "  27,\n",
       "  28,\n",
       "  29,\n",
       "  30,\n",
       "  31,\n",
       "  32,\n",
       "  33,\n",
       "  34,\n",
       "  35,\n",
       "  36,\n",
       "  37,\n",
       "  38,\n",
       "  39,\n",
       "  40,\n",
       "  41,\n",
       "  42,\n",
       "  43,\n",
       "  44,\n",
       "  45,\n",
       "  46],\n",
       " [Text(0, 0, ''),\n",
       "  Text(0, 0, ''),\n",
       "  Text(0, 0, ''),\n",
       "  Text(0, 0, ''),\n",
       "  Text(0, 0, ''),\n",
       "  Text(0, 0, ''),\n",
       "  Text(0, 0, ''),\n",
       "  Text(0, 0, ''),\n",
       "  Text(0, 0, ''),\n",
       "  Text(0, 0, ''),\n",
       "  Text(0, 0, ''),\n",
       "  Text(0, 0, ''),\n",
       "  Text(0, 0, ''),\n",
       "  Text(0, 0, ''),\n",
       "  Text(0, 0, ''),\n",
       "  Text(0, 0, ''),\n",
       "  Text(0, 0, ''),\n",
       "  Text(0, 0, ''),\n",
       "  Text(0, 0, ''),\n",
       "  Text(0, 0, ''),\n",
       "  Text(0, 0, ''),\n",
       "  Text(0, 0, ''),\n",
       "  Text(0, 0, ''),\n",
       "  Text(0, 0, ''),\n",
       "  Text(0, 0, ''),\n",
       "  Text(0, 0, ''),\n",
       "  Text(0, 0, ''),\n",
       "  Text(0, 0, ''),\n",
       "  Text(0, 0, ''),\n",
       "  Text(0, 0, ''),\n",
       "  Text(0, 0, ''),\n",
       "  Text(0, 0, ''),\n",
       "  Text(0, 0, ''),\n",
       "  Text(0, 0, ''),\n",
       "  Text(0, 0, ''),\n",
       "  Text(0, 0, ''),\n",
       "  Text(0, 0, ''),\n",
       "  Text(0, 0, ''),\n",
       "  Text(0, 0, ''),\n",
       "  Text(0, 0, ''),\n",
       "  Text(0, 0, ''),\n",
       "  Text(0, 0, ''),\n",
       "  Text(0, 0, ''),\n",
       "  Text(0, 0, ''),\n",
       "  Text(0, 0, ''),\n",
       "  Text(0, 0, ''),\n",
       "  Text(0, 0, '')])"
      ]
     },
     "execution_count": 66,
     "metadata": {},
     "output_type": "execute_result"
    },
    {
     "data": {
      "image/png": "[encoded data removed]",
      "text/plain": [
       "<Figure size 1152x576 with 1 Axes>"
      ]
     },
     "metadata": {},
     "output_type": "display_data"
    }
   ],
   "source": [
    "#plotting the graph of country against number of attacks\n",
    "plt.figure(figsize=(16, 8))\n",
    "sns.lineplot(data=df['target_country'].value_counts(), marker='o')\n",
    "plt.xticks(rotation=90)"
   ]
  },
  {
   "cell_type": "markdown",
   "metadata": {},
   "source": [
    "From here, we can see that Iraq has received the highest number of attacks throughout this period followed by Afghanistan\n",
    "Nigerian ranks the 7th most attack country according to this dataset."
   ]
  },
  {
   "cell_type": "code",
   "execution_count": 67,
   "metadata": {
    "scrolled": true
   },
   "outputs": [
    {
     "data": {
      "text/plain": [
       "target_country\n",
       "Afghanistan                         4745\n",
       "Algeria                              281\n",
       "Argentina                             85\n",
       "Bangladesh                            13\n",
       "Bolivia                                2\n",
       "Bulgaria                               6\n",
       "Chad                                  39\n",
       "China                                 62\n",
       "Djibouti                               1\n",
       "Egypt                                246\n",
       "Finland                                6\n",
       "India                                123\n",
       "Indonesia                            252\n",
       "Iran                                 160\n",
       "Iraq                               20084\n",
       "Israel                               721\n",
       "Jordan                                57\n",
       "Kazakhstan                             1\n",
       "Kenya                                213\n",
       "Kuwait                                36\n",
       "Lebanon                             1007\n",
       "Libya                                155\n",
       "Mali                                  45\n",
       "Mauritania                             0\n",
       "Morocco                               31\n",
       "Niger                                 21\n",
       "Nigeria                             1347\n",
       "Pakistan                            6279\n",
       "Palestinian Territory, Occupied       67\n",
       "Qatar                                  1\n",
       "Russia                               782\n",
       "Saudi Arabia                          85\n",
       "Somalia                              829\n",
       "Spain                                  1\n",
       "Sri Lanka                           1584\n",
       "Sweden                                 0\n",
       "Syria                               2058\n",
       "Tajikistan                             6\n",
       "Tanzania                              10\n",
       "Tunisia                               21\n",
       "Turkey                               115\n",
       "Uganda                                76\n",
       "Ukraine                                5\n",
       "United Kingdom                        52\n",
       "United States                       2974\n",
       "Uzbekistan                            12\n",
       "Yemen                               1128\n",
       "Name: no_killed, dtype: int64"
      ]
     },
     "execution_count": 67,
     "metadata": {},
     "output_type": "execute_result"
    }
   ],
   "source": [
    "#number of people Killed per country throughout 1982 to 2015\n",
    "df.groupby('target_country')['no_killed'].sum()"
   ]
  },
  {
   "cell_type": "code",
   "execution_count": 73,
   "metadata": {},
   "outputs": [
    {
     "data": {
      "text/plain": [
       "target_country\n",
       "Afghanistan                        11903\n",
       "Algeria                             1380\n",
       "Argentina                            200\n",
       "Bangladesh                            67\n",
       "Bolivia                               10\n",
       "Bulgaria                              32\n",
       "Chad                                 153\n",
       "China                                297\n",
       "Djibouti                              15\n",
       "Egypt                                880\n",
       "Finland                              107\n",
       "India                                243\n",
       "Indonesia                            833\n",
       "Iran                                 565\n",
       "Iraq                               48902\n",
       "Israel                              5077\n",
       "Jordan                               120\n",
       "Kazakhstan                             0\n",
       "Kenya                               5080\n",
       "Kuwait                               300\n",
       "Lebanon                             1767\n",
       "Libya                                277\n",
       "Mali                                 112\n",
       "Mauritania                             3\n",
       "Morocco                              107\n",
       "Niger                                 30\n",
       "Nigeria                             2726\n",
       "Pakistan                           14695\n",
       "Palestinian Territory, Occupied      329\n",
       "Qatar                                 12\n",
       "Russia                              2511\n",
       "Saudi Arabia                         624\n",
       "Somalia                             1051\n",
       "Spain                                  3\n",
       "Sri Lanka                           3996\n",
       "Sweden                                 2\n",
       "Syria                               3498\n",
       "Tajikistan                            53\n",
       "Tanzania                              74\n",
       "Tunisia                                0\n",
       "Turkey                              1069\n",
       "Uganda                                60\n",
       "Ukraine                                7\n",
       "United Kingdom                       784\n",
       "United States                       6304\n",
       "Uzbekistan                            24\n",
       "Yemen                               1707\n",
       "Name: no_wounded, dtype: int64"
      ]
     },
     "execution_count": 73,
     "metadata": {},
     "output_type": "execute_result"
    }
   ],
   "source": [
    "#number of wounded per country throughout 1982 to 2015\n",
    "df.groupby('target_country')['no_wounded'].sum()"
   ]
  },
  {
   "cell_type": "code",
   "execution_count": 72,
   "metadata": {},
   "outputs": [
    {
     "data": {
      "text/plain": [
       "<matplotlib.legend.Legend at 0xd133b80>"
      ]
     },
     "execution_count": 72,
     "metadata": {},
     "output_type": "execute_result"
    },
    {
     "data": {
      "image/png": "[encoded data removed]",
      "text/plain": [
       "<Figure size 1152x576 with 1 Axes>"
      ]
     },
     "metadata": {},
     "output_type": "display_data"
    }
   ],
   "source": [
    "#Plotting the graph for number of killed and wounded per country from 1982 to 2015\n",
    "plt.figure(figsize=(16, 8))\n",
    "sns.set_theme(style='darkgrid')\n",
    "sns.lineplot(data=df.groupby('target_country')['no_killed'].sum(), marker='o')\n",
    "sns.lineplot(data=df.groupby('target_country')['no_wounded'].sum(), marker='o')\n",
    "plt.xticks(rotation=90)\n",
    "plt.legend(labels=['number of killed', 'number of wounded'])"
   ]
  },
  {
   "cell_type": "markdown",
   "metadata": {},
   "source": [
    "We can see from the graph above that Iraq has the highest number of people killed and woundedfrom 1982 to 2015\n",
    "Observe also how the number of those killed are most times smaller than those wounded."
   ]
  },
  {
   "cell_type": "markdown",
   "metadata": {},
   "source": [
    "# TERRORIST GROUPS "
   ]
  },
  {
   "cell_type": "markdown",
   "metadata": {},
   "source": [
    "Terrorist groups and the number of attacks"
   ]
  },
  {
   "cell_type": "code",
   "execution_count": 107,
   "metadata": {},
   "outputs": [
    {
     "data": {
      "text/plain": [
       "128"
      ]
     },
     "execution_count": 107,
     "metadata": {},
     "output_type": "execute_result"
    }
   ],
   "source": [
    "#number of unique terrorist groups in the terrorist group column\n",
    "df['terrorist groups'].nunique()"
   ]
  },
  {
   "cell_type": "code",
   "execution_count": 81,
   "metadata": {
    "scrolled": true
   },
   "outputs": [
    {
     "data": {
      "text/plain": [
       "Unknown Group                                    2538\n",
       "Taliban (IEA)                                     661\n",
       "Islamic State                                     184\n",
       "Tehrik-i-Taliban Pakistan                         137\n",
       "Islamic State of Iraq and Syria                   126\n",
       "Al-Qaeda in Iraq                                  118\n",
       "Islamic State of Iraq                             113\n",
       "Liberation Tigers of Tamil Eelam                   83\n",
       "HAMAS                                              69\n",
       "Al-Shabaab                                         64\n",
       "Jabhat an-Nusrah li-Ahl ash-Sham                   49\n",
       "Palestinian Islamic Jihad                          39\n",
       "Al-Aqsa Martyrs Brigade                            31\n",
       "Ansar al-Sunna                                     28\n",
       "Jama'at Al-Tawhid Wa'al-Jihad                      25\n",
       "Al-Qaeda in the Arabian Peninsula                  23\n",
       "Al-Qaeda in the Land of the Islamic Maghreb        22\n",
       "Boko Haram                                         20\n",
       "Lashkar-e Jhangvi Al-almi                          18\n",
       "Al-Qaeda Central                                   15\n",
       "Riyadus Salikhiin                                  11\n",
       "Kurdistan Workers Party                            10\n",
       "Ansar Beit al-Maqdis                               10\n",
       "Chechen Republic of Ichkeria                       10\n",
       "Popular Front for the Liberation of Palestine       9\n",
       "Name: terrorist groups, dtype: int64"
      ]
     },
     "execution_count": 81,
     "metadata": {},
     "output_type": "execute_result"
    }
   ],
   "source": [
    "df['terrorist groups'].value_counts().head(25)"
   ]
  },
  {
   "cell_type": "code",
   "execution_count": 108,
   "metadata": {
    "scrolled": true
   },
   "outputs": [
    {
     "data": {
      "text/plain": [
       "Turkistan Islamic Party                                                        1\n",
       "Jamaa Al-Islamiya Al-Alamiya,Islamic Unity Brigades,Abdullah Azzam Brigades    1\n",
       "Jund al-Islam                                                                  1\n",
       "Taliban (IEA),Islamic Movement of Uzbekistan                                   1\n",
       "Ansar al-Islam                                                                 1\n",
       "Aisha Umm-al Mouemeneen                                                        1\n",
       "Jihad Islami                                                                   1\n",
       "Jamaat Ansarullah                                                              1\n",
       "Lebanese Islamic Jihad (Hezbollah),Lebanese National Resistance Front          1\n",
       "Jabhat an-Nusrah li-Ahl ash-Sham,Islamic State of Iraq and Syria               1\n",
       "Mujahideen Shura Council,Al-Qaeda in Iraq                                      1\n",
       "Popular Front for the Liberation of Palestine,HAMAS                            1\n",
       "Yekineyen Parastina Gel                                                        1\n",
       "Hizbal Islam in Somalia                                                        1\n",
       "Palestinian Islamic Jihad,HAMAS                                                1\n",
       "HAMAS,Unknown Group                                                            1\n",
       "Jund al-Sham                                                                   1\n",
       "Arab Egyptian League                                                           1\n",
       "Al-Qaeda in Iraq,Arab Resistance Movement - Al-Rashid Brigades                 1\n",
       "Lebanese National Resistance Front,Lebanese Communist Party                    1\n",
       "Soldiers of the Prophet's Companions Group                                     1\n",
       "Islamic Army in Iraq                                                           1\n",
       "Babbar Khalsa International                                                    1\n",
       "Jundullah (Pakistan),Tehrik-i-Taliban Pakistan                                 1\n",
       "Hizb-i-Islami,Taliban (IEA)                                                    1\n",
       "Name: terrorist groups, dtype: int64"
      ]
     },
     "execution_count": 108,
     "metadata": {},
     "output_type": "execute_result"
    }
   ],
   "source": [
    "df['terrorist groups'].value_counts().tail(25)"
   ]
  },
  {
   "cell_type": "markdown",
   "metadata": {},
   "source": [
    "Number of wounded people caused by the terrorist groups"
   ]
  },
  {
   "cell_type": "code",
   "execution_count": 118,
   "metadata": {
    "scrolled": false
   },
   "outputs": [
    {
     "data": {
      "text/plain": [
       "terrorist groups\n",
       "Arab Egyptian League                          0\n",
       "Lashkar-e Taiba,Hizbul Mujahedin              0\n",
       "Benghazi Revolutionaries Shura Council        0\n",
       "Islamic Resistance                            0\n",
       "Aden-Abyan Army                               0\n",
       "                                          ...  \n",
       "Islamic State of Iraq                      4645\n",
       "Tehrik-i-Taliban Pakistan                  4866\n",
       "Taliban (IEA)                              7262\n",
       "Al-Qaeda Central                          12339\n",
       "Unknown Group                             54888\n",
       "Name: no_wounded, Length: 128, dtype: int64"
      ]
     },
     "execution_count": 118,
     "metadata": {},
     "output_type": "execute_result"
    }
   ],
   "source": [
    "#Number of wounded people caused by the terrorist groups\n",
    "df.groupby('terrorist groups')['no_wounded'].sum().sort_values()"
   ]
  },
  {
   "cell_type": "markdown",
   "metadata": {},
   "source": [
    "Number of killed people caused by the terrorist groups"
   ]
  },
  {
   "cell_type": "code",
   "execution_count": 119,
   "metadata": {
    "scrolled": false
   },
   "outputs": [
    {
     "data": {
      "text/plain": [
       "terrorist groups\n",
       "Shumukh al-Islam                                                          0\n",
       "Lebanese National Resistance Front,Lebanese Communist Party               0\n",
       "Lebanese National Resistance Front,Syrian Social Nationalist Party        0\n",
       "Benghazi Revolutionaries Shura Council                                    0\n",
       "Hizbal Islam in Somalia                                                   0\n",
       "                                                                      ...  \n",
       "Tehrik-i-Taliban Pakistan                                              2087\n",
       "Islamic State                                                          2192\n",
       "Taliban (IEA)                                                          2919\n",
       "Al-Qaeda Central                                                       3319\n",
       "Unknown Group                                                         22796\n",
       "Name: no_killed, Length: 128, dtype: int64"
      ]
     },
     "execution_count": 119,
     "metadata": {},
     "output_type": "execute_result"
    }
   ],
   "source": [
    "#Number of killed people caused by the terrorist groups\n",
    "df.groupby('terrorist groups')['no_killed'].sum().sort_values()"
   ]
  },
  {
   "cell_type": "code",
   "execution_count": null,
   "metadata": {},
   "outputs": [],
   "source": []
  },
  {
   "cell_type": "markdown",
   "metadata": {},
   "source": [
    "# Total Number of people killed and wounded from 1982 to 2015 from all countries:"
   ]
  },
  {
   "cell_type": "code",
   "execution_count": 21,
   "metadata": {},
   "outputs": [
    {
     "data": {
      "text/plain": [
       "117989"
      ]
     },
     "execution_count": 21,
     "metadata": {},
     "output_type": "execute_result"
    }
   ],
   "source": [
    "#Total number of people wounded\n",
    "df['no_wounded'].sum()"
   ]
  },
  {
   "cell_type": "code",
   "execution_count": 22,
   "metadata": {},
   "outputs": [
    {
     "data": {
      "text/plain": [
       "45824"
      ]
     },
     "execution_count": 22,
     "metadata": {},
     "output_type": "execute_result"
    }
   ],
   "source": [
    "#Total number of people killed\n",
    "df['no_killed'].sum()"
   ]
  },
  {
   "cell_type": "markdown",
   "metadata": {},
   "source": [
    "# NIGERIA"
   ]
  },
  {
   "cell_type": "markdown",
   "metadata": {},
   "source": [
    "Nigeria had a number of attacks as well. Below focuses on suicide attacks on Nigerian soil."
   ]
  },
  {
   "cell_type": "code",
   "execution_count": 23,
   "metadata": {
    "scrolled": true
   },
   "outputs": [
    {
     "data": {
      "text/html": [
       "<div>\n",
       "<style scoped>\n",
       "    .dataframe tbody tr th:only-of-type {\n",
       "        vertical-align: middle;\n",
       "    }\n",
       "\n",
       "    .dataframe tbody tr th {\n",
       "        vertical-align: top;\n",
       "    }\n",
       "\n",
       "    .dataframe thead th {\n",
       "        text-align: right;\n",
       "    }\n",
       "</style>\n",
       "<table border=\"1\" class=\"dataframe\">\n",
       "  <thead>\n",
       "    <tr style=\"text-align: right;\">\n",
       "      <th></th>\n",
       "      <th>terrorist groups</th>\n",
       "      <th>attacker_age</th>\n",
       "      <th>campaign_name</th>\n",
       "      <th>campaign_sides</th>\n",
       "      <th>day</th>\n",
       "      <th>month</th>\n",
       "      <th>year</th>\n",
       "      <th>no_killed</th>\n",
       "      <th>no_wounded</th>\n",
       "      <th>target_country</th>\n",
       "      <th>...</th>\n",
       "      <th>target_name</th>\n",
       "      <th>target_type</th>\n",
       "      <th>target_weapon</th>\n",
       "      <th>attackers_birth_location</th>\n",
       "      <th>attackers_birth_year</th>\n",
       "      <th>attackers_education</th>\n",
       "      <th>attackers_gender</th>\n",
       "      <th>attackers_marital</th>\n",
       "      <th>attacker_occupation</th>\n",
       "      <th>attacker_religion</th>\n",
       "    </tr>\n",
       "  </thead>\n",
       "  <tbody>\n",
       "    <tr>\n",
       "      <th>2902</th>\n",
       "      <td>Boko Haram</td>\n",
       "      <td>35</td>\n",
       "      <td>Rebels vs. Nigeria &amp; Allies</td>\n",
       "      <td>Rebels,Nigeria &amp; Allies</td>\n",
       "      <td>16</td>\n",
       "      <td>6</td>\n",
       "      <td>2011</td>\n",
       "      <td>6</td>\n",
       "      <td>0</td>\n",
       "      <td>Nigeria</td>\n",
       "      <td>...</td>\n",
       "      <td>Nigerian Police Headquarters</td>\n",
       "      <td>Security</td>\n",
       "      <td>Car bomb</td>\n",
       "      <td>Nigeria</td>\n",
       "      <td>1976</td>\n",
       "      <td>Unknown</td>\n",
       "      <td>Unknown</td>\n",
       "      <td>Married</td>\n",
       "      <td>Professional</td>\n",
       "      <td>Muslim (Sunni)</td>\n",
       "    </tr>\n",
       "    <tr>\n",
       "      <th>2947</th>\n",
       "      <td>Boko Haram</td>\n",
       "      <td>27</td>\n",
       "      <td>Rebels vs. Nigeria &amp; Allies</td>\n",
       "      <td>Rebels,Nigeria &amp; Allies</td>\n",
       "      <td>26</td>\n",
       "      <td>8</td>\n",
       "      <td>2011</td>\n",
       "      <td>24</td>\n",
       "      <td>80</td>\n",
       "      <td>Nigeria</td>\n",
       "      <td>...</td>\n",
       "      <td>United Nations (UN) Headquarters</td>\n",
       "      <td>Political</td>\n",
       "      <td>Car bomb</td>\n",
       "      <td>Unknown</td>\n",
       "      <td>1984</td>\n",
       "      <td>Unknown</td>\n",
       "      <td>Male</td>\n",
       "      <td>Unknown</td>\n",
       "      <td>Unknown</td>\n",
       "      <td>Unknown</td>\n",
       "    </tr>\n",
       "    <tr>\n",
       "      <th>3003</th>\n",
       "      <td>Boko Haram</td>\n",
       "      <td>-1</td>\n",
       "      <td>Rebels vs. Nigeria &amp; Allies</td>\n",
       "      <td>Rebels,Nigeria &amp; Allies</td>\n",
       "      <td>4</td>\n",
       "      <td>11</td>\n",
       "      <td>2011</td>\n",
       "      <td>5</td>\n",
       "      <td>0</td>\n",
       "      <td>Nigeria</td>\n",
       "      <td>...</td>\n",
       "      <td>Nigerian Police station</td>\n",
       "      <td>Security</td>\n",
       "      <td>Car bomb</td>\n",
       "      <td>Unknown</td>\n",
       "      <td>-1</td>\n",
       "      <td>Unknown</td>\n",
       "      <td>Unknown</td>\n",
       "      <td>Unknown</td>\n",
       "      <td>Unknown</td>\n",
       "      <td>Unknown</td>\n",
       "    </tr>\n",
       "    <tr>\n",
       "      <th>3004</th>\n",
       "      <td>Boko Haram</td>\n",
       "      <td>26</td>\n",
       "      <td>Rebels vs. Nigeria &amp; Allies</td>\n",
       "      <td>Rebels,Nigeria &amp; Allies</td>\n",
       "      <td>4</td>\n",
       "      <td>11</td>\n",
       "      <td>2011</td>\n",
       "      <td>0</td>\n",
       "      <td>7</td>\n",
       "      <td>Nigeria</td>\n",
       "      <td>...</td>\n",
       "      <td>Headquarters of the military anti-terrorism Jo...</td>\n",
       "      <td>Security</td>\n",
       "      <td>Car bomb</td>\n",
       "      <td>Unknown</td>\n",
       "      <td>1985</td>\n",
       "      <td>Unknown</td>\n",
       "      <td>Unknown</td>\n",
       "      <td>Unknown</td>\n",
       "      <td>Unknown</td>\n",
       "      <td>Unknown</td>\n",
       "    </tr>\n",
       "    <tr>\n",
       "      <th>3029</th>\n",
       "      <td>Boko Haram</td>\n",
       "      <td>-1</td>\n",
       "      <td>Rebels vs. Nigeria &amp; Allies</td>\n",
       "      <td>Rebels,Nigeria &amp; Allies</td>\n",
       "      <td>25</td>\n",
       "      <td>12</td>\n",
       "      <td>2011</td>\n",
       "      <td>43</td>\n",
       "      <td>57</td>\n",
       "      <td>Nigeria</td>\n",
       "      <td>...</td>\n",
       "      <td>St. Theresa's Catholic Church in Madalla</td>\n",
       "      <td>Civilian</td>\n",
       "      <td>Car bomb</td>\n",
       "      <td>Unknown</td>\n",
       "      <td>-1</td>\n",
       "      <td>Unknown</td>\n",
       "      <td>Unknown</td>\n",
       "      <td>Unknown</td>\n",
       "      <td>Unknown</td>\n",
       "      <td>Unknown</td>\n",
       "    </tr>\n",
       "    <tr>\n",
       "      <th>...</th>\n",
       "      <td>...</td>\n",
       "      <td>...</td>\n",
       "      <td>...</td>\n",
       "      <td>...</td>\n",
       "      <td>...</td>\n",
       "      <td>...</td>\n",
       "      <td>...</td>\n",
       "      <td>...</td>\n",
       "      <td>...</td>\n",
       "      <td>...</td>\n",
       "      <td>...</td>\n",
       "      <td>...</td>\n",
       "      <td>...</td>\n",
       "      <td>...</td>\n",
       "      <td>...</td>\n",
       "      <td>...</td>\n",
       "      <td>...</td>\n",
       "      <td>...</td>\n",
       "      <td>...</td>\n",
       "      <td>...</td>\n",
       "      <td>...</td>\n",
       "    </tr>\n",
       "    <tr>\n",
       "      <th>4585</th>\n",
       "      <td>Unknown Group</td>\n",
       "      <td>-1</td>\n",
       "      <td>Rebels vs. Nigeria &amp; Allies</td>\n",
       "      <td>Rebels,Nigeria &amp; Allies</td>\n",
       "      <td>13</td>\n",
       "      <td>6</td>\n",
       "      <td>2015</td>\n",
       "      <td>3</td>\n",
       "      <td>4</td>\n",
       "      <td>Nigeria</td>\n",
       "      <td>...</td>\n",
       "      <td>Nigerian army checkpoint</td>\n",
       "      <td>Security</td>\n",
       "      <td>Motorcycle bomb</td>\n",
       "      <td>Unknown</td>\n",
       "      <td>-1</td>\n",
       "      <td>Unknown</td>\n",
       "      <td>Male</td>\n",
       "      <td>Unknown</td>\n",
       "      <td>Unknown</td>\n",
       "      <td>Unknown</td>\n",
       "    </tr>\n",
       "    <tr>\n",
       "      <th>4592</th>\n",
       "      <td>Unknown Group</td>\n",
       "      <td>-1</td>\n",
       "      <td>Rebels vs. Nigeria &amp; Allies</td>\n",
       "      <td>Rebels,Nigeria &amp; Allies</td>\n",
       "      <td>15</td>\n",
       "      <td>6</td>\n",
       "      <td>2015</td>\n",
       "      <td>8</td>\n",
       "      <td>8</td>\n",
       "      <td>Nigeria</td>\n",
       "      <td>...</td>\n",
       "      <td>Civilian Vigilante Office in the Igwanda area ...</td>\n",
       "      <td>Security</td>\n",
       "      <td>Belt bomb</td>\n",
       "      <td>Unknown</td>\n",
       "      <td>-1</td>\n",
       "      <td>Unknown</td>\n",
       "      <td>Male</td>\n",
       "      <td>Unknown</td>\n",
       "      <td>Unknown</td>\n",
       "      <td>Unknown</td>\n",
       "    </tr>\n",
       "    <tr>\n",
       "      <th>4594</th>\n",
       "      <td>Unknown Group</td>\n",
       "      <td>-1</td>\n",
       "      <td>Rebels vs. Nigeria &amp; Allies</td>\n",
       "      <td>Rebels,Nigeria &amp; Allies</td>\n",
       "      <td>15</td>\n",
       "      <td>6</td>\n",
       "      <td>2015</td>\n",
       "      <td>2</td>\n",
       "      <td>0</td>\n",
       "      <td>Nigeria</td>\n",
       "      <td>...</td>\n",
       "      <td>Angry mob chasing the bomber</td>\n",
       "      <td>Civilian</td>\n",
       "      <td>Belt bomb</td>\n",
       "      <td>Unknown</td>\n",
       "      <td>-1</td>\n",
       "      <td>Unknown</td>\n",
       "      <td>Male</td>\n",
       "      <td>Unknown</td>\n",
       "      <td>Unknown</td>\n",
       "      <td>Unknown</td>\n",
       "    </tr>\n",
       "    <tr>\n",
       "      <th>4604</th>\n",
       "      <td>Unknown Group</td>\n",
       "      <td>12</td>\n",
       "      <td>Rebels vs. Nigeria &amp; Allies</td>\n",
       "      <td>Rebels,Nigeria &amp; Allies</td>\n",
       "      <td>23</td>\n",
       "      <td>6</td>\n",
       "      <td>2015</td>\n",
       "      <td>10</td>\n",
       "      <td>30</td>\n",
       "      <td>Nigeria</td>\n",
       "      <td>...</td>\n",
       "      <td>Weekly market</td>\n",
       "      <td>Civilian</td>\n",
       "      <td>Belt bomb</td>\n",
       "      <td>Unknown</td>\n",
       "      <td>2003</td>\n",
       "      <td>Unknown</td>\n",
       "      <td>Female</td>\n",
       "      <td>Unknown</td>\n",
       "      <td>Unknown</td>\n",
       "      <td>Unknown</td>\n",
       "    </tr>\n",
       "    <tr>\n",
       "      <th>4611</th>\n",
       "      <td>Unknown Group</td>\n",
       "      <td>-1</td>\n",
       "      <td>Rebels vs. Nigeria &amp; Allies</td>\n",
       "      <td>Rebels,Nigeria &amp; Allies</td>\n",
       "      <td>27</td>\n",
       "      <td>6</td>\n",
       "      <td>2015</td>\n",
       "      <td>5</td>\n",
       "      <td>15</td>\n",
       "      <td>Nigeria</td>\n",
       "      <td>...</td>\n",
       "      <td>Outside Molai leprosy hospital</td>\n",
       "      <td>Civilian</td>\n",
       "      <td>Belt bomb</td>\n",
       "      <td>Unknown</td>\n",
       "      <td>-1</td>\n",
       "      <td>Unknown</td>\n",
       "      <td>Unknown</td>\n",
       "      <td>Unknown</td>\n",
       "      <td>Unknown</td>\n",
       "      <td>Unknown</td>\n",
       "    </tr>\n",
       "  </tbody>\n",
       "</table>\n",
       "<p>103 rows × 21 columns</p>\n",
       "</div>"
      ],
      "text/plain": [
       "     terrorist groups  attacker_age                campaign_name  \\\n",
       "2902       Boko Haram            35  Rebels vs. Nigeria & Allies   \n",
       "2947       Boko Haram            27  Rebels vs. Nigeria & Allies   \n",
       "3003       Boko Haram            -1  Rebels vs. Nigeria & Allies   \n",
       "3004       Boko Haram            26  Rebels vs. Nigeria & Allies   \n",
       "3029       Boko Haram            -1  Rebels vs. Nigeria & Allies   \n",
       "...               ...           ...                          ...   \n",
       "4585    Unknown Group            -1  Rebels vs. Nigeria & Allies   \n",
       "4592    Unknown Group            -1  Rebels vs. Nigeria & Allies   \n",
       "4594    Unknown Group            -1  Rebels vs. Nigeria & Allies   \n",
       "4604    Unknown Group            12  Rebels vs. Nigeria & Allies   \n",
       "4611    Unknown Group            -1  Rebels vs. Nigeria & Allies   \n",
       "\n",
       "               campaign_sides  day  month  year  no_killed  no_wounded  \\\n",
       "2902  Rebels,Nigeria & Allies   16      6  2011          6           0   \n",
       "2947  Rebels,Nigeria & Allies   26      8  2011         24          80   \n",
       "3003  Rebels,Nigeria & Allies    4     11  2011          5           0   \n",
       "3004  Rebels,Nigeria & Allies    4     11  2011          0           7   \n",
       "3029  Rebels,Nigeria & Allies   25     12  2011         43          57   \n",
       "...                       ...  ...    ...   ...        ...         ...   \n",
       "4585  Rebels,Nigeria & Allies   13      6  2015          3           4   \n",
       "4592  Rebels,Nigeria & Allies   15      6  2015          8           8   \n",
       "4594  Rebels,Nigeria & Allies   15      6  2015          2           0   \n",
       "4604  Rebels,Nigeria & Allies   23      6  2015         10          30   \n",
       "4611  Rebels,Nigeria & Allies   27      6  2015          5          15   \n",
       "\n",
       "     target_country  ...                                        target_name  \\\n",
       "2902        Nigeria  ...                       Nigerian Police Headquarters   \n",
       "2947        Nigeria  ...                   United Nations (UN) Headquarters   \n",
       "3003        Nigeria  ...                            Nigerian Police station   \n",
       "3004        Nigeria  ...  Headquarters of the military anti-terrorism Jo...   \n",
       "3029        Nigeria  ...           St. Theresa's Catholic Church in Madalla   \n",
       "...             ...  ...                                                ...   \n",
       "4585        Nigeria  ...                           Nigerian army checkpoint   \n",
       "4592        Nigeria  ...  Civilian Vigilante Office in the Igwanda area ...   \n",
       "4594        Nigeria  ...                       Angry mob chasing the bomber   \n",
       "4604        Nigeria  ...                                      Weekly market   \n",
       "4611        Nigeria  ...                     Outside Molai leprosy hospital   \n",
       "\n",
       "     target_type    target_weapon attackers_birth_location  \\\n",
       "2902    Security         Car bomb                  Nigeria   \n",
       "2947   Political         Car bomb                  Unknown   \n",
       "3003    Security         Car bomb                  Unknown   \n",
       "3004    Security         Car bomb                  Unknown   \n",
       "3029    Civilian         Car bomb                  Unknown   \n",
       "...          ...              ...                      ...   \n",
       "4585    Security  Motorcycle bomb                  Unknown   \n",
       "4592    Security        Belt bomb                  Unknown   \n",
       "4594    Civilian        Belt bomb                  Unknown   \n",
       "4604    Civilian        Belt bomb                  Unknown   \n",
       "4611    Civilian        Belt bomb                  Unknown   \n",
       "\n",
       "     attackers_birth_year  attackers_education attackers_gender  \\\n",
       "2902                 1976              Unknown          Unknown   \n",
       "2947                 1984              Unknown             Male   \n",
       "3003                   -1              Unknown          Unknown   \n",
       "3004                 1985              Unknown          Unknown   \n",
       "3029                   -1              Unknown          Unknown   \n",
       "...                   ...                  ...              ...   \n",
       "4585                   -1              Unknown             Male   \n",
       "4592                   -1              Unknown             Male   \n",
       "4594                   -1              Unknown             Male   \n",
       "4604                 2003              Unknown           Female   \n",
       "4611                   -1              Unknown          Unknown   \n",
       "\n",
       "     attackers_marital attacker_occupation attacker_religion  \n",
       "2902           Married        Professional    Muslim (Sunni)  \n",
       "2947           Unknown             Unknown           Unknown  \n",
       "3003           Unknown             Unknown           Unknown  \n",
       "3004           Unknown             Unknown           Unknown  \n",
       "3029           Unknown             Unknown           Unknown  \n",
       "...                ...                 ...               ...  \n",
       "4585           Unknown             Unknown           Unknown  \n",
       "4592           Unknown             Unknown           Unknown  \n",
       "4594           Unknown             Unknown           Unknown  \n",
       "4604           Unknown             Unknown           Unknown  \n",
       "4611           Unknown             Unknown           Unknown  \n",
       "\n",
       "[103 rows x 21 columns]"
      ]
     },
     "execution_count": 23,
     "metadata": {},
     "output_type": "execute_result"
    }
   ],
   "source": [
    "#displaying all rows that has Nigeria as the target country.\n",
    "nigeria=df.loc[(df['target_country']=='Nigeria')]\n",
    "nigeria"
   ]
  },
  {
   "cell_type": "markdown",
   "metadata": {},
   "source": [
    "103 rows were found. Although there is no guarantee that these were the only attacks done in Nigeria soil. But based on this dataset, 103 suicide attacks on Nigeria were recorded."
   ]
  },
  {
   "cell_type": "code",
   "execution_count": 24,
   "metadata": {},
   "outputs": [
    {
     "data": {
      "text/plain": [
       "count     103.000000\n",
       "mean     2013.796117\n",
       "std         1.323685\n",
       "min      2011.000000\n",
       "25%      2012.000000\n",
       "50%      2014.000000\n",
       "75%      2015.000000\n",
       "max      2015.000000\n",
       "Name: year, dtype: float64"
      ]
     },
     "execution_count": 24,
     "metadata": {},
     "output_type": "execute_result"
    }
   ],
   "source": [
    "#checking the year to which this suicide bombing started in Nigeria according to this dataset\n",
    "nigeria['year'].describe()"
   ]
  },
  {
   "cell_type": "markdown",
   "metadata": {},
   "source": [
    "The first attack was in 2011...\n",
    "looking at all the records in 2011 and from the record below, we can see the first attack... on 16th June 2011 at Abuja, the Federal Capital Territory with the weapon of attack being a car bomb."
   ]
  },
  {
   "cell_type": "code",
   "execution_count": 25,
   "metadata": {},
   "outputs": [
    {
     "data": {
      "text/html": [
       "<div>\n",
       "<style scoped>\n",
       "    .dataframe tbody tr th:only-of-type {\n",
       "        vertical-align: middle;\n",
       "    }\n",
       "\n",
       "    .dataframe tbody tr th {\n",
       "        vertical-align: top;\n",
       "    }\n",
       "\n",
       "    .dataframe thead th {\n",
       "        text-align: right;\n",
       "    }\n",
       "</style>\n",
       "<table border=\"1\" class=\"dataframe\">\n",
       "  <thead>\n",
       "    <tr style=\"text-align: right;\">\n",
       "      <th></th>\n",
       "      <th>terrorist groups</th>\n",
       "      <th>attacker_age</th>\n",
       "      <th>campaign_name</th>\n",
       "      <th>campaign_sides</th>\n",
       "      <th>day</th>\n",
       "      <th>month</th>\n",
       "      <th>year</th>\n",
       "      <th>no_killed</th>\n",
       "      <th>no_wounded</th>\n",
       "      <th>target_country</th>\n",
       "      <th>...</th>\n",
       "      <th>target_name</th>\n",
       "      <th>target_type</th>\n",
       "      <th>target_weapon</th>\n",
       "      <th>attackers_birth_location</th>\n",
       "      <th>attackers_birth_year</th>\n",
       "      <th>attackers_education</th>\n",
       "      <th>attackers_gender</th>\n",
       "      <th>attackers_marital</th>\n",
       "      <th>attacker_occupation</th>\n",
       "      <th>attacker_religion</th>\n",
       "    </tr>\n",
       "  </thead>\n",
       "  <tbody>\n",
       "    <tr>\n",
       "      <th>2902</th>\n",
       "      <td>Boko Haram</td>\n",
       "      <td>35</td>\n",
       "      <td>Rebels vs. Nigeria &amp; Allies</td>\n",
       "      <td>Rebels,Nigeria &amp; Allies</td>\n",
       "      <td>16</td>\n",
       "      <td>6</td>\n",
       "      <td>2011</td>\n",
       "      <td>6</td>\n",
       "      <td>0</td>\n",
       "      <td>Nigeria</td>\n",
       "      <td>...</td>\n",
       "      <td>Nigerian Police Headquarters</td>\n",
       "      <td>Security</td>\n",
       "      <td>Car bomb</td>\n",
       "      <td>Nigeria</td>\n",
       "      <td>1976</td>\n",
       "      <td>Unknown</td>\n",
       "      <td>Unknown</td>\n",
       "      <td>Married</td>\n",
       "      <td>Professional</td>\n",
       "      <td>Muslim (Sunni)</td>\n",
       "    </tr>\n",
       "    <tr>\n",
       "      <th>2947</th>\n",
       "      <td>Boko Haram</td>\n",
       "      <td>27</td>\n",
       "      <td>Rebels vs. Nigeria &amp; Allies</td>\n",
       "      <td>Rebels,Nigeria &amp; Allies</td>\n",
       "      <td>26</td>\n",
       "      <td>8</td>\n",
       "      <td>2011</td>\n",
       "      <td>24</td>\n",
       "      <td>80</td>\n",
       "      <td>Nigeria</td>\n",
       "      <td>...</td>\n",
       "      <td>United Nations (UN) Headquarters</td>\n",
       "      <td>Political</td>\n",
       "      <td>Car bomb</td>\n",
       "      <td>Unknown</td>\n",
       "      <td>1984</td>\n",
       "      <td>Unknown</td>\n",
       "      <td>Male</td>\n",
       "      <td>Unknown</td>\n",
       "      <td>Unknown</td>\n",
       "      <td>Unknown</td>\n",
       "    </tr>\n",
       "    <tr>\n",
       "      <th>3003</th>\n",
       "      <td>Boko Haram</td>\n",
       "      <td>-1</td>\n",
       "      <td>Rebels vs. Nigeria &amp; Allies</td>\n",
       "      <td>Rebels,Nigeria &amp; Allies</td>\n",
       "      <td>4</td>\n",
       "      <td>11</td>\n",
       "      <td>2011</td>\n",
       "      <td>5</td>\n",
       "      <td>0</td>\n",
       "      <td>Nigeria</td>\n",
       "      <td>...</td>\n",
       "      <td>Nigerian Police station</td>\n",
       "      <td>Security</td>\n",
       "      <td>Car bomb</td>\n",
       "      <td>Unknown</td>\n",
       "      <td>-1</td>\n",
       "      <td>Unknown</td>\n",
       "      <td>Unknown</td>\n",
       "      <td>Unknown</td>\n",
       "      <td>Unknown</td>\n",
       "      <td>Unknown</td>\n",
       "    </tr>\n",
       "    <tr>\n",
       "      <th>3004</th>\n",
       "      <td>Boko Haram</td>\n",
       "      <td>26</td>\n",
       "      <td>Rebels vs. Nigeria &amp; Allies</td>\n",
       "      <td>Rebels,Nigeria &amp; Allies</td>\n",
       "      <td>4</td>\n",
       "      <td>11</td>\n",
       "      <td>2011</td>\n",
       "      <td>0</td>\n",
       "      <td>7</td>\n",
       "      <td>Nigeria</td>\n",
       "      <td>...</td>\n",
       "      <td>Headquarters of the military anti-terrorism Jo...</td>\n",
       "      <td>Security</td>\n",
       "      <td>Car bomb</td>\n",
       "      <td>Unknown</td>\n",
       "      <td>1985</td>\n",
       "      <td>Unknown</td>\n",
       "      <td>Unknown</td>\n",
       "      <td>Unknown</td>\n",
       "      <td>Unknown</td>\n",
       "      <td>Unknown</td>\n",
       "    </tr>\n",
       "    <tr>\n",
       "      <th>3029</th>\n",
       "      <td>Boko Haram</td>\n",
       "      <td>-1</td>\n",
       "      <td>Rebels vs. Nigeria &amp; Allies</td>\n",
       "      <td>Rebels,Nigeria &amp; Allies</td>\n",
       "      <td>25</td>\n",
       "      <td>12</td>\n",
       "      <td>2011</td>\n",
       "      <td>43</td>\n",
       "      <td>57</td>\n",
       "      <td>Nigeria</td>\n",
       "      <td>...</td>\n",
       "      <td>St. Theresa's Catholic Church in Madalla</td>\n",
       "      <td>Civilian</td>\n",
       "      <td>Car bomb</td>\n",
       "      <td>Unknown</td>\n",
       "      <td>-1</td>\n",
       "      <td>Unknown</td>\n",
       "      <td>Unknown</td>\n",
       "      <td>Unknown</td>\n",
       "      <td>Unknown</td>\n",
       "      <td>Unknown</td>\n",
       "    </tr>\n",
       "  </tbody>\n",
       "</table>\n",
       "<p>5 rows × 21 columns</p>\n",
       "</div>"
      ],
      "text/plain": [
       "     terrorist groups  attacker_age                campaign_name  \\\n",
       "2902       Boko Haram            35  Rebels vs. Nigeria & Allies   \n",
       "2947       Boko Haram            27  Rebels vs. Nigeria & Allies   \n",
       "3003       Boko Haram            -1  Rebels vs. Nigeria & Allies   \n",
       "3004       Boko Haram            26  Rebels vs. Nigeria & Allies   \n",
       "3029       Boko Haram            -1  Rebels vs. Nigeria & Allies   \n",
       "\n",
       "               campaign_sides  day  month  year  no_killed  no_wounded  \\\n",
       "2902  Rebels,Nigeria & Allies   16      6  2011          6           0   \n",
       "2947  Rebels,Nigeria & Allies   26      8  2011         24          80   \n",
       "3003  Rebels,Nigeria & Allies    4     11  2011          5           0   \n",
       "3004  Rebels,Nigeria & Allies    4     11  2011          0           7   \n",
       "3029  Rebels,Nigeria & Allies   25     12  2011         43          57   \n",
       "\n",
       "     target_country  ...                                        target_name  \\\n",
       "2902        Nigeria  ...                       Nigerian Police Headquarters   \n",
       "2947        Nigeria  ...                   United Nations (UN) Headquarters   \n",
       "3003        Nigeria  ...                            Nigerian Police station   \n",
       "3004        Nigeria  ...  Headquarters of the military anti-terrorism Jo...   \n",
       "3029        Nigeria  ...           St. Theresa's Catholic Church in Madalla   \n",
       "\n",
       "     target_type target_weapon attackers_birth_location attackers_birth_year  \\\n",
       "2902    Security      Car bomb                  Nigeria                 1976   \n",
       "2947   Political      Car bomb                  Unknown                 1984   \n",
       "3003    Security      Car bomb                  Unknown                   -1   \n",
       "3004    Security      Car bomb                  Unknown                 1985   \n",
       "3029    Civilian      Car bomb                  Unknown                   -1   \n",
       "\n",
       "      attackers_education attackers_gender attackers_marital  \\\n",
       "2902              Unknown          Unknown           Married   \n",
       "2947              Unknown             Male           Unknown   \n",
       "3003              Unknown          Unknown           Unknown   \n",
       "3004              Unknown          Unknown           Unknown   \n",
       "3029              Unknown          Unknown           Unknown   \n",
       "\n",
       "     attacker_occupation attacker_religion  \n",
       "2902        Professional    Muslim (Sunni)  \n",
       "2947             Unknown           Unknown  \n",
       "3003             Unknown           Unknown  \n",
       "3004             Unknown           Unknown  \n",
       "3029             Unknown           Unknown  \n",
       "\n",
       "[5 rows x 21 columns]"
      ]
     },
     "execution_count": 25,
     "metadata": {},
     "output_type": "execute_result"
    }
   ],
   "source": [
    "nigeria[nigeria['year']==nigeria['year'].min()]"
   ]
  },
  {
   "cell_type": "markdown",
   "metadata": {},
   "source": [
    "The most attacked group in Nigeria is shown below:"
   ]
  },
  {
   "cell_type": "code",
   "execution_count": 26,
   "metadata": {},
   "outputs": [
    {
     "data": {
      "text/plain": [
       "Civilian     68\n",
       "Security     29\n",
       "Political     5\n",
       "Unknown       1\n",
       "Name: target_type, dtype: int64"
      ]
     },
     "execution_count": 26,
     "metadata": {},
     "output_type": "execute_result"
    }
   ],
   "source": [
    "nigeria['target_type'].value_counts()"
   ]
  },
  {
   "cell_type": "code",
   "execution_count": 27,
   "metadata": {},
   "outputs": [
    {
     "name": "stderr",
     "output_type": "stream",
     "text": [
      "C:\\Users\\DELL\\anaconda3\\lib\\site-packages\\seaborn\\_decorators.py:36: FutureWarning: Pass the following variable as a keyword arg: x. From version 0.12, the only valid positional argument will be `data`, and passing other arguments without an explicit keyword will result in an error or misinterpretation.\n",
      "  warnings.warn(\n"
     ]
    },
    {
     "data": {
      "text/plain": [
       "<AxesSubplot:xlabel='target_type', ylabel='count'>"
      ]
     },
     "execution_count": 27,
     "metadata": {},
     "output_type": "execute_result"
    },
    {
     "data": {
      "image/png": "[encoded data removed]",
      "text/plain": [
       "<Figure size 432x288 with 1 Axes>"
      ]
     },
     "metadata": {},
     "output_type": "display_data"
    }
   ],
   "source": [
    "sns.set_theme(style='darkgrid')\n",
    "sns.countplot(nigeria['target_type'])"
   ]
  },
  {
   "cell_type": "markdown",
   "metadata": {},
   "source": [
    "It is clear that the most targeted group of people are civillians (68 attacks), then security (29 attacks), then politicians (5 attacks)."
   ]
  },
  {
   "cell_type": "markdown",
   "metadata": {},
   "source": [
    "finding out the number of unique places these attacks happened in Nigeia and the number of times it happened:"
   ]
  },
  {
   "cell_type": "code",
   "execution_count": 28,
   "metadata": {},
   "outputs": [
    {
     "data": {
      "text/plain": [
       "27"
      ]
     },
     "execution_count": 28,
     "metadata": {},
     "output_type": "execute_result"
    }
   ],
   "source": [
    "#finding out the number of places (cities) these attacks happened.\n",
    "nigeria['target_location'].nunique()"
   ]
  },
  {
   "cell_type": "code",
   "execution_count": 29,
   "metadata": {
    "scrolled": false
   },
   "outputs": [
    {
     "data": {
      "text/plain": [
       "Nigeria, MaiduguriBorno                  25\n",
       "Nigeria, KanoKano                        14\n",
       "Nigeria, PotiskumYobe                    13\n",
       "Nigeria, GombeGombe                       7\n",
       "Nigeria, KadunaKaduna                     6\n",
       "Nigeria, JosPlateau                       6\n",
       "Nigeria, DamaturuYobe                     5\n",
       "Nigeria, Bauchi BauchiBauchi              3\n",
       "Nigeria, BiuBorno                         3\n",
       "Nigeria, AbujaAbuja Capital Territory     3\n",
       "Nigeria, KondugaBorno                     2\n",
       "Nigeria, LagosLagos                       1\n",
       "Nigeria, GwozaBorno                       1\n",
       "Nigeria, GujbaYobe                        1\n",
       "Nigeria, JalingoTaraba                    1\n",
       "Nigeria, MadallaNiger                     1\n",
       "Nigeria, GarkidaAdamawa                   1\n",
       "Nigeria, AzareBauchi                      1\n",
       "Nigeria, KontagoraNiger                   1\n",
       "Nigeria, YolaAdamawa                      1\n",
       "Nigeria, SokotoSokoto                     1\n",
       "Nigeria, Tashan AladeBorno                1\n",
       "Nigeria, Bale VillageBorno                1\n",
       "Nigeria, Beni SheikBorno                  1\n",
       "Nigeria, NgamduYobe                       1\n",
       "Nigeria, ZariaKaduna                      1\n",
       "Nigeria, DikwaBorno                       1\n",
       "Name: target_location, dtype: int64"
      ]
     },
     "execution_count": 29,
     "metadata": {},
     "output_type": "execute_result"
    }
   ],
   "source": [
    "#cities in which these attacks happened and how many times it occured in these cities\n",
    "location=nigeria['target_location'].value_counts()\n",
    "location"
   ]
  },
  {
   "cell_type": "code",
   "execution_count": 30,
   "metadata": {},
   "outputs": [
    {
     "data": {
      "text/plain": [
       "([<matplotlib.patches.Wedge at 0x6b61730>,\n",
       "  <matplotlib.patches.Wedge at 0x6b61e50>,\n",
       "  <matplotlib.patches.Wedge at 0x6b6c550>,\n",
       "  <matplotlib.patches.Wedge at 0x6b6cc10>,\n",
       "  <matplotlib.patches.Wedge at 0x6b7d310>,\n",
       "  <matplotlib.patches.Wedge at 0x6b7d9d0>,\n",
       "  <matplotlib.patches.Wedge at 0x6b8a0d0>,\n",
       "  <matplotlib.patches.Wedge at 0x6b8a790>,\n",
       "  <matplotlib.patches.Wedge at 0x6b8ae50>,\n",
       "  <matplotlib.patches.Wedge at 0x6b98550>,\n",
       "  <matplotlib.patches.Wedge at 0x6b40340>,\n",
       "  <matplotlib.patches.Wedge at 0x6ba62e0>,\n",
       "  <matplotlib.patches.Wedge at 0x6ba69a0>,\n",
       "  <matplotlib.patches.Wedge at 0x6bb40a0>,\n",
       "  <matplotlib.patches.Wedge at 0x6bb4760>,\n",
       "  <matplotlib.patches.Wedge at 0x6bb4e50>,\n",
       "  <matplotlib.patches.Wedge at 0x6bc2550>,\n",
       "  <matplotlib.patches.Wedge at 0x6bc2c10>,\n",
       "  <matplotlib.patches.Wedge at 0x6bd0310>,\n",
       "  <matplotlib.patches.Wedge at 0x6bd09d0>,\n",
       "  <matplotlib.patches.Wedge at 0x6bdd0d0>,\n",
       "  <matplotlib.patches.Wedge at 0x6bdd790>,\n",
       "  <matplotlib.patches.Wedge at 0x6bdde50>,\n",
       "  <matplotlib.patches.Wedge at 0x6bea550>,\n",
       "  <matplotlib.patches.Wedge at 0x6beac10>,\n",
       "  <matplotlib.patches.Wedge at 0x6bf8310>,\n",
       "  <matplotlib.patches.Wedge at 0x6bf89d0>],\n",
       " [Text(0.9400246923255018, 0.8979719248497392, 'Maiduguri Borno'),\n",
       "  Text(-0.4837188467119198, 1.206654912282584, 'Kano Kano'),\n",
       "  Text(-1.2138912136162132, 0.46526134752992027, 'Potiskum Yobe'),\n",
       "  Text(-1.2614909615363707, -0.3140709377864227, 'Gombe Gombe'),\n",
       "  Text(-1.0423215202056997, -0.7768950048211658, 'Kaduna Kaduna'),\n",
       "  Text(-0.695235193641235, -1.0984753185769058, 'Jos Plateau'),\n",
       "  Text(-0.29479691233630506, -1.26613379248679, 'Damaturu Yobe'),\n",
       "  Text(0.019824782179119663, -1.2998488289072505, 'Biu Borno'),\n",
       "  Text(0.25604750532429427, -1.2745350819091663, 'Abuja FCT'),\n",
       "  Text(0.48371885377286894, -1.2066549094520198, 'Bauchi Bauchi'),\n",
       "  Text(0.6614124915127749, -1.1191664380559594, 'Konduga Borno'),\n",
       "  Text(0.7609094100220744, -1.0540478498340855, 'Yola Adamawa'),\n",
       "  Text(0.823753038363655, -1.0056992253087635, 'Gwoza Borno'),\n",
       "  Text(0.8835322512411867, -0.9536093335410893, 'Zaria Kaduna'),\n",
       "  Text(0.940024666052314, -0.8979719523533215, 'Sokoto Sokoto'),\n",
       "  Text(0.9930201272995905, -0.8389940564616089, 'Bale Village Borno'),\n",
       "  Text(1.0423214883827538, -0.7768950475164331, 'Azare Bauchi'),\n",
       "  Text(1.0877453449970342, -0.71190593791405, 'Beni Sheik Borno'),\n",
       "  Text(1.1291227174092329, -0.6442684914151786, 'Garkida Adamawa'),\n",
       "  Text(1.1662996790734341, -0.5742343237679238, 'Tashan Alade Borno'),\n",
       "  Text(1.1991379292478825, -0.5020639666806418, 'Madalla Niger'),\n",
       "  Text(1.22751530748283, -0.4280258986268628, 'Gujba Yobe'),\n",
       "  Text(1.2513262480654452, -0.35239554608771073, 'Kontagora Niger'),\n",
       "  Text(1.2704821727312041, -0.27545425894728637, 'Jalingo Taraba'),\n",
       "  Text(1.2849118201808574, -0.19748826385260423, 'Lagos Lagos'),\n",
       "  Text(1.2945615111771511, -0.1187875994316382, 'Ngamdu Yobe'),\n",
       "  Text(1.299395348235116, -0.03964503733056441, 'Dikwa Borno')])"
      ]
     },
     "execution_count": 30,
     "metadata": {},
     "output_type": "execute_result"
    },
    {
     "data": {
      "image/png": "[encoded data removed]",
      "text/plain": [
       "<Figure size 720x720 with 1 Axes>"
      ]
     },
     "metadata": {},
     "output_type": "display_data"
    }
   ],
   "source": [
    "lab=('Maiduguri Borno', 'Kano Kano','Potiskum Yobe','Gombe Gombe','Kaduna Kaduna','Jos Plateau','Damaturu Yobe', 'Biu Borno','Abuja FCT', 'Bauchi Bauchi','Konduga Borno','Yola Adamawa','Gwoza Borno','Zaria Kaduna','Sokoto Sokoto','Bale Village Borno','Azare Bauchi','Beni Sheik Borno','Garkida Adamawa','Tashan Alade Borno','Madalla Niger','Gujba Yobe','Kontagora Niger','Jalingo Taraba','Lagos Lagos','Ngamdu Yobe','Dikwa Borno')\n",
    "plt.figure(figsize=(10, 10))\n",
    "exp=[0.2, 0.2,0.2,0.2,0.2,0.2,0.2,0.2,0.2,0.2,0.2,0.2,0.2,0.2,0.2,0.2,0.2,0.2,0.2,0.2,0.2,0.2,0.2,0.2,0.2,0.2,0.2]\n",
    "plt.pie(location, labels=lab,explode=exp, shadow=True)"
   ]
  },
  {
   "cell_type": "markdown",
   "metadata": {},
   "source": [
    "So these attacks happened in 27 unique places in Nigeria, with the highest number of attacks being in Maiduguri (25), Borno (14) and the next being in Kano (13), then Potiskum in Yobe. There must be something in Maiduguri that makes their attacks easily carried out there. This could be that the sect's major place of residence (or headquarters) is Maiduguri, or the supply of weapons are easily gotten in Maiduguri, or the major place of target is simply Maiduguri for some reason, or it could be anything."
   ]
  },
  {
   "cell_type": "code",
   "execution_count": 31,
   "metadata": {},
   "outputs": [
    {
     "data": {
      "text/plain": [
       "Unknown    47\n",
       "Male       29\n",
       "Female     27\n",
       "Name: attackers_gender, dtype: int64"
      ]
     },
     "execution_count": 31,
     "metadata": {},
     "output_type": "execute_result"
    }
   ],
   "source": [
    "nigeria['attackers_gender'].value_counts()"
   ]
  },
  {
   "cell_type": "code",
   "execution_count": 32,
   "metadata": {},
   "outputs": [
    {
     "name": "stderr",
     "output_type": "stream",
     "text": [
      "C:\\Users\\DELL\\anaconda3\\lib\\site-packages\\seaborn\\_decorators.py:36: FutureWarning: Pass the following variable as a keyword arg: x. From version 0.12, the only valid positional argument will be `data`, and passing other arguments without an explicit keyword will result in an error or misinterpretation.\n",
      "  warnings.warn(\n"
     ]
    },
    {
     "data": {
      "text/plain": [
       "<AxesSubplot:xlabel='attackers_gender', ylabel='count'>"
      ]
     },
     "execution_count": 32,
     "metadata": {},
     "output_type": "execute_result"
    },
    {
     "data": {
      "image/png": "[encoded data removed]",
      "text/plain": [
       "<Figure size 432x288 with 1 Axes>"
      ]
     },
     "metadata": {},
     "output_type": "display_data"
    }
   ],
   "source": [
    "sns.set_theme(style='darkgrid')\n",
    "sns.countplot(nigeria['attackers_gender'])"
   ]
  },
  {
   "cell_type": "markdown",
   "metadata": {},
   "source": [
    "From this, it is clear that females are actively involved in these suicide attacks just as males are since 27 of the attacks were perpetuated by females and 29 by males."
   ]
  },
  {
   "cell_type": "code",
   "execution_count": 33,
   "metadata": {},
   "outputs": [
    {
     "data": {
      "text/plain": [
       "Unknown Group    83\n",
       "Boko Haram       20\n",
       "Name: terrorist groups, dtype: int64"
      ]
     },
     "execution_count": 33,
     "metadata": {},
     "output_type": "execute_result"
    }
   ],
   "source": [
    "#Checking the different terrorist groups responsible for the attacks\n",
    "nigeria['terrorist groups'].value_counts()"
   ]
  },
  {
   "cell_type": "markdown",
   "metadata": {},
   "source": [
    "Some attacks are not claimed by any terrorist groups. According to this dataset, Most of these suicide attackers' terrorist groups are unknown. Only 20 of the attacks are clearly stated to be done by Boko Haram. Some people assume that every other attack was perpetuated by them but what if they are wrong? What if some attacks were done by some other terrorist groups in Nigeria?"
   ]
  },
  {
   "cell_type": "code",
   "execution_count": 34,
   "metadata": {},
   "outputs": [
    {
     "data": {
      "text/plain": [
       "Unknown           102\n",
       "Muslim (Sunni)      1\n",
       "Name: attacker_religion, dtype: int64"
      ]
     },
     "execution_count": 34,
     "metadata": {},
     "output_type": "execute_result"
    }
   ],
   "source": [
    "#Checking the religion of these attackers, it is seen that most of the religion are unknown. This is logical as no group will like to identify with these terrorist groups.\n",
    "nigeria['attacker_religion'].value_counts()"
   ]
  },
  {
   "cell_type": "markdown",
   "metadata": {},
   "source": [
    "Finding the Total number of attacks per year"
   ]
  },
  {
   "cell_type": "code",
   "execution_count": 35,
   "metadata": {
    "scrolled": true
   },
   "outputs": [
    {
     "data": {
      "text/plain": [
       "2015    43\n",
       "2014    29\n",
       "2012    23\n",
       "2011     5\n",
       "2013     3\n",
       "Name: year, dtype: int64"
      ]
     },
     "execution_count": 35,
     "metadata": {},
     "output_type": "execute_result"
    }
   ],
   "source": [
    "nigeria['year'].value_counts()"
   ]
  },
  {
   "cell_type": "code",
   "execution_count": 36,
   "metadata": {
    "scrolled": true
   },
   "outputs": [
    {
     "data": {
      "text/plain": [
       "([<matplotlib.axis.XTick at 0x6c77ca0>,\n",
       "  <matplotlib.axis.XTick at 0x6c77c70>,\n",
       "  <matplotlib.axis.XTick at 0x6c92040>,\n",
       "  <matplotlib.axis.XTick at 0x6cab250>,\n",
       "  <matplotlib.axis.XTick at 0x6cab760>],\n",
       " [Text(0, 0, ''),\n",
       "  Text(0, 0, ''),\n",
       "  Text(0, 0, ''),\n",
       "  Text(0, 0, ''),\n",
       "  Text(0, 0, '')])"
      ]
     },
     "execution_count": 36,
     "metadata": {},
     "output_type": "execute_result"
    },
    {
     "data": {
      "image/png": "[encoded data removed]",
      "text/plain": [
       "<Figure size 432x288 with 1 Axes>"
      ]
     },
     "metadata": {},
     "output_type": "display_data"
    }
   ],
   "source": [
    "sns.set_theme(style='darkgrid')\n",
    "sns.lineplot(data=nigeria['year'].value_counts(), marker='o')\n",
    "plt.xlabel('Year')\n",
    "plt.ylabel('Number of attacks')\n",
    "xaxis=[2011, 2012, 2013, 2014, 2015]\n",
    "plt.xticks(xaxis)"
   ]
  },
  {
   "cell_type": "markdown",
   "metadata": {},
   "source": [
    "searching for the attack with the highest number of casualties"
   ]
  },
  {
   "cell_type": "code",
   "execution_count": 37,
   "metadata": {},
   "outputs": [
    {
     "data": {
      "text/html": [
       "<div>\n",
       "<style scoped>\n",
       "    .dataframe tbody tr th:only-of-type {\n",
       "        vertical-align: middle;\n",
       "    }\n",
       "\n",
       "    .dataframe tbody tr th {\n",
       "        vertical-align: top;\n",
       "    }\n",
       "\n",
       "    .dataframe thead th {\n",
       "        text-align: right;\n",
       "    }\n",
       "</style>\n",
       "<table border=\"1\" class=\"dataframe\">\n",
       "  <thead>\n",
       "    <tr style=\"text-align: right;\">\n",
       "      <th></th>\n",
       "      <th>terrorist groups</th>\n",
       "      <th>attacker_age</th>\n",
       "      <th>campaign_name</th>\n",
       "      <th>campaign_sides</th>\n",
       "      <th>day</th>\n",
       "      <th>month</th>\n",
       "      <th>year</th>\n",
       "      <th>no_killed</th>\n",
       "      <th>no_wounded</th>\n",
       "      <th>target_country</th>\n",
       "      <th>...</th>\n",
       "      <th>target_name</th>\n",
       "      <th>target_type</th>\n",
       "      <th>target_weapon</th>\n",
       "      <th>attackers_birth_location</th>\n",
       "      <th>attackers_birth_year</th>\n",
       "      <th>attackers_education</th>\n",
       "      <th>attackers_gender</th>\n",
       "      <th>attackers_marital</th>\n",
       "      <th>attacker_occupation</th>\n",
       "      <th>attacker_religion</th>\n",
       "    </tr>\n",
       "  </thead>\n",
       "  <tbody>\n",
       "    <tr>\n",
       "      <th>4267</th>\n",
       "      <td>Unknown Group</td>\n",
       "      <td>-1</td>\n",
       "      <td>Rebels vs. Nigeria &amp; Allies</td>\n",
       "      <td>Rebels,Nigeria &amp; Allies</td>\n",
       "      <td>28</td>\n",
       "      <td>11</td>\n",
       "      <td>2014</td>\n",
       "      <td>120</td>\n",
       "      <td>270</td>\n",
       "      <td>Nigeria</td>\n",
       "      <td>...</td>\n",
       "      <td>Grand Mosque of Kano</td>\n",
       "      <td>Civilian</td>\n",
       "      <td>Belt bomb</td>\n",
       "      <td>Unknown</td>\n",
       "      <td>-1</td>\n",
       "      <td>Unknown</td>\n",
       "      <td>Unknown</td>\n",
       "      <td>Unknown</td>\n",
       "      <td>Unknown</td>\n",
       "      <td>Unknown</td>\n",
       "    </tr>\n",
       "  </tbody>\n",
       "</table>\n",
       "<p>1 rows × 21 columns</p>\n",
       "</div>"
      ],
      "text/plain": [
       "     terrorist groups  attacker_age                campaign_name  \\\n",
       "4267    Unknown Group            -1  Rebels vs. Nigeria & Allies   \n",
       "\n",
       "               campaign_sides  day  month  year  no_killed  no_wounded  \\\n",
       "4267  Rebels,Nigeria & Allies   28     11  2014        120         270   \n",
       "\n",
       "     target_country  ...           target_name target_type target_weapon  \\\n",
       "4267        Nigeria  ...  Grand Mosque of Kano    Civilian     Belt bomb   \n",
       "\n",
       "     attackers_birth_location attackers_birth_year  attackers_education  \\\n",
       "4267                  Unknown                   -1              Unknown   \n",
       "\n",
       "     attackers_gender attackers_marital attacker_occupation attacker_religion  \n",
       "4267          Unknown           Unknown             Unknown           Unknown  \n",
       "\n",
       "[1 rows x 21 columns]"
      ]
     },
     "execution_count": 37,
     "metadata": {},
     "output_type": "execute_result"
    }
   ],
   "source": [
    "nigeria[nigeria['no_wounded']==nigeria['no_wounded'].max()]"
   ]
  },
  {
   "cell_type": "code",
   "execution_count": 38,
   "metadata": {},
   "outputs": [
    {
     "data": {
      "text/html": [
       "<div>\n",
       "<style scoped>\n",
       "    .dataframe tbody tr th:only-of-type {\n",
       "        vertical-align: middle;\n",
       "    }\n",
       "\n",
       "    .dataframe tbody tr th {\n",
       "        vertical-align: top;\n",
       "    }\n",
       "\n",
       "    .dataframe thead th {\n",
       "        text-align: right;\n",
       "    }\n",
       "</style>\n",
       "<table border=\"1\" class=\"dataframe\">\n",
       "  <thead>\n",
       "    <tr style=\"text-align: right;\">\n",
       "      <th></th>\n",
       "      <th>terrorist groups</th>\n",
       "      <th>attacker_age</th>\n",
       "      <th>campaign_name</th>\n",
       "      <th>campaign_sides</th>\n",
       "      <th>day</th>\n",
       "      <th>month</th>\n",
       "      <th>year</th>\n",
       "      <th>no_killed</th>\n",
       "      <th>no_wounded</th>\n",
       "      <th>target_country</th>\n",
       "      <th>...</th>\n",
       "      <th>target_name</th>\n",
       "      <th>target_type</th>\n",
       "      <th>target_weapon</th>\n",
       "      <th>attackers_birth_location</th>\n",
       "      <th>attackers_birth_year</th>\n",
       "      <th>attackers_education</th>\n",
       "      <th>attackers_gender</th>\n",
       "      <th>attackers_marital</th>\n",
       "      <th>attacker_occupation</th>\n",
       "      <th>attacker_religion</th>\n",
       "    </tr>\n",
       "  </thead>\n",
       "  <tbody>\n",
       "    <tr>\n",
       "      <th>4267</th>\n",
       "      <td>Unknown Group</td>\n",
       "      <td>-1</td>\n",
       "      <td>Rebels vs. Nigeria &amp; Allies</td>\n",
       "      <td>Rebels,Nigeria &amp; Allies</td>\n",
       "      <td>28</td>\n",
       "      <td>11</td>\n",
       "      <td>2014</td>\n",
       "      <td>120</td>\n",
       "      <td>270</td>\n",
       "      <td>Nigeria</td>\n",
       "      <td>...</td>\n",
       "      <td>Grand Mosque of Kano</td>\n",
       "      <td>Civilian</td>\n",
       "      <td>Belt bomb</td>\n",
       "      <td>Unknown</td>\n",
       "      <td>-1</td>\n",
       "      <td>Unknown</td>\n",
       "      <td>Unknown</td>\n",
       "      <td>Unknown</td>\n",
       "      <td>Unknown</td>\n",
       "      <td>Unknown</td>\n",
       "    </tr>\n",
       "  </tbody>\n",
       "</table>\n",
       "<p>1 rows × 21 columns</p>\n",
       "</div>"
      ],
      "text/plain": [
       "     terrorist groups  attacker_age                campaign_name  \\\n",
       "4267    Unknown Group            -1  Rebels vs. Nigeria & Allies   \n",
       "\n",
       "               campaign_sides  day  month  year  no_killed  no_wounded  \\\n",
       "4267  Rebels,Nigeria & Allies   28     11  2014        120         270   \n",
       "\n",
       "     target_country  ...           target_name target_type target_weapon  \\\n",
       "4267        Nigeria  ...  Grand Mosque of Kano    Civilian     Belt bomb   \n",
       "\n",
       "     attackers_birth_location attackers_birth_year  attackers_education  \\\n",
       "4267                  Unknown                   -1              Unknown   \n",
       "\n",
       "     attackers_gender attackers_marital attacker_occupation attacker_religion  \n",
       "4267          Unknown           Unknown             Unknown           Unknown  \n",
       "\n",
       "[1 rows x 21 columns]"
      ]
     },
     "execution_count": 38,
     "metadata": {},
     "output_type": "execute_result"
    }
   ],
   "source": [
    "nigeria[nigeria['no_killed']==nigeria['no_killed'].max()]"
   ]
  },
  {
   "cell_type": "markdown",
   "metadata": {},
   "source": [
    "For Nigeria, the same suicide attack yielded the highest number of wounded and killed. This was the suicide attack in a mosque in Kano in 2014 (November 28th) and the target group were civillians."
   ]
  },
  {
   "cell_type": "code",
   "execution_count": 39,
   "metadata": {},
   "outputs": [
    {
     "data": {
      "text/plain": [
       "year\n",
       "2011     78\n",
       "2012    183\n",
       "2013     54\n",
       "2014    573\n",
       "2015    459\n",
       "Name: no_killed, dtype: int64"
      ]
     },
     "execution_count": 39,
     "metadata": {},
     "output_type": "execute_result"
    }
   ],
   "source": [
    "#sum of casualties per year (killed)\n",
    "nigeria.groupby('year')['no_killed'].sum()"
   ]
  },
  {
   "cell_type": "code",
   "execution_count": 40,
   "metadata": {
    "scrolled": true
   },
   "outputs": [
    {
     "data": {
      "text/plain": [
       "year\n",
       "2011     144\n",
       "2012     642\n",
       "2013      85\n",
       "2014    1013\n",
       "2015     842\n",
       "Name: no_wounded, dtype: int64"
      ]
     },
     "execution_count": 40,
     "metadata": {},
     "output_type": "execute_result"
    }
   ],
   "source": [
    "#sum of casualties per year (wounded)\n",
    "nigeria.groupby('year')['no_wounded'].sum()"
   ]
  },
  {
   "cell_type": "code",
   "execution_count": 41,
   "metadata": {},
   "outputs": [],
   "source": [
    "#Graph of casualties per year"
   ]
  },
  {
   "cell_type": "code",
   "execution_count": 42,
   "metadata": {
    "scrolled": true
   },
   "outputs": [
    {
     "data": {
      "text/plain": [
       "<matplotlib.legend.Legend at 0x6c06c10>"
      ]
     },
     "execution_count": 42,
     "metadata": {},
     "output_type": "execute_result"
    },
    {
     "data": {
      "image/png": "[encoded data removed]",
      "text/plain": [
       "<Figure size 432x288 with 1 Axes>"
      ]
     },
     "metadata": {},
     "output_type": "display_data"
    }
   ],
   "source": [
    "sns.set_theme(style='darkgrid')\n",
    "sns.lineplot(data=nigeria.groupby('year')['no_killed'].sum(), marker='o')\n",
    "sns.lineplot(data=nigeria.groupby('year')['no_wounded'].sum(), marker='o')\n",
    "plt.xlabel('Year')\n",
    "plt.ylabel('Number of attacks')\n",
    "xaxis=[2011, 2012, 2013, 2014, 2015]\n",
    "plt.xticks(xaxis)\n",
    "plt.legend(labels=['number of killed', 'number of wounded'])"
   ]
  },
  {
   "cell_type": "markdown",
   "metadata": {},
   "source": [
    "Target Weapon: These terrorist must have found the easiest mode to cary out their attacks. Below we search for the most frequently used weapon of attack"
   ]
  },
  {
   "cell_type": "code",
   "execution_count": 43,
   "metadata": {},
   "outputs": [
    {
     "data": {
      "text/plain": [
       "Belt bomb          56\n",
       "Car bomb           36\n",
       "Motorcycle bomb     6\n",
       "Backpack bomb       2\n",
       "Truck bomb          2\n",
       "Cart bomb           1\n",
       "Name: target_weapon, dtype: int64"
      ]
     },
     "execution_count": 43,
     "metadata": {},
     "output_type": "execute_result"
    }
   ],
   "source": [
    "nigeria['target_weapon'].value_counts()"
   ]
  },
  {
   "cell_type": "markdown",
   "metadata": {},
   "source": [
    "It is seen that most weapon of attack was the belt bomb. This shows that it was easier to go unnoticed with a belt bomb than other form of weapon. The next easiest form was car bomb. No wonder religious places and social gatherings took alot of precautions when it came to ensuring that cars be parked a distance away from the places of worship and social gatherings. But i don't think alot of precaution was taken for belt bombs because people were barely bodily searched... but this is my opinion."
   ]
  },
  {
   "cell_type": "code",
   "execution_count": 44,
   "metadata": {
    "scrolled": true
   },
   "outputs": [
    {
     "name": "stderr",
     "output_type": "stream",
     "text": [
      "C:\\Users\\DELL\\anaconda3\\lib\\site-packages\\seaborn\\_decorators.py:36: FutureWarning: Pass the following variable as a keyword arg: x. From version 0.12, the only valid positional argument will be `data`, and passing other arguments without an explicit keyword will result in an error or misinterpretation.\n",
      "  warnings.warn(\n"
     ]
    },
    {
     "data": {
      "text/plain": [
       "<AxesSubplot:xlabel='target_weapon', ylabel='count'>"
      ]
     },
     "execution_count": 44,
     "metadata": {},
     "output_type": "execute_result"
    },
    {
     "data": {
      "image/png": "[encoded data removed]",
      "text/plain": [
       "<Figure size 648x432 with 1 Axes>"
      ]
     },
     "metadata": {},
     "output_type": "display_data"
    }
   ],
   "source": [
    "#plotting the graph showing the number of target weapon used per attack\n",
    "plt.figure(figsize=(9, 6))\n",
    "sns.countplot(nigeria['target_weapon'])"
   ]
  },
  {
   "cell_type": "markdown",
   "metadata": {},
   "source": [
    "Total number of people killed and wounded from 2011 to 2015."
   ]
  },
  {
   "cell_type": "code",
   "execution_count": 45,
   "metadata": {},
   "outputs": [
    {
     "data": {
      "text/plain": [
       "2726"
      ]
     },
     "execution_count": 45,
     "metadata": {},
     "output_type": "execute_result"
    }
   ],
   "source": [
    "#Total Number wounded\n",
    "nigeria['no_wounded'].sum()"
   ]
  },
  {
   "cell_type": "code",
   "execution_count": 46,
   "metadata": {},
   "outputs": [
    {
     "data": {
      "text/plain": [
       "1347"
      ]
     },
     "execution_count": 46,
     "metadata": {},
     "output_type": "execute_result"
    }
   ],
   "source": [
    "#Total Number killed\n",
    "nigeria['no_killed'].sum()"
   ]
  },
  {
   "cell_type": "code",
   "execution_count": null,
   "metadata": {},
   "outputs": [],
   "source": []
  },
  {
   "cell_type": "code",
   "execution_count": null,
   "metadata": {},
   "outputs": [],
   "source": [
    "\n"
   ]
  },
  {
   "cell_type": "code",
   "execution_count": null,
   "metadata": {},
   "outputs": [],
   "source": []
  },
  {
   "cell_type": "code",
   "execution_count": null,
   "metadata": {
    "scrolled": false
   },
   "outputs": [],
   "source": []
  },
  {
   "cell_type": "code",
   "execution_count": null,
   "metadata": {},
   "outputs": [],
   "source": []
  },
  {
   "cell_type": "code",
   "execution_count": null,
   "metadata": {},
   "outputs": [],
   "source": []
  }
 ],
 "metadata": {
  "kernelspec": {
   "display_name": "Python 3",
   "language": "python",
   "name": "python3"
  },
  "language_info": {
   "codemirror_mode": {
    "name": "ipython",
    "version": 3
   },
   "file_extension": ".py",
   "mimetype": "text/x-python",
   "name": "python",
   "nbconvert_exporter": "python",
   "pygments_lexer": "ipython3",
   "version": "3.8.8"
  }
 },
 "nbformat": 4,
 "nbformat_minor": 4
}
